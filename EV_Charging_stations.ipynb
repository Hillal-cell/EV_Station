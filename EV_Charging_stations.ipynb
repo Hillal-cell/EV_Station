{
 "cells": [
  {
   "cell_type": "code",
   "execution_count": 179,
   "metadata": {},
   "outputs": [],
   "source": [
    "# EV charging stations\n",
    "\n",
    "\n",
    "import pandas as pd\n",
    "\n",
    "# Load the dataset\n",
    "df = pd.read_csv(r'EV_Stations_data.csv')"
   ]
  },
  {
   "cell_type": "code",
   "execution_count": 180,
   "metadata": {},
   "outputs": [
    {
     "name": "stdout",
     "output_type": "stream",
     "text": [
      "<class 'pandas.core.frame.DataFrame'>\n",
      "RangeIndex: 385 entries, 0 to 384\n",
      "Data columns (total 9 columns):\n",
      " #   Column                    Non-Null Count  Dtype \n",
      "---  ------                    --------------  ----- \n",
      " 0   Station Name              385 non-null    object\n",
      " 1   Street Address            385 non-null    object\n",
      " 2   City                      385 non-null    object\n",
      " 3   Access Days Time          385 non-null    object\n",
      " 4   EV Level1 EVSE Num        385 non-null    object\n",
      " 5   EV Level2 EVSE Num        385 non-null    object\n",
      " 6   EV DC Fast Count          385 non-null    object\n",
      " 7   EV Other Info             385 non-null    object\n",
      " 8   New Georeferenced Column  385 non-null    object\n",
      "dtypes: object(9)\n",
      "memory usage: 27.2+ KB\n",
      "None\n",
      "                                Station Name Street Address      City Access Days Time EV Level1 EVSE Num EV Level2 EVSE Num EV DC Fast Count EV Other Info      New Georeferenced Column\n",
      "count                                    385            385       385              385                385                385              385           385                           385\n",
      "unique                                   361            365       119               53                  5                 14               10             3                           384\n",
      "top     Western Connecticut State University   495 Union St  Stamford   24 hours daily               NONE                  2             NONE          NONE  POINT (-72.489406 41.983904)\n",
      "freq                                       4              4        21              222                376                179              331           383                             2\n",
      "                          Station Name          Street Address          City                    Access Days Time EV Level1 EVSE Num EV Level2 EVSE Num EV DC Fast Count EV Other Info              New Georeferenced Column\n",
      "0                        BMW OF DARIEN        138-142 Ledge Rd        Darien                      24 hours daily               NONE                  2             NONE          NONE         POINT (-73.4764687 41.072882)\n",
      "1         Dunkin’ - Tesla Supercharger           893 E Main St       Meriden  24 hours daily; for Tesla use only               NONE               NONE                8          NONE          POINT (-72.773473 41.527367)\n",
      "2  Town of Beacon Falls - Commuter Lot           105 N Main St  Beacon Falls                      24 hours daily               NONE                  1             NONE          NONE  POINT (-73.065583 41.44548100000001)\n",
      "3                      OLD SAYBROOK VW  319 Middlesex Turnpike  Old Saybrook                      24 hours daily               NONE                  2             NONE          NONE           POINT (-72.3825 41.3102778)\n",
      "4               Fairfield Rail Station        80 Mill Plain Rd     Fairfield                      24 hours daily               NONE                  2             NONE          NONE          POINT (-73.264511 41.143125)\n"
     ]
    }
   ],
   "source": [
    "# Explore data set and identifying potential features\n",
    "print(df.info())\n",
    "print(df.describe().to_string())\n",
    "print(df.head(5).to_string()) \n"
   ]
  },
  {
   "cell_type": "code",
   "execution_count": 181,
   "metadata": {},
   "outputs": [
    {
     "name": "stdout",
     "output_type": "stream",
     "text": [
      "                          Missing Values  Percentage\n",
      "Station Name                           0         0.0\n",
      "Street Address                         0         0.0\n",
      "City                                   0         0.0\n",
      "Access Days Time                       0         0.0\n",
      "EV Level1 EVSE Num                     0         0.0\n",
      "EV Level2 EVSE Num                     0         0.0\n",
      "EV DC Fast Count                       0         0.0\n",
      "EV Other Info                          0         0.0\n",
      "New Georeferenced Column               0         0.0\n"
     ]
    }
   ],
   "source": [
    "# Identify missing values\n",
    "\n",
    "missing_values = df.isnull().sum()\n",
    "total_values = df.shape[0]\n",
    "missing_percentage = (missing_values / total_values) * 100\n",
    "\n",
    "missing_info = pd.DataFrame({\n",
    "    'Missing Values': missing_values,\n",
    "    'Percentage': missing_percentage\n",
    "})\n",
    "print(missing_info)\n"
   ]
  },
  {
   "cell_type": "code",
   "execution_count": 182,
   "metadata": {},
   "outputs": [
    {
     "name": "stdout",
     "output_type": "stream",
     "text": [
      "Index(['Station Name', 'Street Address', 'City', 'Access Days Time',\n",
      "       'EV Level1 EVSE Num', 'EV Level2 EVSE Num', 'EV DC Fast Count',\n",
      "       'EV Other Info', 'New Georeferenced Column'],\n",
      "      dtype='object')\n",
      "                          Station Name          Street Address          City                    Access Days Time EV Level1 EVSE Num EV Level2 EVSE Num EV DC Fast Count EV Other Info              New Georeferenced Column\n",
      "0                        BMW OF DARIEN        138-142 Ledge Rd        Darien                      24 hours daily               NONE                  2             NONE          NONE         POINT (-73.4764687 41.072882)\n",
      "1         Dunkin’ - Tesla Supercharger           893 E Main St       Meriden  24 hours daily; for Tesla use only               NONE               NONE                8          NONE          POINT (-72.773473 41.527367)\n",
      "2  Town of Beacon Falls - Commuter Lot           105 N Main St  Beacon Falls                      24 hours daily               NONE                  1             NONE          NONE  POINT (-73.065583 41.44548100000001)\n",
      "3                      OLD SAYBROOK VW  319 Middlesex Turnpike  Old Saybrook                      24 hours daily               NONE                  2             NONE          NONE           POINT (-72.3825 41.3102778)\n",
      "4               Fairfield Rail Station        80 Mill Plain Rd     Fairfield                      24 hours daily               NONE                  2             NONE          NONE          POINT (-73.264511 41.143125)\n",
      "\n",
      "Index(['Station_Name', 'Street_Address', 'City', 'Access_Days_Time',\n",
      "       'EV_Level1_EVSE_Num', 'EV_Level2_EVSE_Num', 'EV_DC_Fast_Count',\n",
      "       'EV_Other_Info', 'New_Georeferenced_Column'],\n",
      "      dtype='object')\n",
      "                          Station_Name          Street_Address          City                    Access_Days_Time EV_Level1_EVSE_Num EV_Level2_EVSE_Num EV_DC_Fast_Count EV_Other_Info              New_Georeferenced_Column\n",
      "0                        BMW OF DARIEN        138-142 Ledge Rd        Darien                      24 hours daily               NONE                  2             NONE          NONE         POINT (-73.4764687 41.072882)\n",
      "1         Dunkin’ - Tesla Supercharger           893 E Main St       Meriden  24 hours daily; for Tesla use only               NONE               NONE                8          NONE          POINT (-72.773473 41.527367)\n",
      "2  Town of Beacon Falls - Commuter Lot           105 N Main St  Beacon Falls                      24 hours daily               NONE                  1             NONE          NONE  POINT (-73.065583 41.44548100000001)\n",
      "3                      OLD SAYBROOK VW  319 Middlesex Turnpike  Old Saybrook                      24 hours daily               NONE                  2             NONE          NONE           POINT (-72.3825 41.3102778)\n",
      "4               Fairfield Rail Station        80 Mill Plain Rd     Fairfield                      24 hours daily               NONE                  2             NONE          NONE          POINT (-73.264511 41.143125)\n"
     ]
    }
   ],
   "source": [
    "# Column renaming (Whitespaces)\n",
    "def col_rename(df):\n",
    "  # Using list comprehension to create a new column list with replaced names\n",
    "  df.columns = [col.replace(' ', '_') for col in df.columns]\n",
    "  return df\n",
    "\n",
    "newdf = col_rename(df.copy())\n",
    "\n",
    "# newdf is copy of dataset where we shall be making changes\n",
    "print(df.columns)\n",
    "print(df.head(5).to_string())\n",
    "print()\n",
    "print(newdf.columns)\n",
    "print(newdf.head(5).to_string())"
   ]
  },
  {
   "cell_type": "code",
   "execution_count": 183,
   "metadata": {},
   "outputs": [
    {
     "name": "stdout",
     "output_type": "stream",
     "text": [
      "                          Station_Name          Street_Address          City                    Access_Days_Time  EV_Level1_EVSE_Num  EV_Level2_EVSE_Num  EV_DC_Fast_Count EV_Other_Info              New_Georeferenced_Column\n",
      "0                        BMW OF DARIEN        138-142 Ledge Rd        Darien                      24 hours daily                   0                   2                 0          NONE         POINT (-73.4764687 41.072882)\n",
      "1         Dunkin’ - Tesla Supercharger           893 E Main St       Meriden  24 hours daily; for Tesla use only                   0                   0                 8          NONE          POINT (-72.773473 41.527367)\n",
      "2  Town of Beacon Falls - Commuter Lot           105 N Main St  Beacon Falls                      24 hours daily                   0                   1                 0          NONE  POINT (-73.065583 41.44548100000001)\n",
      "3                      OLD SAYBROOK VW  319 Middlesex Turnpike  Old Saybrook                      24 hours daily                   0                   2                 0          NONE           POINT (-72.3825 41.3102778)\n",
      "4               Fairfield Rail Station        80 Mill Plain Rd     Fairfield                      24 hours daily                   0                   2                 0          NONE          POINT (-73.264511 41.143125)\n",
      "<class 'pandas.core.frame.DataFrame'>\n",
      "RangeIndex: 385 entries, 0 to 384\n",
      "Data columns (total 9 columns):\n",
      " #   Column                    Non-Null Count  Dtype \n",
      "---  ------                    --------------  ----- \n",
      " 0   Station_Name              385 non-null    object\n",
      " 1   Street_Address            385 non-null    object\n",
      " 2   City                      385 non-null    object\n",
      " 3   Access_Days_Time          385 non-null    object\n",
      " 4   EV_Level1_EVSE_Num        385 non-null    int64 \n",
      " 5   EV_Level2_EVSE_Num        385 non-null    int64 \n",
      " 6   EV_DC_Fast_Count          385 non-null    int64 \n",
      " 7   EV_Other_Info             385 non-null    object\n",
      " 8   New_Georeferenced_Column  385 non-null    object\n",
      "dtypes: int64(3), object(6)\n",
      "memory usage: 27.2+ KB\n",
      "None\n"
     ]
    }
   ],
   "source": [
    "import numpy as np\n",
    "# changing values 'NONE' in columns to be represented by 0\n",
    "# newdf= newdf.replace('NONE','0')\n",
    "newdf['EV_Level1_EVSE_Num'] = newdf['EV_Level1_EVSE_Num'].replace('NONE', 0).astype(np.int64)\n",
    "newdf['EV_Level2_EVSE_Num'] = newdf['EV_Level2_EVSE_Num'].replace('NONE', 0).astype(np.int64)\n",
    "newdf['EV_DC_Fast_Count'] = newdf['EV_DC_Fast_Count'].replace('NONE', 0).astype(np.int64)\n",
    "\n",
    "\n",
    "print(newdf.head(5).to_string())\n",
    "print(newdf.info())"
   ]
  },
  {
   "cell_type": "code",
   "execution_count": 184,
   "metadata": {},
   "outputs": [
    {
     "name": "stdout",
     "output_type": "stream",
     "text": [
      "<class 'pandas.core.frame.DataFrame'>\n",
      "RangeIndex: 385 entries, 0 to 384\n",
      "Data columns (total 9 columns):\n",
      " #   Column                    Non-Null Count  Dtype \n",
      "---  ------                    --------------  ----- \n",
      " 0   Station_Name              385 non-null    object\n",
      " 1   Street_Address            385 non-null    object\n",
      " 2   City                      385 non-null    object\n",
      " 3   Access_Days_Time          385 non-null    object\n",
      " 4   EV_Level1_EVSE_Num        385 non-null    int64 \n",
      " 5   EV_Level2_EVSE_Num        385 non-null    int64 \n",
      " 6   EV_DC_Fast_Count          385 non-null    int64 \n",
      " 7   EV_Other_Info             385 non-null    object\n",
      " 8   New_Georeferenced_Column  385 non-null    object\n",
      "dtypes: int64(3), object(6)\n",
      "memory usage: 27.2+ KB\n",
      "None\n"
     ]
    }
   ],
   "source": [
    "# changing datatype from object to integers\n",
    "\n",
    "try:\n",
    "  for col in ['EV_Level1_EVSE_Num', 'EV_Level2_EVSE_Num', 'EV_DC_Fast_Count']:\n",
    "    newdf[col] = pd.to_numeric(newdf[col], errors='coerce')  # Handle conversion errors\n",
    "    \n",
    "except:\n",
    "  pass \n",
    "\n",
    "print(newdf.info())"
   ]
  },
  {
   "cell_type": "code",
   "execution_count": 185,
   "metadata": {},
   "outputs": [],
   "source": [
    "# changing other column data types to string\n",
    "\n",
    "# # Convert specified columns to string\n",
    "# column_strings = ['Station_Name', 'Street_Address', 'City']  \n",
    "# try:\n",
    "#     newdf[column_strings] = newdf[column_strings].astype(str)\n",
    "# except (KeyError, TypeError) as e:  # Handle potential errors\n",
    "#     print(f\"Error during conversion: {e}\")\n",
    "# print(newdf.dtypes)\n",
    "\n"
   ]
  },
  {
   "cell_type": "code",
   "execution_count": 186,
   "metadata": {},
   "outputs": [
    {
     "name": "stdout",
     "output_type": "stream",
     "text": [
      "       EV_Level1_EVSE_Num  EV_Level2_EVSE_Num  EV_DC_Fast_Count\n",
      "count          385.000000          385.000000        385.000000\n",
      "mean             0.054545            2.036364          0.597403\n",
      "std              0.489085            1.845244          2.131484\n",
      "min              0.000000            0.000000          0.000000\n",
      "25%              0.000000            1.000000          0.000000\n",
      "50%              0.000000            2.000000          0.000000\n",
      "75%              0.000000            2.000000          0.000000\n",
      "max              8.000000           17.000000         16.000000\n",
      "<class 'pandas.core.frame.DataFrame'>\n",
      "RangeIndex: 385 entries, 0 to 384\n",
      "Data columns (total 9 columns):\n",
      " #   Column                    Non-Null Count  Dtype \n",
      "---  ------                    --------------  ----- \n",
      " 0   Station_Name              385 non-null    object\n",
      " 1   Street_Address            385 non-null    object\n",
      " 2   City                      385 non-null    object\n",
      " 3   Access_Days_Time          385 non-null    object\n",
      " 4   EV_Level1_EVSE_Num        385 non-null    int64 \n",
      " 5   EV_Level2_EVSE_Num        385 non-null    int64 \n",
      " 6   EV_DC_Fast_Count          385 non-null    int64 \n",
      " 7   EV_Other_Info             385 non-null    object\n",
      " 8   New_Georeferenced_Column  385 non-null    object\n",
      "dtypes: int64(3), object(6)\n",
      "memory usage: 27.2+ KB\n",
      "None\n"
     ]
    }
   ],
   "source": [
    "print(newdf.describe())\n",
    "print(newdf.info())\n"
   ]
  },
  {
   "cell_type": "code",
   "execution_count": 187,
   "metadata": {},
   "outputs": [
    {
     "data": {
      "image/png": "[encoded data removed]",
      "text/plain": [
       "<Figure size 600x600 with 1 Axes>"
      ]
     },
     "metadata": {},
     "output_type": "display_data"
    }
   ],
   "source": [
    "\n",
    "# Piechart representing the total distribution of charger types.\n",
    "\n",
    "import pandas as pd\n",
    "import folium\n",
    "from folium.plugins import HeatMap\n",
    "import matplotlib.pyplot as plt\n",
    "import seaborn as sns\n",
    "\n",
    "\n",
    "# Charging Level Distribution (Pie Chart)\n",
    "level1_count = newdf['EV_Level1_EVSE_Num'].sum()\n",
    "level2_count = newdf['EV_Level2_EVSE_Num'].sum()\n",
    "dc_fast_count = newdf['EV_DC_Fast_Count'].sum()\n",
    "\n",
    "counts = [level1_count, level2_count, dc_fast_count]\n",
    "labels = ['Level 1', 'Level 2', 'DC Fast Charging']\n",
    "colors = ['gold', 'lightblue', 'lightgreen']\n",
    "explode = (0.1, 0, 0)\n",
    "\n",
    "# Create a pie chart using Matplotlib\n",
    "plt.figure(figsize=(6, 6))  \n",
    "plt.pie(counts, explode=explode, labels=labels, colors=colors, autopct='%1.1f%%',\n",
    "        shadow=True, startangle=150)  # Customize labels and appearance\n",
    "\n",
    "\n",
    "plt.title('Distribution of Charger Types', pad=20)\n",
    "plt.axis('equal')  # Equal aspect ratio for a circular pie chart\n",
    "plt.show()"
   ]
  },
  {
   "cell_type": "markdown",
   "metadata": {},
   "source": [
    "The pie chart shows the distribution of different types of EV chargers:\n",
    "\n",
    "Level 1 Chargers: Basic chargers, typically used at home or in places where vehicles are parked for long periods.\n",
    "\n",
    "Level 2 Chargers: Faster chargers, commonly found in public places such as shopping centers, workplaces, and parking garages.\n",
    "\n",
    "DC Fast Chargers: High-speed chargers, ideal for quick charging at locations such as highway rest stops and commercial charging stations."
   ]
  },
  {
   "cell_type": "code",
   "execution_count": 188,
   "metadata": {},
   "outputs": [],
   "source": [
    "import folium\n",
    "from folium.plugins import HeatMap\n",
    "import re\n",
    "\n",
    "# Function to extract latitude and longitude from 'New Georeferenced Column'\n",
    "def extract_lat_lon(geo_str):\n",
    "    match = re.search(r'POINT \\(([-\\d.]+) ([-\\d.]+)\\)', geo_str)\n",
    "    if match:\n",
    "        lon, lat = match.groups()\n",
    "        return float(lat), float(lon)\n",
    "    return None, None\n",
    "\n",
    "# Apply the function to create separate 'Latitude' and 'Longitude' columns\n",
    "df['Latitude'], df['Longitude'] = zip(*df['New Georeferenced Column'].apply(extract_lat_lon))\n",
    "\n",
    "# Convert relevant columns to numeric values\n",
    "df['EV DC Fast Count'] = pd.to_numeric(df['EV DC Fast Count'], errors='coerce').fillna(0).astype(int)\n",
    "df['EV Level2 EVSE Num'] = pd.to_numeric(df['EV Level2 EVSE Num'], errors='coerce').fillna(0).astype(int)\n",
    "df['EV Level1 EVSE Num'] = pd.to_numeric(df['EV Level1 EVSE Num'], errors='coerce').fillna(0).astype(int)\n",
    "\n",
    "# Define a color map for different levels\n",
    "def get_marker_color(row):\n",
    "    if row['EV DC Fast Count'] > 0:\n",
    "        return 'red'\n",
    "    elif row['EV Level2 EVSE Num'] > 0:\n",
    "        return 'blue'\n",
    "    elif row['EV Level1 EVSE Num'] > 0:\n",
    "        return 'green'\n",
    "    else:\n",
    "        return 'gray'\n",
    "\n",
    "# Create a map centered around an average location\n",
    "map_center = [df['Latitude'].mean(), df['Longitude'].mean()]\n",
    "m = folium.Map(location=map_center, zoom_start=10)\n",
    "\n",
    "# Add charging stations to the map\n",
    "for idx, row in df.iterrows():\n",
    "    marker_color = get_marker_color(row)\n",
    "    folium.Marker(\n",
    "        location=[row['Latitude'], row['Longitude']],\n",
    "        popup=row['Station Name'],\n",
    "        tooltip=f\"{row['City']} - Level1: {row['EV Level1 EVSE Num']}, Level2: {row['EV Level2 EVSE Num']}, DC Fast: {row['EV DC Fast Count']}\",\n",
    "        icon=folium.Icon(color=marker_color,icon_size=(18, 18),  icon='circle')\n",
    "    ).add_to(m)\n",
    "\n",
    "# Display the map\n",
    "m\n",
    "\n",
    "# Save the map as an HTML file\n",
    "# m.save('EV_Charging_Stations.html')\n"
   ]
  },
  {
   "cell_type": "code",
   "execution_count": null,
   "metadata": {},
   "outputs": [
    {
     "name": "stdout",
     "output_type": "stream",
     "text": [
      "Requirement already satisfied: geopy in c:\\users\\hp probook\\appdata\\local\\programs\\python\\python312\\lib\\site-packages (2.4.1)\n",
      "Requirement already satisfied: geographiclib<3,>=1.52 in c:\\users\\hp probook\\appdata\\local\\programs\\python\\python312\\lib\\site-packages (from geopy) (2.0)\n",
      "Note: you may need to restart the kernel to use updated packages.\n"
     ]
    }
   ],
   "source": [
    "pip install geopy"
   ]
  },
  {
   "cell_type": "code",
   "execution_count": null,
   "metadata": {},
   "outputs": [
    {
     "data": {
      "text/html": [
       "<div>\n",
       "<style scoped>\n",
       "    .dataframe tbody tr th:only-of-type {\n",
       "        vertical-align: middle;\n",
       "    }\n",
       "\n",
       "    .dataframe tbody tr th {\n",
       "        vertical-align: top;\n",
       "    }\n",
       "\n",
       "    .dataframe thead th {\n",
       "        text-align: right;\n",
       "    }\n",
       "</style>\n",
       "<table border=\"1\" class=\"dataframe\">\n",
       "  <thead>\n",
       "    <tr style=\"text-align: right;\">\n",
       "      <th></th>\n",
       "      <th>min_distance</th>\n",
       "      <th>max_distance</th>\n",
       "      <th>avg_distance</th>\n",
       "      <th>total_stations</th>\n",
       "    </tr>\n",
       "  </thead>\n",
       "  <tbody>\n",
       "    <tr>\n",
       "      <th>Darien</th>\n",
       "      <td>0.023863</td>\n",
       "      <td>4.697350</td>\n",
       "      <td>1.948745</td>\n",
       "      <td>8.0</td>\n",
       "    </tr>\n",
       "    <tr>\n",
       "      <th>Meriden</th>\n",
       "      <td>0.117504</td>\n",
       "      <td>2.915612</td>\n",
       "      <td>1.162084</td>\n",
       "      <td>6.0</td>\n",
       "    </tr>\n",
       "    <tr>\n",
       "      <th>Beacon Falls</th>\n",
       "      <td>NaN</td>\n",
       "      <td>NaN</td>\n",
       "      <td>NaN</td>\n",
       "      <td>1.0</td>\n",
       "    </tr>\n",
       "    <tr>\n",
       "      <th>Old Saybrook</th>\n",
       "      <td>0.020153</td>\n",
       "      <td>5.506738</td>\n",
       "      <td>3.145803</td>\n",
       "      <td>6.0</td>\n",
       "    </tr>\n",
       "    <tr>\n",
       "      <th>Fairfield</th>\n",
       "      <td>0.024324</td>\n",
       "      <td>8.796319</td>\n",
       "      <td>2.950214</td>\n",
       "      <td>20.0</td>\n",
       "    </tr>\n",
       "  </tbody>\n",
       "</table>\n",
       "</div>"
      ],
      "text/plain": [
       "              min_distance  max_distance  avg_distance  total_stations\n",
       "Darien            0.023863      4.697350      1.948745             8.0\n",
       "Meriden           0.117504      2.915612      1.162084             6.0\n",
       "Beacon Falls           NaN           NaN           NaN             1.0\n",
       "Old Saybrook      0.020153      5.506738      3.145803             6.0\n",
       "Fairfield         0.024324      8.796319      2.950214            20.0"
      ]
     },
     "execution_count": 25,
     "metadata": {},
     "output_type": "execute_result"
    }
   ],
   "source": [
    "#analyze each city and calculate the distances between charging stations.\n",
    "\n",
    "from geopy.distance import geodesic\n",
    "\n",
    "def analyze_city(city_data):\n",
    "    # Calculate the distance between each pair of charging stations in the city\n",
    "    distances = []\n",
    "    for i in range(len(city_data)):\n",
    "        for j in range(i + 1, len(city_data)):\n",
    "            coord1 = (city_data.iloc[i]['Latitude'], city_data.iloc[i]['Longitude'])\n",
    "            coord2 = (city_data.iloc[j]['Latitude'], city_data.iloc[j]['Longitude'])\n",
    "            distance = geodesic(coord1, coord2).kilometers\n",
    "            distances.append(distance)\n",
    "    \n",
    "    # Return the minimum, maximum, and average distances\n",
    "    if distances:\n",
    "        return {\n",
    "            'min_distance': min(distances),\n",
    "            'max_distance': max(distances),\n",
    "            'avg_distance': sum(distances) / len(distances),\n",
    "            'total_stations': len(city_data)\n",
    "        }\n",
    "    else:\n",
    "        return {\n",
    "            'min_distance': None,\n",
    "            'max_distance': None,\n",
    "            'avg_distance': None,\n",
    "            'total_stations': len(city_data)\n",
    "        }\n",
    "\n",
    "# Analyze each city\n",
    "city_stats = {}\n",
    "for city in df['City'].unique():\n",
    "    city_data = df[df['City'] == city]\n",
    "    city_stats[city] = analyze_city(city_data)\n",
    "\n",
    "# Convert city_stats to a DataFrame for easy analysis\n",
    "city_stats_df = pd.DataFrame(city_stats).transpose()\n",
    "city_stats_df.head()\n"
   ]
  },
  {
   "cell_type": "code",
   "execution_count": null,
   "metadata": {},
   "outputs": [],
   "source": [
    "# Filter data for a specific city\n",
    "city_data = df[df['City'] == 'Stamford']\n",
    "\n",
    "# Calculate distances between charging stations in the city\n",
    "distances = []\n",
    "for i in range(len(city_data)):\n",
    "    for j in range(i + 1, len(city_data)):\n",
    "        coord1 = (city_data.iloc[i]['Latitude'], city_data.iloc[i]['Longitude'])\n",
    "        coord2 = (city_data.iloc[j]['Latitude'], city_data.iloc[j]['Longitude'])\n",
    "        distance = geodesic(coord1, coord2).kilometers\n",
    "        distances.append(distance)\n",
    "\n",
    "# Calculate min, max, and average distances\n",
    "min_distance = min(distances) if distances else None\n",
    "max_distance = max(distances) if distances else None\n",
    "avg_distance = sum(distances) / len(distances) if distances else None\n",
    "\n",
    "# Display results\n",
    "min_distance, max_distance, avg_distance, len(city_data)\n",
    "\n",
    "#len(city_data) calculates the number of charging stations located in the city of 'Stamford'"
   ]
  },
  {
   "cell_type": "code",
   "execution_count": null,
   "metadata": {},
   "outputs": [],
   "source": [
    "pip install statsmodels"
   ]
  },
  {
   "cell_type": "code",
   "execution_count": null,
   "metadata": {},
   "outputs": [
    {
     "name": "stdout",
     "output_type": "stream",
     "text": [
      "                          Station_Name          Street_Address          City                    Access_Days_Time  EV_Level1_EVSE_Num  EV_Level2_EVSE_Num  EV_DC_Fast_Count EV_Other_Info              New_Georeferenced_Column  Total_EVSE_Num\n",
      "0                        BMW OF DARIEN        138-142 Ledge Rd        Darien                      24 hours daily                   0                   2                 0          NONE         POINT (-73.4764687 41.072882)               2\n",
      "1         Dunkin’ - Tesla Supercharger           893 E Main St       Meriden  24 hours daily; for Tesla use only                   0                   0                 8          NONE          POINT (-72.773473 41.527367)               8\n",
      "2  Town of Beacon Falls - Commuter Lot           105 N Main St  Beacon Falls                      24 hours daily                   0                   1                 0          NONE  POINT (-73.065583 41.44548100000001)               1\n",
      "3                      OLD SAYBROOK VW  319 Middlesex Turnpike  Old Saybrook                      24 hours daily                   0                   2                 0          NONE           POINT (-72.3825 41.3102778)               2\n"
     ]
    }
   ],
   "source": [
    "# Feature engineering\n",
    "\n",
    "# Create a feature for the total number of charging points\n",
    "newdf['Total_EVSE_Num'] = newdf['EV_Level1_EVSE_Num'] + newdf['EV_Level2_EVSE_Num'] + newdf['EV_DC_Fast_Count']\n",
    "\n",
    "print(newdf.head(4).to_string())\n"
   ]
  },
  {
   "cell_type": "code",
   "execution_count": null,
   "metadata": {},
   "outputs": [
    {
     "name": "stdout",
     "output_type": "stream",
     "text": [
      "Index(['Station_Name', 'Street_Address', 'City', 'Access_Days_Time',\n",
      "       'EV_Level1_EVSE_Num', 'EV_Level2_EVSE_Num', 'EV_DC_Fast_Count',\n",
      "       'EV_Other_Info', 'New_Georeferenced_Column', 'Total_EVSE_Num'],\n",
      "      dtype='object')\n"
     ]
    }
   ],
   "source": [
    "print(newdf.columns)"
   ]
  },
  {
   "cell_type": "code",
   "execution_count": null,
   "metadata": {},
   "outputs": [
    {
     "name": "stdout",
     "output_type": "stream",
     "text": [
      "                          Station_Name          Street_Address          City  \\\n",
      "0                        BMW OF DARIEN        138-142 Ledge Rd        Darien   \n",
      "1         Dunkin’ - Tesla Supercharger           893 E Main St       Meriden   \n",
      "2  Town of Beacon Falls - Commuter Lot           105 N Main St  Beacon Falls   \n",
      "3                      OLD SAYBROOK VW  319 Middlesex Turnpike  Old Saybrook   \n",
      "4               Fairfield Rail Station        80 Mill Plain Rd     Fairfield   \n",
      "\n",
      "                     Access_Days_Time  EV_Level1_EVSE_Num  EV_Level2_EVSE_Num  \\\n",
      "0                      24 hours daily                   0                   2   \n",
      "1  24 hours daily; for Tesla use only                   0                   0   \n",
      "2                      24 hours daily                   0                   1   \n",
      "3                      24 hours daily                   0                   2   \n",
      "4                      24 hours daily                   0                   2   \n",
      "\n",
      "   EV_DC_Fast_Count EV_Other_Info              New_Georeferenced_Column  \\\n",
      "0                 0          NONE         POINT (-73.4764687 41.072882)   \n",
      "1                 8          NONE          POINT (-72.773473 41.527367)   \n",
      "2                 0          NONE  POINT (-73.065583 41.44548100000001)   \n",
      "3                 0          NONE           POINT (-72.3825 41.3102778)   \n",
      "4                 0          NONE          POINT (-73.264511 41.143125)   \n",
      "\n",
      "   Total_EVSE_Num  longitude   latitude  \n",
      "0               2 -73.476469  41.072882  \n",
      "1               8 -72.773473  41.527367  \n",
      "2               1 -73.065583  41.445481  \n",
      "3               2 -72.382500  41.310278  \n",
      "4               2 -73.264511  41.143125  \n"
     ]
    }
   ],
   "source": [
    "# extracting longitude and latitude and creating separate columns \n",
    "import re\n",
    "\n",
    "# Function to extract latitude and longitude from 'newgeoferencedcolumn'\n",
    "def extract_coordinates(point):\n",
    "    match = re.search(r'POINT \\(([-\\d.]+) ([-\\d.]+)\\)', point)\n",
    "    if match:\n",
    "        return float(match.group(1)), float(match.group(2))\n",
    "    return None, None\n",
    "\n",
    "# Apply the function to create latitude and longitude columns\n",
    "newdf['longitude'], newdf['latitude'] = zip(*newdf['New_Georeferenced_Column'].apply(extract_coordinates))\n",
    "\n",
    "# Display the dataframe with new columns\n",
    "print(newdf.head())\n"
   ]
  },
  {
   "cell_type": "code",
   "execution_count": null,
   "metadata": {},
   "outputs": [],
   "source": [
    "numeric_columns = newdf.select_dtypes(include=['number']).columns\n",
    "newdf_numeric = newdf[numeric_columns] #only the numeric columns are used to calculate the correlations,\n"
   ]
  },
  {
   "cell_type": "code",
   "execution_count": null,
   "metadata": {},
   "outputs": [],
   "source": [
    "import seaborn as sns\n",
    "\n",
    "plt.figure(figsize=(12, 8))\n",
    "sns.heatmap(newdf_numeric.corr(), annot=True, cmap='coolwarm')\n",
    "plt.title('Correlation Heatmap')\n",
    "plt.show()\n"
   ]
  },
  {
   "cell_type": "code",
   "execution_count": null,
   "metadata": {},
   "outputs": [],
   "source": [
    "pip install plotly"
   ]
  },
  {
   "cell_type": "code",
   "execution_count": null,
   "metadata": {},
   "outputs": [
    {
     "data": {
      "application/vnd.plotly.v1+json": {
       "config": {
        "plotlyServerURL": "https://plot.ly"
       },
       "data": [
        {
         "hovertemplate": "Station_Name=BMW OF DARIEN<br>City=%{x}<br>longitude=%{y}<br>latitude=%{z}<extra></extra>",
         "legendgroup": "BMW OF DARIEN",
         "marker": {
          "color": "#636efa",
          "symbol": "circle"
         },
         "mode": "markers",
         "name": "BMW OF DARIEN",
         "scene": "scene",
         "showlegend": true,
         "type": "scatter3d",
         "x": [
          "Darien"
         ],
         "y": [
          -73.4764687
         ],
         "z": [
          41.072882
         ]
        },
        {
         "hovertemplate": "Station_Name=Dunkin’ - Tesla Supercharger<br>City=%{x}<br>longitude=%{y}<br>latitude=%{z}<extra></extra>",
         "legendgroup": "Dunkin’ - Tesla Supercharger",
         "marker": {
          "color": "#EF553B",
          "symbol": "circle"
         },
         "mode": "markers",
         "name": "Dunkin’ - Tesla Supercharger",
         "scene": "scene",
         "showlegend": true,
         "type": "scatter3d",
         "x": [
          "Meriden"
         ],
         "y": [
          -72.773473
         ],
         "z": [
          41.527367
         ]
        },
        {
         "hovertemplate": "Station_Name=Town of Beacon Falls - Commuter Lot<br>City=%{x}<br>longitude=%{y}<br>latitude=%{z}<extra></extra>",
         "legendgroup": "Town of Beacon Falls - Commuter Lot",
         "marker": {
          "color": "#00cc96",
          "symbol": "circle"
         },
         "mode": "markers",
         "name": "Town of Beacon Falls - Commuter Lot",
         "scene": "scene",
         "showlegend": true,
         "type": "scatter3d",
         "x": [
          "Beacon Falls"
         ],
         "y": [
          -73.065583
         ],
         "z": [
          41.44548100000001
         ]
        },
        {
         "hovertemplate": "Station_Name=OLD SAYBROOK VW<br>City=%{x}<br>longitude=%{y}<br>latitude=%{z}<extra></extra>",
         "legendgroup": "OLD SAYBROOK VW",
         "marker": {
          "color": "#ab63fa",
          "symbol": "circle"
         },
         "mode": "markers",
         "name": "OLD SAYBROOK VW",
         "scene": "scene",
         "showlegend": true,
         "type": "scatter3d",
         "x": [
          "Old Saybrook"
         ],
         "y": [
          -72.3825
         ],
         "z": [
          41.3102778
         ]
        },
        {
         "hovertemplate": "Station_Name=Fairfield Rail Station<br>City=%{x}<br>longitude=%{y}<br>latitude=%{z}<extra></extra>",
         "legendgroup": "Fairfield Rail Station",
         "marker": {
          "color": "#FFA15A",
          "symbol": "circle"
         },
         "mode": "markers",
         "name": "Fairfield Rail Station",
         "scene": "scene",
         "showlegend": true,
         "type": "scatter3d",
         "x": [
          "Fairfield"
         ],
         "y": [
          -73.264511
         ],
         "z": [
          41.143125
         ]
        },
        {
         "hovertemplate": "Station_Name=FOUNDRY66<br>City=%{x}<br>longitude=%{y}<br>latitude=%{z}<extra></extra>",
         "legendgroup": "FOUNDRY66",
         "marker": {
          "color": "#19d3f3",
          "symbol": "circle"
         },
         "mode": "markers",
         "name": "FOUNDRY66",
         "scene": "scene",
         "showlegend": true,
         "type": "scatter3d",
         "x": [
          "Norwich"
         ],
         "y": [
          -72.0741188
         ],
         "z": [
          41.525611
         ]
        },
        {
         "hovertemplate": "Station_Name=Corbins Corner Shopping Center - Tesla Supercharger<br>City=%{x}<br>longitude=%{y}<br>latitude=%{z}<extra></extra>",
         "legendgroup": "Corbins Corner Shopping Center - Tesla Supercharger",
         "marker": {
          "color": "#FF6692",
          "symbol": "circle"
         },
         "mode": "markers",
         "name": "Corbins Corner Shopping Center - Tesla Supercharger",
         "scene": "scene",
         "showlegend": true,
         "type": "scatter3d",
         "x": [
          "West Hartford"
         ],
         "y": [
          -72.759717
         ],
         "z": [
          41.722672
         ]
        },
        {
         "hovertemplate": "Station_Name=GLASTONBURYEV<br>City=%{x}<br>longitude=%{y}<br>latitude=%{z}<extra></extra>",
         "legendgroup": "GLASTONBURYEV",
         "marker": {
          "color": "#B6E880",
          "symbol": "circle"
         },
         "mode": "markers",
         "name": "GLASTONBURYEV",
         "scene": "scene",
         "showlegend": true,
         "type": "scatter3d",
         "x": [
          "Glastonbury"
         ],
         "y": [
          -72.6086744
         ],
         "z": [
          41.711717
         ]
        },
        {
         "hovertemplate": "Station_Name=Whole Foods Market<br>City=%{x}<br>longitude=%{y}<br>latitude=%{z}<extra></extra>",
         "legendgroup": "Whole Foods Market",
         "marker": {
          "color": "#FF97FF",
          "symbol": "circle"
         },
         "mode": "markers",
         "name": "Whole Foods Market",
         "scene": "scene",
         "showlegend": true,
         "type": "scatter3d",
         "x": [
          "Darien",
          "Fairfield"
         ],
         "y": [
          -73.476189,
          -73.240315
         ],
         "z": [
          41.072919,
          41.157925
         ]
        },
        {
         "hovertemplate": "Station_Name=Mystic Marriott Hotel and Spa<br>City=%{x}<br>longitude=%{y}<br>latitude=%{z}<extra></extra>",
         "legendgroup": "Mystic Marriott Hotel and Spa",
         "marker": {
          "color": "#FECB52",
          "symbol": "circle"
         },
         "mode": "markers",
         "name": "Mystic Marriott Hotel and Spa",
         "scene": "scene",
         "showlegend": true,
         "type": "scatter3d",
         "x": [
          "Groton"
         ],
         "y": [
          -72.026147
         ],
         "z": [
          41.365973
         ]
        },
        {
         "hovertemplate": "Station_Name=Brass Mill Center - Shoppers World<br>City=%{x}<br>longitude=%{y}<br>latitude=%{z}<extra></extra>",
         "legendgroup": "Brass Mill Center - Shoppers World",
         "marker": {
          "color": "#636efa",
          "symbol": "circle"
         },
         "mode": "markers",
         "name": "Brass Mill Center - Shoppers World",
         "scene": "scene",
         "showlegend": true,
         "type": "scatter3d",
         "x": [
          "Waterbury"
         ],
         "y": [
          -73.025659
         ],
         "z": [
          41.550922
         ]
        },
        {
         "hovertemplate": "Station_Name=University of Connecticut Health - Center Garage<br>City=%{x}<br>longitude=%{y}<br>latitude=%{z}<extra></extra>",
         "legendgroup": "University of Connecticut Health - Center Garage",
         "marker": {
          "color": "#EF553B",
          "symbol": "circle"
         },
         "mode": "markers",
         "name": "University of Connecticut Health - Center Garage",
         "scene": "scene",
         "showlegend": true,
         "type": "scatter3d",
         "x": [
          "Farmington"
         ],
         "y": [
          -72.79061800000001
         ],
         "z": [
          41.730405
         ]
        },
        {
         "hovertemplate": "Station_Name=D'Addario Nissan<br>City=%{x}<br>longitude=%{y}<br>latitude=%{z}<extra></extra>",
         "legendgroup": "D'Addario Nissan",
         "marker": {
          "color": "#00cc96",
          "symbol": "circle"
         },
         "mode": "markers",
         "name": "D'Addario Nissan",
         "scene": "scene",
         "showlegend": true,
         "type": "scatter3d",
         "x": [
          "Shelton"
         ],
         "y": [
          -73.106051
         ],
         "z": [
          41.299792
         ]
        },
        {
         "hovertemplate": "Station_Name=CT RAIL<br>City=%{x}<br>longitude=%{y}<br>latitude=%{z}<extra></extra>",
         "legendgroup": "CT RAIL",
         "marker": {
          "color": "#ab63fa",
          "symbol": "circle"
         },
         "mode": "markers",
         "name": "CT RAIL",
         "scene": "scene",
         "showlegend": true,
         "type": "scatter3d",
         "x": [
          "Wallingford",
          "Berlin",
          "Meriden"
         ],
         "y": [
          -72.8231924,
          -72.7653384,
          -72.8007814
         ],
         "z": [
          41.4618954,
          41.6356154,
          41.5394301
         ]
        },
        {
         "hovertemplate": "Station_Name=Hampton Inn & Suites Rocky Hill - Hartford South - Tesla Destination<br>City=%{x}<br>longitude=%{y}<br>latitude=%{z}<extra></extra>",
         "legendgroup": "Hampton Inn & Suites Rocky Hill - Hartford South - Tesla Destination",
         "marker": {
          "color": "#FFA15A",
          "symbol": "circle"
         },
         "mode": "markers",
         "name": "Hampton Inn & Suites Rocky Hill - Hartford South - Tesla Destination",
         "scene": "scene",
         "showlegend": true,
         "type": "scatter3d",
         "x": [
          "Rocky Hill"
         ],
         "y": [
          -72.679679
         ],
         "z": [
          41.650999
         ]
        },
        {
         "hovertemplate": "Station_Name=Goodwives Shopping Center<br>City=%{x}<br>longitude=%{y}<br>latitude=%{z}<extra></extra>",
         "legendgroup": "Goodwives Shopping Center",
         "marker": {
          "color": "#19d3f3",
          "symbol": "circle"
         },
         "mode": "markers",
         "name": "Goodwives Shopping Center",
         "scene": "scene",
         "showlegend": true,
         "type": "scatter3d",
         "x": [
          "Darien"
         ],
         "y": [
          -73.466318
         ],
         "z": [
          41.078282
         ]
        },
        {
         "hovertemplate": "Station_Name=City of New Haven - Union Station Garage<br>City=%{x}<br>longitude=%{y}<br>latitude=%{z}<extra></extra>",
         "legendgroup": "City of New Haven - Union Station Garage",
         "marker": {
          "color": "#FF6692",
          "symbol": "circle"
         },
         "mode": "markers",
         "name": "City of New Haven - Union Station Garage",
         "scene": "scene",
         "showlegend": true,
         "type": "scatter3d",
         "x": [
          "New Haven"
         ],
         "y": [
          -72.926722
         ],
         "z": [
          41.297487000000004
         ]
        },
        {
         "hovertemplate": "Station_Name=Easton Public Library<br>City=%{x}<br>longitude=%{y}<br>latitude=%{z}<extra></extra>",
         "legendgroup": "Easton Public Library",
         "marker": {
          "color": "#B6E880",
          "symbol": "circle"
         },
         "mode": "markers",
         "name": "Easton Public Library",
         "scene": "scene",
         "showlegend": true,
         "type": "scatter3d",
         "x": [
          "Easton"
         ],
         "y": [
          -73.297822
         ],
         "z": [
          41.251966
         ]
        },
        {
         "hovertemplate": "Station_Name=The Plaza at Buckland Hills - Tesla Supercharger<br>City=%{x}<br>longitude=%{y}<br>latitude=%{z}<extra></extra>",
         "legendgroup": "The Plaza at Buckland Hills - Tesla Supercharger",
         "marker": {
          "color": "#FF97FF",
          "symbol": "circle"
         },
         "mode": "markers",
         "name": "The Plaza at Buckland Hills - Tesla Supercharger",
         "scene": "scene",
         "showlegend": true,
         "type": "scatter3d",
         "x": [
          "Manchester"
         ],
         "y": [
          -72.562282
         ],
         "z": [
          41.80452
         ]
        },
        {
         "hovertemplate": "Station_Name=Greenlots - 92367<br>City=%{x}<br>longitude=%{y}<br>latitude=%{z}<extra></extra>",
         "legendgroup": "Greenlots - 92367",
         "marker": {
          "color": "#FECB52",
          "symbol": "circle"
         },
         "mode": "markers",
         "name": "Greenlots - 92367",
         "scene": "scene",
         "showlegend": true,
         "type": "scatter3d",
         "x": [
          "Colebrook"
         ],
         "y": [
          -73.138786
         ],
         "z": [
          41.988528
         ]
        },
        {
         "hovertemplate": "Station_Name=Mystic Diner Restaurant - Tesla Destination<br>City=%{x}<br>longitude=%{y}<br>latitude=%{z}<extra></extra>",
         "legendgroup": "Mystic Diner Restaurant - Tesla Destination",
         "marker": {
          "color": "#636efa",
          "symbol": "circle"
         },
         "mode": "markers",
         "name": "Mystic Diner Restaurant - Tesla Destination",
         "scene": "scene",
         "showlegend": true,
         "type": "scatter3d",
         "x": [
          "Mystic"
         ],
         "y": [
          -71.961361
         ],
         "z": [
          41.37356200000001
         ]
        },
        {
         "hovertemplate": "Station_Name=Connecticut Airport Authority - Bradley Airport<br>City=%{x}<br>longitude=%{y}<br>latitude=%{z}<extra></extra>",
         "legendgroup": "Connecticut Airport Authority - Bradley Airport",
         "marker": {
          "color": "#EF553B",
          "symbol": "circle"
         },
         "mode": "markers",
         "name": "Connecticut Airport Authority - Bradley Airport",
         "scene": "scene",
         "showlegend": true,
         "type": "scatter3d",
         "x": [
          "Windsor Locks"
         ],
         "y": [
          -72.670609
         ],
         "z": [
          41.929342
         ]
        },
        {
         "hovertemplate": "Station_Name=University of Connecticut - Motor Pool<br>City=%{x}<br>longitude=%{y}<br>latitude=%{z}<extra></extra>",
         "legendgroup": "University of Connecticut - Motor Pool",
         "marker": {
          "color": "#00cc96",
          "symbol": "circle"
         },
         "mode": "markers",
         "name": "University of Connecticut - Motor Pool",
         "scene": "scene",
         "showlegend": true,
         "type": "scatter3d",
         "x": [
          "Storrs"
         ],
         "y": [
          -72.261825
         ],
         "z": [
          41.811817
         ]
        },
        {
         "hovertemplate": "Station_Name=Hammonasset Beach State Park - South<br>City=%{x}<br>longitude=%{y}<br>latitude=%{z}<extra></extra>",
         "legendgroup": "Hammonasset Beach State Park - South",
         "marker": {
          "color": "#ab63fa",
          "symbol": "circle"
         },
         "mode": "markers",
         "name": "Hammonasset Beach State Park - South",
         "scene": "scene",
         "showlegend": true,
         "type": "scatter3d",
         "x": [
          "Madison"
         ],
         "y": [
          -72.560456
         ],
         "z": [
          41.263416
         ]
        },
        {
         "hovertemplate": "Station_Name=Schaller Mitsubishi<br>City=%{x}<br>longitude=%{y}<br>latitude=%{z}<extra></extra>",
         "legendgroup": "Schaller Mitsubishi",
         "marker": {
          "color": "#FFA15A",
          "symbol": "circle"
         },
         "mode": "markers",
         "name": "Schaller Mitsubishi",
         "scene": "scene",
         "showlegend": true,
         "type": "scatter3d",
         "x": [
          "New Britain"
         ],
         "y": [
          -72.770648
         ],
         "z": [
          41.649365
         ]
        },
        {
         "hovertemplate": "Station_Name=Mansfield Public Library<br>City=%{x}<br>longitude=%{y}<br>latitude=%{z}<extra></extra>",
         "legendgroup": "Mansfield Public Library",
         "marker": {
          "color": "#19d3f3",
          "symbol": "circle"
         },
         "mode": "markers",
         "name": "Mansfield Public Library",
         "scene": "scene",
         "showlegend": true,
         "type": "scatter3d",
         "x": [
          "Mansfield"
         ],
         "y": [
          -72.195701
         ],
         "z": [
          41.768396
         ]
        },
        {
         "hovertemplate": "Station_Name=WESTLODGE<br>City=%{x}<br>longitude=%{y}<br>latitude=%{z}<extra></extra>",
         "legendgroup": "WESTLODGE",
         "marker": {
          "color": "#FF6692",
          "symbol": "circle"
         },
         "mode": "markers",
         "name": "WESTLODGE",
         "scene": "scene",
         "showlegend": true,
         "type": "scatter3d",
         "x": [
          "Torrington"
         ],
         "y": [
          -73.1049768
         ],
         "z": [
          41.8750604
         ]
        },
        {
         "hovertemplate": "Station_Name=TOWNHALL<br>City=%{x}<br>longitude=%{y}<br>latitude=%{z}<extra></extra>",
         "legendgroup": "TOWNHALL",
         "marker": {
          "color": "#B6E880",
          "symbol": "circle"
         },
         "mode": "markers",
         "name": "TOWNHALL",
         "scene": "scene",
         "showlegend": true,
         "type": "scatter3d",
         "x": [
          "Harwinton"
         ],
         "y": [
          -73.070231
         ],
         "z": [
          41.7640244
         ]
        },
        {
         "hovertemplate": "Station_Name=University of Connecticut - Avery Point<br>City=%{x}<br>longitude=%{y}<br>latitude=%{z}<extra></extra>",
         "legendgroup": "University of Connecticut - Avery Point",
         "marker": {
          "color": "#FF97FF",
          "symbol": "circle"
         },
         "mode": "markers",
         "name": "University of Connecticut - Avery Point",
         "scene": "scene",
         "showlegend": true,
         "type": "scatter3d",
         "x": [
          "Groton"
         ],
         "y": [
          -72.065994
         ],
         "z": [
          41.317722
         ]
        },
        {
         "hovertemplate": "Station_Name=Middletown School District - Lawrence Elementary School<br>City=%{x}<br>longitude=%{y}<br>latitude=%{z}<extra></extra>",
         "legendgroup": "Middletown School District - Lawrence Elementary School",
         "marker": {
          "color": "#FECB52",
          "symbol": "circle"
         },
         "mode": "markers",
         "name": "Middletown School District - Lawrence Elementary School",
         "scene": "scene",
         "showlegend": true,
         "type": "scatter3d",
         "x": [
          "Middletown"
         ],
         "y": [
          -72.6824246
         ],
         "z": [
          41.5871612
         ]
        },
        {
         "hovertemplate": "Station_Name=Fairfield Mitsubishi<br>City=%{x}<br>longitude=%{y}<br>latitude=%{z}<extra></extra>",
         "legendgroup": "Fairfield Mitsubishi",
         "marker": {
          "color": "#636efa",
          "symbol": "circle"
         },
         "mode": "markers",
         "name": "Fairfield Mitsubishi",
         "scene": "scene",
         "showlegend": true,
         "type": "scatter3d",
         "x": [
          "Fairfield"
         ],
         "y": [
          -73.230597
         ],
         "z": [
          41.176442
         ]
        },
        {
         "hovertemplate": "Station_Name=Gates Nissan<br>City=%{x}<br>longitude=%{y}<br>latitude=%{z}<extra></extra>",
         "legendgroup": "Gates Nissan",
         "marker": {
          "color": "#EF553B",
          "symbol": "circle"
         },
         "mode": "markers",
         "name": "Gates Nissan",
         "scene": "scene",
         "showlegend": true,
         "type": "scatter3d",
         "x": [
          "North Windham"
         ],
         "y": [
          -72.188445
         ],
         "z": [
          41.728247
         ]
        },
        {
         "hovertemplate": "Station_Name=Water's Edge Resort and Spa - Tesla Destination<br>City=%{x}<br>longitude=%{y}<br>latitude=%{z}<extra></extra>",
         "legendgroup": "Water's Edge Resort and Spa - Tesla Destination",
         "marker": {
          "color": "#00cc96",
          "symbol": "circle"
         },
         "mode": "markers",
         "name": "Water's Edge Resort and Spa - Tesla Destination",
         "scene": "scene",
         "showlegend": true,
         "type": "scatter3d",
         "x": [
          "Westbrook"
         ],
         "y": [
          -72.43786
         ],
         "z": [
          41.28006
         ]
        },
        {
         "hovertemplate": "Station_Name=North Haven PaviIion<br>City=%{x}<br>longitude=%{y}<br>latitude=%{z}<extra></extra>",
         "legendgroup": "North Haven PaviIion",
         "marker": {
          "color": "#ab63fa",
          "symbol": "circle"
         },
         "mode": "markers",
         "name": "North Haven PaviIion",
         "scene": "scene",
         "showlegend": true,
         "type": "scatter3d",
         "x": [
          "North Haven"
         ],
         "y": [
          -72.870574
         ],
         "z": [
          41.353572
         ]
        },
        {
         "hovertemplate": "Station_Name=UNION STATION<br>City=%{x}<br>longitude=%{y}<br>latitude=%{z}<extra></extra>",
         "legendgroup": "UNION STATION",
         "marker": {
          "color": "#FFA15A",
          "symbol": "circle"
         },
         "mode": "markers",
         "name": "UNION STATION",
         "scene": "scene",
         "showlegend": true,
         "type": "scatter3d",
         "x": [
          "New Haven",
          "New Haven"
         ],
         "y": [
          -72.9270748,
          -72.9263108
         ],
         "z": [
          41.2975353,
          41.2974027
         ]
        },
        {
         "hovertemplate": "Station_Name=Torrington Town Hall<br>City=%{x}<br>longitude=%{y}<br>latitude=%{z}<extra></extra>",
         "legendgroup": "Torrington Town Hall",
         "marker": {
          "color": "#19d3f3",
          "symbol": "circle"
         },
         "mode": "markers",
         "name": "Torrington Town Hall",
         "scene": "scene",
         "showlegend": true,
         "type": "scatter3d",
         "x": [
          "Torrington"
         ],
         "y": [
          -73.12122300000001
         ],
         "z": [
          41.803497
         ]
        },
        {
         "hovertemplate": "Station_Name=Crowley Nissan<br>City=%{x}<br>longitude=%{y}<br>latitude=%{z}<extra></extra>",
         "legendgroup": "Crowley Nissan",
         "marker": {
          "color": "#FF6692",
          "symbol": "circle"
         },
         "mode": "markers",
         "name": "Crowley Nissan",
         "scene": "scene",
         "showlegend": true,
         "type": "scatter3d",
         "x": [
          "Bristol"
         ],
         "y": [
          -72.894672
         ],
         "z": [
          41.699374
         ]
        },
        {
         "hovertemplate": "Station_Name=Parthenon Diner Restaurant - Tesla Destination<br>City=%{x}<br>longitude=%{y}<br>latitude=%{z}<extra></extra>",
         "legendgroup": "Parthenon Diner Restaurant - Tesla Destination",
         "marker": {
          "color": "#B6E880",
          "symbol": "circle"
         },
         "mode": "markers",
         "name": "Parthenon Diner Restaurant - Tesla Destination",
         "scene": "scene",
         "showlegend": true,
         "type": "scatter3d",
         "x": [
          "Branford"
         ],
         "y": [
          -72.781436
         ],
         "z": [
          41.296212
         ]
        },
        {
         "hovertemplate": "Station_Name=Town of Mansfield - Community Center<br>City=%{x}<br>longitude=%{y}<br>latitude=%{z}<extra></extra>",
         "legendgroup": "Town of Mansfield - Community Center",
         "marker": {
          "color": "#FF97FF",
          "symbol": "circle"
         },
         "mode": "markers",
         "name": "Town of Mansfield - Community Center",
         "scene": "scene",
         "showlegend": true,
         "type": "scatter3d",
         "x": [
          "Mansfield"
         ],
         "y": [
          -72.242231
         ],
         "z": [
          41.800421
         ]
        },
        {
         "hovertemplate": "Station_Name=Manchester City Nissan<br>City=%{x}<br>longitude=%{y}<br>latitude=%{z}<extra></extra>",
         "legendgroup": "Manchester City Nissan",
         "marker": {
          "color": "#FECB52",
          "symbol": "circle"
         },
         "mode": "markers",
         "name": "Manchester City Nissan",
         "scene": "scene",
         "showlegend": true,
         "type": "scatter3d",
         "x": [
          "Manchester"
         ],
         "y": [
          -72.507845
         ],
         "z": [
          41.814316
         ]
        },
        {
         "hovertemplate": "Station_Name=City of Meriden - City Hall<br>City=%{x}<br>longitude=%{y}<br>latitude=%{z}<extra></extra>",
         "legendgroup": "City of Meriden - City Hall",
         "marker": {
          "color": "#636efa",
          "symbol": "circle"
         },
         "mode": "markers",
         "name": "City of Meriden - City Hall",
         "scene": "scene",
         "showlegend": true,
         "type": "scatter3d",
         "x": [
          "Meriden"
         ],
         "y": [
          -72.797226
         ],
         "z": [
          41.536236
         ]
        },
        {
         "hovertemplate": "Station_Name=City of New Haven - Sherman Tyler Lot<br>City=%{x}<br>longitude=%{y}<br>latitude=%{z}<extra></extra>",
         "legendgroup": "City of New Haven - Sherman Tyler Lot",
         "marker": {
          "color": "#EF553B",
          "symbol": "circle"
         },
         "mode": "markers",
         "name": "City of New Haven - Sherman Tyler Lot",
         "scene": "scene",
         "showlegend": true,
         "type": "scatter3d",
         "x": [
          "New Haven"
         ],
         "y": [
          -72.948514
         ],
         "z": [
          41.306474
         ]
        },
        {
         "hovertemplate": "Station_Name=City of Meriden - Meriden Public Library<br>City=%{x}<br>longitude=%{y}<br>latitude=%{z}<extra></extra>",
         "legendgroup": "City of Meriden - Meriden Public Library",
         "marker": {
          "color": "#00cc96",
          "symbol": "circle"
         },
         "mode": "markers",
         "name": "City of Meriden - Meriden Public Library",
         "scene": "scene",
         "showlegend": true,
         "type": "scatter3d",
         "x": [
          "Meriden"
         ],
         "y": [
          -72.796702
         ],
         "z": [
          41.537218
         ]
        },
        {
         "hovertemplate": "Station_Name=Blogoslawski Parking Garage<br>City=%{x}<br>longitude=%{y}<br>latitude=%{z}<extra></extra>",
         "legendgroup": "Blogoslawski Parking Garage",
         "marker": {
          "color": "#ab63fa",
          "symbol": "circle"
         },
         "mode": "markers",
         "name": "Blogoslawski Parking Garage",
         "scene": "scene",
         "showlegend": true,
         "type": "scatter3d",
         "x": [
          "New Britain"
         ],
         "y": [
          -72.7788286
         ],
         "z": [
          41.664356600000005
         ]
        },
        {
         "hovertemplate": "Station_Name=Comfort Inn Guilford - Tesla Destination<br>City=%{x}<br>longitude=%{y}<br>latitude=%{z}<extra></extra>",
         "legendgroup": "Comfort Inn Guilford - Tesla Destination",
         "marker": {
          "color": "#FFA15A",
          "symbol": "circle"
         },
         "mode": "markers",
         "name": "Comfort Inn Guilford - Tesla Destination",
         "scene": "scene",
         "showlegend": true,
         "type": "scatter3d",
         "x": [
          "Guilford"
         ],
         "y": [
          -72.657682
         ],
         "z": [
          41.287164
         ]
        },
        {
         "hovertemplate": "Station_Name=Brass Mill Center - Entrance 5<br>City=%{x}<br>longitude=%{y}<br>latitude=%{z}<extra></extra>",
         "legendgroup": "Brass Mill Center - Entrance 5",
         "marker": {
          "color": "#19d3f3",
          "symbol": "circle"
         },
         "mode": "markers",
         "name": "Brass Mill Center - Entrance 5",
         "scene": "scene",
         "showlegend": true,
         "type": "scatter3d",
         "x": [
          "Waterbury"
         ],
         "y": [
          -73.02614
         ],
         "z": [
          41.549361
         ]
        },
        {
         "hovertemplate": "Station_Name=Town of Simsbury - Town Hall<br>City=%{x}<br>longitude=%{y}<br>latitude=%{z}<extra></extra>",
         "legendgroup": "Town of Simsbury - Town Hall",
         "marker": {
          "color": "#FF6692",
          "symbol": "circle"
         },
         "mode": "markers",
         "name": "Town of Simsbury - Town Hall",
         "scene": "scene",
         "showlegend": true,
         "type": "scatter3d",
         "x": [
          "Simsbury"
         ],
         "y": [
          -72.489406
         ],
         "z": [
          41.983904
         ]
        },
        {
         "hovertemplate": "Station_Name=Connecticut Legislative Parking Garage<br>City=%{x}<br>longitude=%{y}<br>latitude=%{z}<extra></extra>",
         "legendgroup": "Connecticut Legislative Parking Garage",
         "marker": {
          "color": "#B6E880",
          "symbol": "circle"
         },
         "mode": "markers",
         "name": "Connecticut Legislative Parking Garage",
         "scene": "scene",
         "showlegend": true,
         "type": "scatter3d",
         "x": [
          "Hartford"
         ],
         "y": [
          -72.684758
         ],
         "z": [
          41.765434
         ]
        },
        {
         "hovertemplate": "Station_Name=Middletown School District - Moody School<br>City=%{x}<br>longitude=%{y}<br>latitude=%{z}<extra></extra>",
         "legendgroup": "Middletown School District - Moody School",
         "marker": {
          "color": "#FF97FF",
          "symbol": "circle"
         },
         "mode": "markers",
         "name": "Middletown School District - Moody School",
         "scene": "scene",
         "showlegend": true,
         "type": "scatter3d",
         "x": [
          "Middletown"
         ],
         "y": [
          -72.711926
         ],
         "z": [
          41.563917
         ]
        },
        {
         "hovertemplate": "Station_Name=Barberino Nissan<br>City=%{x}<br>longitude=%{y}<br>latitude=%{z}<extra></extra>",
         "legendgroup": "Barberino Nissan",
         "marker": {
          "color": "#FECB52",
          "symbol": "circle"
         },
         "mode": "markers",
         "name": "Barberino Nissan",
         "scene": "scene",
         "showlegend": true,
         "type": "scatter3d",
         "x": [
          "Wallingford"
         ],
         "y": [
          -72.817586
         ],
         "z": [
          41.467376
         ]
        },
        {
         "hovertemplate": "Station_Name=CityPlace Garage<br>City=%{x}<br>longitude=%{y}<br>latitude=%{z}<extra></extra>",
         "legendgroup": "CityPlace Garage",
         "marker": {
          "color": "#636efa",
          "symbol": "circle"
         },
         "mode": "markers",
         "name": "CityPlace Garage",
         "scene": "scene",
         "showlegend": true,
         "type": "scatter3d",
         "x": [
          "Hartford"
         ],
         "y": [
          -72.676489
         ],
         "z": [
          41.766656
         ]
        },
        {
         "hovertemplate": "Station_Name=CURRAN VOLKSWAG<br>City=%{x}<br>longitude=%{y}<br>latitude=%{z}<extra></extra>",
         "legendgroup": "CURRAN VOLKSWAG",
         "marker": {
          "color": "#EF553B",
          "symbol": "circle"
         },
         "mode": "markers",
         "name": "CURRAN VOLKSWAG",
         "scene": "scene",
         "showlegend": true,
         "type": "scatter3d",
         "x": [
          "Stratford"
         ],
         "y": [
          -73.132624
         ],
         "z": [
          41.198568
         ]
        },
        {
         "hovertemplate": "Station_Name=Inn at Stonington, a Select Registry Property - Tesla Destination<br>City=%{x}<br>longitude=%{y}<br>latitude=%{z}<extra></extra>",
         "legendgroup": "Inn at Stonington, a Select Registry Property - Tesla Destination",
         "marker": {
          "color": "#00cc96",
          "symbol": "circle"
         },
         "mode": "markers",
         "name": "Inn at Stonington, a Select Registry Property - Tesla Destination",
         "scene": "scene",
         "showlegend": true,
         "type": "scatter3d",
         "x": [
          "Stonington"
         ],
         "y": [
          -71.906918
         ],
         "z": [
          41.331744
         ]
        },
        {
         "hovertemplate": "Station_Name=Westport Town Hall 110 Myrtle Ave Westport, CT 06880<br>City=%{x}<br>longitude=%{y}<br>latitude=%{z}<extra></extra>",
         "legendgroup": "Westport Town Hall 110 Myrtle Ave Westport, CT 06880",
         "marker": {
          "color": "#ab63fa",
          "symbol": "circle"
         },
         "mode": "markers",
         "name": "Westport Town Hall 110 Myrtle Ave Westport, CT 06880",
         "scene": "scene",
         "showlegend": true,
         "type": "scatter3d",
         "x": [
          "Westport"
         ],
         "y": [
          -73.35947443366
         ],
         "z": [
          41.145215689458
         ]
        },
        {
         "hovertemplate": "Station_Name=STARWOOD<br>City=%{x}<br>longitude=%{y}<br>latitude=%{z}<extra></extra>",
         "legendgroup": "STARWOOD",
         "marker": {
          "color": "#FFA15A",
          "symbol": "circle"
         },
         "mode": "markers",
         "name": "STARWOOD",
         "scene": "scene",
         "showlegend": true,
         "type": "scatter3d",
         "x": [
          "Stamford"
         ],
         "y": [
          -73.5318605
         ],
         "z": [
          41.0409048
         ]
        },
        {
         "hovertemplate": "Station_Name=Popeyes Kitchen - Fairfield Pizza<br>City=%{x}<br>longitude=%{y}<br>latitude=%{z}<extra></extra>",
         "legendgroup": "Popeyes Kitchen - Fairfield Pizza",
         "marker": {
          "color": "#19d3f3",
          "symbol": "circle"
         },
         "mode": "markers",
         "name": "Popeyes Kitchen - Fairfield Pizza",
         "scene": "scene",
         "showlegend": true,
         "type": "scatter3d",
         "x": [
          "Stratford"
         ],
         "y": [
          -73.117486
         ],
         "z": [
          41.202742
         ]
        },
        {
         "hovertemplate": "Station_Name=Dunkin' Donuts - Tesla Supercharger<br>City=%{x}<br>longitude=%{y}<br>latitude=%{z}<extra></extra>",
         "legendgroup": "Dunkin' Donuts - Tesla Supercharger",
         "marker": {
          "color": "#FF6692",
          "symbol": "circle"
         },
         "mode": "markers",
         "name": "Dunkin' Donuts - Tesla Supercharger",
         "scene": "scene",
         "showlegend": true,
         "type": "scatter3d",
         "x": [
          "Waterbury"
         ],
         "y": [
          -73.005613
         ],
         "z": [
          41.53713
         ]
        },
        {
         "hovertemplate": "Station_Name=Crest Ford<br>City=%{x}<br>longitude=%{y}<br>latitude=%{z}<extra></extra>",
         "legendgroup": "Crest Ford",
         "marker": {
          "color": "#B6E880",
          "symbol": "circle"
         },
         "mode": "markers",
         "name": "Crest Ford",
         "scene": "scene",
         "showlegend": true,
         "type": "scatter3d",
         "x": [
          "Niantic"
         ],
         "y": [
          -72.211435
         ],
         "z": [
          41.354043
         ]
        },
        {
         "hovertemplate": "Station_Name=Central Connecticut State University - Sheridan Dorm Lot<br>City=%{x}<br>longitude=%{y}<br>latitude=%{z}<extra></extra>",
         "legendgroup": "Central Connecticut State University - Sheridan Dorm Lot",
         "marker": {
          "color": "#FF97FF",
          "symbol": "circle"
         },
         "mode": "markers",
         "name": "Central Connecticut State University - Sheridan Dorm Lot",
         "scene": "scene",
         "showlegend": true,
         "type": "scatter3d",
         "x": [
          "New Britain"
         ],
         "y": [
          -72.762739
         ],
         "z": [
          41.692973
         ]
        },
        {
         "hovertemplate": "Station_Name=LIBRARY KIOSK<br>City=%{x}<br>longitude=%{y}<br>latitude=%{z}<extra></extra>",
         "legendgroup": "LIBRARY KIOSK",
         "marker": {
          "color": "#FECB52",
          "symbol": "circle"
         },
         "mode": "markers",
         "name": "LIBRARY KIOSK",
         "scene": "scene",
         "showlegend": true,
         "type": "scatter3d",
         "x": [
          "New Milford"
         ],
         "y": [
          -73.41116
         ],
         "z": [
          41.5785572
         ]
        },
        {
         "hovertemplate": "Station_Name=Hotel HiHo - Tesla Destination<br>City=%{x}<br>longitude=%{y}<br>latitude=%{z}<extra></extra>",
         "legendgroup": "Hotel HiHo - Tesla Destination",
         "marker": {
          "color": "#636efa",
          "symbol": "circle"
         },
         "mode": "markers",
         "name": "Hotel HiHo - Tesla Destination",
         "scene": "scene",
         "showlegend": true,
         "type": "scatter3d",
         "x": [
          "Fairfield"
         ],
         "y": [
          -73.271401
         ],
         "z": [
          41.203858
         ]
        },
        {
         "hovertemplate": "Station_Name=Summer Street Garage<br>City=%{x}<br>longitude=%{y}<br>latitude=%{z}<extra></extra>",
         "legendgroup": "Summer Street Garage",
         "marker": {
          "color": "#EF553B",
          "symbol": "circle"
         },
         "mode": "markers",
         "name": "Summer Street Garage",
         "scene": "scene",
         "showlegend": true,
         "type": "scatter3d",
         "x": [
          "Stamford"
         ],
         "y": [
          -73.541625
         ],
         "z": [
          41.054155
         ]
        },
        {
         "hovertemplate": "Station_Name=MUNICIP STATION<br>City=%{x}<br>longitude=%{y}<br>latitude=%{z}<extra></extra>",
         "legendgroup": "MUNICIP STATION",
         "marker": {
          "color": "#00cc96",
          "symbol": "circle"
         },
         "mode": "markers",
         "name": "MUNICIP STATION",
         "scene": "scene",
         "showlegend": true,
         "type": "scatter3d",
         "x": [
          "Newtown"
         ],
         "y": [
          -73.2847962
         ],
         "z": [
          41.4007757
         ]
        },
        {
         "hovertemplate": "Station_Name=PURDUE PHARMA<br>City=%{x}<br>longitude=%{y}<br>latitude=%{z}<extra></extra>",
         "legendgroup": "PURDUE PHARMA",
         "marker": {
          "color": "#ab63fa",
          "symbol": "circle"
         },
         "mode": "markers",
         "name": "PURDUE PHARMA",
         "scene": "scene",
         "showlegend": true,
         "type": "scatter3d",
         "x": [
          "Stamford"
         ],
         "y": [
          -73.53779
         ],
         "z": [
          41.050574
         ]
        },
        {
         "hovertemplate": "Station_Name=Hartford High School<br>City=%{x}<br>longitude=%{y}<br>latitude=%{z}<extra></extra>",
         "legendgroup": "Hartford High School",
         "marker": {
          "color": "#FFA15A",
          "symbol": "circle"
         },
         "mode": "markers",
         "name": "Hartford High School",
         "scene": "scene",
         "showlegend": true,
         "type": "scatter3d",
         "x": [
          "Hartford"
         ],
         "y": [
          -72.701271
         ],
         "z": [
          41.765034
         ]
        },
        {
         "hovertemplate": "Station_Name=Bloomfield Town Hall<br>City=%{x}<br>longitude=%{y}<br>latitude=%{z}<extra></extra>",
         "legendgroup": "Bloomfield Town Hall",
         "marker": {
          "color": "#19d3f3",
          "symbol": "circle"
         },
         "mode": "markers",
         "name": "Bloomfield Town Hall",
         "scene": "scene",
         "showlegend": true,
         "type": "scatter3d",
         "x": [
          "Bloomfield"
         ],
         "y": [
          -72.7373929
         ],
         "z": [
          41.8298475
         ]
        },
        {
         "hovertemplate": "Station_Name=GUNNERY<br>City=%{x}<br>longitude=%{y}<br>latitude=%{z}<extra></extra>",
         "legendgroup": "GUNNERY",
         "marker": {
          "color": "#FF6692",
          "symbol": "circle"
         },
         "mode": "markers",
         "name": "GUNNERY",
         "scene": "scene",
         "showlegend": true,
         "type": "scatter3d",
         "x": [
          "Washington"
         ],
         "y": [
          -73.3124
         ],
         "z": [
          41.628033
         ]
        },
        {
         "hovertemplate": "Station_Name=University of Connecticut - Storrs Center Garage<br>City=%{x}<br>longitude=%{y}<br>latitude=%{z}<extra></extra>",
         "legendgroup": "University of Connecticut - Storrs Center Garage",
         "marker": {
          "color": "#B6E880",
          "symbol": "circle"
         },
         "mode": "markers",
         "name": "University of Connecticut - Storrs Center Garage",
         "scene": "scene",
         "showlegend": true,
         "type": "scatter3d",
         "x": [
          "Storrs"
         ],
         "y": [
          -72.2442218
         ],
         "z": [
          41.8041965
         ]
        },
        {
         "hovertemplate": "Station_Name=JAGLRNH<br>City=%{x}<br>longitude=%{y}<br>latitude=%{z}<extra></extra>",
         "legendgroup": "JAGLRNH",
         "marker": {
          "color": "#FF97FF",
          "symbol": "circle"
         },
         "mode": "markers",
         "name": "JAGLRNH",
         "scene": "scene",
         "showlegend": true,
         "type": "scatter3d",
         "x": [
          "North Haven"
         ],
         "y": [
          -72.8415278
         ],
         "z": [
          41.4168397
         ]
        },
        {
         "hovertemplate": "Station_Name=Town of Stafford - Town Hall<br>City=%{x}<br>longitude=%{y}<br>latitude=%{z}<extra></extra>",
         "legendgroup": "Town of Stafford - Town Hall",
         "marker": {
          "color": "#FECB52",
          "symbol": "circle"
         },
         "mode": "markers",
         "name": "Town of Stafford - Town Hall",
         "scene": "scene",
         "showlegend": true,
         "type": "scatter3d",
         "x": [
          "Stafford Springs"
         ],
         "y": [
          -72.303231
         ],
         "z": [
          41.953668
         ]
        },
        {
         "hovertemplate": "Station_Name=Charter Oak International Academy<br>City=%{x}<br>longitude=%{y}<br>latitude=%{z}<extra></extra>",
         "legendgroup": "Charter Oak International Academy",
         "marker": {
          "color": "#636efa",
          "symbol": "circle"
         },
         "mode": "markers",
         "name": "Charter Oak International Academy",
         "scene": "scene",
         "showlegend": true,
         "type": "scatter3d",
         "x": [
          "West Hartford"
         ],
         "y": [
          -72.722829
         ],
         "z": [
          41.742975
         ]
        },
        {
         "hovertemplate": "Station_Name=Town of Newington - Market Square<br>City=%{x}<br>longitude=%{y}<br>latitude=%{z}<extra></extra>",
         "legendgroup": "Town of Newington - Market Square",
         "marker": {
          "color": "#EF553B",
          "symbol": "circle"
         },
         "mode": "markers",
         "name": "Town of Newington - Market Square",
         "scene": "scene",
         "showlegend": true,
         "type": "scatter3d",
         "x": [
          "Newington"
         ],
         "y": [
          -72.7214
         ],
         "z": [
          41.6972
         ]
        },
        {
         "hovertemplate": "Station_Name=Riverfield School<br>City=%{x}<br>longitude=%{y}<br>latitude=%{z}<extra></extra>",
         "legendgroup": "Riverfield School",
         "marker": {
          "color": "#00cc96",
          "symbol": "circle"
         },
         "mode": "markers",
         "name": "Riverfield School",
         "scene": "scene",
         "showlegend": true,
         "type": "scatter3d",
         "x": [
          "Fairfield"
         ],
         "y": [
          -73.267585
         ],
         "z": [
          41.162306
         ]
        },
        {
         "hovertemplate": "Station_Name=Capital Regional Development Authority (CRDA)<br>City=%{x}<br>longitude=%{y}<br>latitude=%{z}<extra></extra>",
         "legendgroup": "Capital Regional Development Authority (CRDA)",
         "marker": {
          "color": "#ab63fa",
          "symbol": "circle"
         },
         "mode": "markers",
         "name": "Capital Regional Development Authority (CRDA)",
         "scene": "scene",
         "showlegend": true,
         "type": "scatter3d",
         "x": [
          "Hartford"
         ],
         "y": [
          -72.670165
         ],
         "z": [
          41.763287
         ]
        },
        {
         "hovertemplate": "Station_Name=The SoNo Collection<br>City=%{x}<br>longitude=%{y}<br>latitude=%{z}<extra></extra>",
         "legendgroup": "The SoNo Collection",
         "marker": {
          "color": "#FFA15A",
          "symbol": "circle"
         },
         "mode": "markers",
         "name": "The SoNo Collection",
         "scene": "scene",
         "showlegend": true,
         "type": "scatter3d",
         "x": [
          "Norwalk"
         ],
         "y": [
          -73.418883
         ],
         "z": [
          41.104791
         ]
        },
        {
         "hovertemplate": "Station_Name=City of New Haven - Whalley Blake Parking Lot<br>City=%{x}<br>longitude=%{y}<br>latitude=%{z}<extra></extra>",
         "legendgroup": "City of New Haven - Whalley Blake Parking Lot",
         "marker": {
          "color": "#19d3f3",
          "symbol": "circle"
         },
         "mode": "markers",
         "name": "City of New Haven - Whalley Blake Parking Lot",
         "scene": "scene",
         "showlegend": true,
         "type": "scatter3d",
         "x": [
          "New Haven"
         ],
         "y": [
          -72.960178
         ],
         "z": [
          41.327848
         ]
        },
        {
         "hovertemplate": "Station_Name=Riverview Cinemas 8 and Playhouse - Tesla Destination<br>City=%{x}<br>longitude=%{y}<br>latitude=%{z}<extra></extra>",
         "legendgroup": "Riverview Cinemas 8 and Playhouse - Tesla Destination",
         "marker": {
          "color": "#FF6692",
          "symbol": "circle"
         },
         "mode": "markers",
         "name": "Riverview Cinemas 8 and Playhouse - Tesla Destination",
         "scene": "scene",
         "showlegend": true,
         "type": "scatter3d",
         "x": [
          "Southbury"
         ],
         "y": [
          -73.230644
         ],
         "z": [
          41.465044
         ]
        },
        {
         "hovertemplate": "Station_Name=The Ridgefield Playhouse<br>City=%{x}<br>longitude=%{y}<br>latitude=%{z}<extra></extra>",
         "legendgroup": "The Ridgefield Playhouse",
         "marker": {
          "color": "#B6E880",
          "symbol": "circle"
         },
         "mode": "markers",
         "name": "The Ridgefield Playhouse",
         "scene": "scene",
         "showlegend": true,
         "type": "scatter3d",
         "x": [
          "Ridgefield"
         ],
         "y": [
          -73.492605
         ],
         "z": [
          41.282264
         ]
        },
        {
         "hovertemplate": "Station_Name=Meriden Station Garage<br>City=%{x}<br>longitude=%{y}<br>latitude=%{z}<extra></extra>",
         "legendgroup": "Meriden Station Garage",
         "marker": {
          "color": "#FF97FF",
          "symbol": "circle"
         },
         "mode": "markers",
         "name": "Meriden Station Garage",
         "scene": "scene",
         "showlegend": true,
         "type": "scatter3d",
         "x": [
          "Meriden"
         ],
         "y": [
          -72.802667
         ],
         "z": [
          41.539218
         ]
        },
        {
         "hovertemplate": "Station_Name=HONDA WESTPORT<br>City=%{x}<br>longitude=%{y}<br>latitude=%{z}<extra></extra>",
         "legendgroup": "HONDA WESTPORT",
         "marker": {
          "color": "#FECB52",
          "symbol": "circle"
         },
         "mode": "markers",
         "name": "HONDA WESTPORT",
         "scene": "scene",
         "showlegend": true,
         "type": "scatter3d",
         "x": [
          "Westport"
         ],
         "y": [
          -73.317072
         ],
         "z": [
          41.138623
         ]
        },
        {
         "hovertemplate": "Station_Name=FOXWOODS<br>City=%{x}<br>longitude=%{y}<br>latitude=%{z}<extra></extra>",
         "legendgroup": "FOXWOODS",
         "marker": {
          "color": "#636efa",
          "symbol": "circle"
         },
         "mode": "markers",
         "name": "FOXWOODS",
         "scene": "scene",
         "showlegend": true,
         "type": "scatter3d",
         "x": [
          "Mashantucket",
          "Ledyard",
          "Mashantucket"
         ],
         "y": [
          -71.9600027,
          -71.9600034,
          -71.9523342
         ],
         "z": [
          41.4733521,
          41.4733358,
          41.469981700000005
         ]
        },
        {
         "hovertemplate": "Station_Name=TOWN HALL LOT<br>City=%{x}<br>longitude=%{y}<br>latitude=%{z}<extra></extra>",
         "legendgroup": "TOWN HALL LOT",
         "marker": {
          "color": "#EF553B",
          "symbol": "circle"
         },
         "mode": "markers",
         "name": "TOWN HALL LOT",
         "scene": "scene",
         "showlegend": true,
         "type": "scatter3d",
         "x": [
          "East Hartford"
         ],
         "y": [
          -72.6446905
         ],
         "z": [
          41.7660404
         ]
        },
        {
         "hovertemplate": "Station_Name=Plainville High School<br>City=%{x}<br>longitude=%{y}<br>latitude=%{z}<extra></extra>",
         "legendgroup": "Plainville High School",
         "marker": {
          "color": "#00cc96",
          "symbol": "circle"
         },
         "mode": "markers",
         "name": "Plainville High School",
         "scene": "scene",
         "showlegend": true,
         "type": "scatter3d",
         "x": [
          "Plainville"
         ],
         "y": [
          -72.8580302
         ],
         "z": [
          41.6659341
         ]
        },
        {
         "hovertemplate": "Station_Name=Connecticut Welcome Center - Tesla Supercharger<br>City=%{x}<br>longitude=%{y}<br>latitude=%{z}<extra></extra>",
         "legendgroup": "Connecticut Welcome Center - Tesla Supercharger",
         "marker": {
          "color": "#ab63fa",
          "symbol": "circle"
         },
         "mode": "markers",
         "name": "Connecticut Welcome Center - Tesla Supercharger",
         "scene": "scene",
         "showlegend": true,
         "type": "scatter3d",
         "x": [
          "Darien",
          "Darien"
         ],
         "y": [
          -73.504917,
          -73.46135
         ],
         "z": [
          41.067306,
          41.080103
         ]
        },
        {
         "hovertemplate": "Station_Name=Tamarack Country Club - Tesla Destination<br>City=%{x}<br>longitude=%{y}<br>latitude=%{z}<extra></extra>",
         "legendgroup": "Tamarack Country Club - Tesla Destination",
         "marker": {
          "color": "#FFA15A",
          "symbol": "circle"
         },
         "mode": "markers",
         "name": "Tamarack Country Club - Tesla Destination",
         "scene": "scene",
         "showlegend": true,
         "type": "scatter3d",
         "x": [
          "Greenwich"
         ],
         "y": [
          -73.709755
         ],
         "z": [
          41.094294
         ]
        },
        {
         "hovertemplate": "Station_Name=Madison Beach Hotel - Tesla Destination<br>City=%{x}<br>longitude=%{y}<br>latitude=%{z}<extra></extra>",
         "legendgroup": "Madison Beach Hotel - Tesla Destination",
         "marker": {
          "color": "#19d3f3",
          "symbol": "circle"
         },
         "mode": "markers",
         "name": "Madison Beach Hotel - Tesla Destination",
         "scene": "scene",
         "showlegend": true,
         "type": "scatter3d",
         "x": [
          "Madison"
         ],
         "y": [
          -72.608573
         ],
         "z": [
          41.27077
         ]
        },
        {
         "hovertemplate": "Station_Name=Newington Electric<br>City=%{x}<br>longitude=%{y}<br>latitude=%{z}<extra></extra>",
         "legendgroup": "Newington Electric",
         "marker": {
          "color": "#FF6692",
          "symbol": "circle"
         },
         "mode": "markers",
         "name": "Newington Electric",
         "scene": "scene",
         "showlegend": true,
         "type": "scatter3d",
         "x": [
          "Newington"
         ],
         "y": [
          -72.729203
         ],
         "z": [
          41.65514
         ]
        },
        {
         "hovertemplate": "Station_Name=Premier Kia<br>City=%{x}<br>longitude=%{y}<br>latitude=%{z}<extra></extra>",
         "legendgroup": "Premier Kia",
         "marker": {
          "color": "#B6E880",
          "symbol": "circle"
         },
         "mode": "markers",
         "name": "Premier Kia",
         "scene": "scene",
         "showlegend": true,
         "type": "scatter3d",
         "x": [
          "Branford"
         ],
         "y": [
          -72.809324
         ],
         "z": [
          41.289894
         ]
        },
        {
         "hovertemplate": "Station_Name=The Shoppes at Fox Run 1<br>City=%{x}<br>longitude=%{y}<br>latitude=%{z}<extra></extra>",
         "legendgroup": "The Shoppes at Fox Run 1",
         "marker": {
          "color": "#FF97FF",
          "symbol": "circle"
         },
         "mode": "markers",
         "name": "The Shoppes at Fox Run 1",
         "scene": "scene",
         "showlegend": true,
         "type": "scatter3d",
         "x": [
          "Glastonbury"
         ],
         "y": [
          -72.608292
         ],
         "z": [
          41.714088
         ]
        },
        {
         "hovertemplate": "Station_Name=NBCSG<br>City=%{x}<br>longitude=%{y}<br>latitude=%{z}<extra></extra>",
         "legendgroup": "NBCSG",
         "marker": {
          "color": "#FECB52",
          "symbol": "circle"
         },
         "mode": "markers",
         "name": "NBCSG",
         "scene": "scene",
         "showlegend": true,
         "type": "scatter3d",
         "x": [
          "Stamford",
          "Stamford",
          "Stamford"
         ],
         "y": [
          -73.516045,
          -73.5160406,
          -73.5160366
         ],
         "z": [
          41.054321,
          41.053776,
          41.0532451
         ]
        },
        {
         "hovertemplate": "Station_Name=EDENS BISHOPS<br>City=%{x}<br>longitude=%{y}<br>latitude=%{z}<extra></extra>",
         "legendgroup": "EDENS BISHOPS",
         "marker": {
          "color": "#636efa",
          "symbol": "circle"
         },
         "mode": "markers",
         "name": "EDENS BISHOPS",
         "scene": "scene",
         "showlegend": true,
         "type": "scatter3d",
         "x": [
          "West Hartford"
         ],
         "y": [
          -72.7479436
         ],
         "z": [
          41.784487
         ]
        },
        {
         "hovertemplate": "Station_Name=Propark - Water Street Garage<br>City=%{x}<br>longitude=%{y}<br>latitude=%{z}<extra></extra>",
         "legendgroup": "Propark - Water Street Garage",
         "marker": {
          "color": "#EF553B",
          "symbol": "circle"
         },
         "mode": "markers",
         "name": "Propark - Water Street Garage",
         "scene": "scene",
         "showlegend": true,
         "type": "scatter3d",
         "x": [
          "New London"
         ],
         "y": [
          -72.093784
         ],
         "z": [
          41.355486
         ]
        },
        {
         "hovertemplate": "Station_Name=Connecticut Post Mall - Tesla Supercharger<br>City=%{x}<br>longitude=%{y}<br>latitude=%{z}<extra></extra>",
         "legendgroup": "Connecticut Post Mall - Tesla Supercharger",
         "marker": {
          "color": "#00cc96",
          "symbol": "circle"
         },
         "mode": "markers",
         "name": "Connecticut Post Mall - Tesla Supercharger",
         "scene": "scene",
         "showlegend": true,
         "type": "scatter3d",
         "x": [
          "Milford"
         ],
         "y": [
          -73.036133
         ],
         "z": [
          41.238119
         ]
        },
        {
         "hovertemplate": "Station_Name=Manchester Honda<br>City=%{x}<br>longitude=%{y}<br>latitude=%{z}<extra></extra>",
         "legendgroup": "Manchester Honda",
         "marker": {
          "color": "#ab63fa",
          "symbol": "circle"
         },
         "mode": "markers",
         "name": "Manchester Honda",
         "scene": "scene",
         "showlegend": true,
         "type": "scatter3d",
         "x": [
          "Manchester"
         ],
         "y": [
          -72.552974
         ],
         "z": [
          41.795898
         ]
        },
        {
         "hovertemplate": "Station_Name=New London Mall - Tesla Supercharger<br>City=%{x}<br>longitude=%{y}<br>latitude=%{z}<extra></extra>",
         "legendgroup": "New London Mall - Tesla Supercharger",
         "marker": {
          "color": "#FFA15A",
          "symbol": "circle"
         },
         "mode": "markers",
         "name": "New London Mall - Tesla Supercharger",
         "scene": "scene",
         "showlegend": true,
         "type": "scatter3d",
         "x": [
          "New London"
         ],
         "y": [
          -72.119376
         ],
         "z": [
          41.370726
         ]
        },
        {
         "hovertemplate": "Station_Name=Plainville Municipal Center<br>City=%{x}<br>longitude=%{y}<br>latitude=%{z}<extra></extra>",
         "legendgroup": "Plainville Municipal Center",
         "marker": {
          "color": "#19d3f3",
          "symbol": "circle"
         },
         "mode": "markers",
         "name": "Plainville Municipal Center",
         "scene": "scene",
         "showlegend": true,
         "type": "scatter3d",
         "x": [
          "Plainville"
         ],
         "y": [
          -72.8670212999999
         ],
         "z": [
          41.6717114
         ]
        },
        {
         "hovertemplate": "Station_Name=The Study at Yale - Tesla Destination<br>City=%{x}<br>longitude=%{y}<br>latitude=%{z}<extra></extra>",
         "legendgroup": "The Study at Yale - Tesla Destination",
         "marker": {
          "color": "#FF6692",
          "symbol": "circle"
         },
         "mode": "markers",
         "name": "The Study at Yale - Tesla Destination",
         "scene": "scene",
         "showlegend": true,
         "type": "scatter3d",
         "x": [
          "New Haven"
         ],
         "y": [
          -72.932698
         ],
         "z": [
          41.308741
         ]
        },
        {
         "hovertemplate": "Station_Name=Connecticut Science Center<br>City=%{x}<br>longitude=%{y}<br>latitude=%{z}<extra></extra>",
         "legendgroup": "Connecticut Science Center",
         "marker": {
          "color": "#B6E880",
          "symbol": "circle"
         },
         "mode": "markers",
         "name": "Connecticut Science Center",
         "scene": "scene",
         "showlegend": true,
         "type": "scatter3d",
         "x": [
          "Hartford"
         ],
         "y": [
          -72.668833
         ],
         "z": [
          41.764376
         ]
        },
        {
         "hovertemplate": "Station_Name=Windham High School<br>City=%{x}<br>longitude=%{y}<br>latitude=%{z}<extra></extra>",
         "legendgroup": "Windham High School",
         "marker": {
          "color": "#FF97FF",
          "symbol": "circle"
         },
         "mode": "markers",
         "name": "Windham High School",
         "scene": "scene",
         "showlegend": true,
         "type": "scatter3d",
         "x": [
          "Windham"
         ],
         "y": [
          -72.214432
         ],
         "z": [
          41.723169
         ]
        },
        {
         "hovertemplate": "Station_Name=BIG Y FOODS<br>City=%{x}<br>longitude=%{y}<br>latitude=%{z}<extra></extra>",
         "legendgroup": "BIG Y FOODS",
         "marker": {
          "color": "#FECB52",
          "symbol": "circle"
         },
         "mode": "markers",
         "name": "BIG Y FOODS",
         "scene": "scene",
         "showlegend": true,
         "type": "scatter3d",
         "x": [
          "Shelton",
          "Norwich",
          "Ellington"
         ],
         "y": [
          -73.11066,
          -72.12423,
          -72.46388
         ],
         "z": [
          41.29434,
          41.505790000000005,
          41.888958
         ]
        },
        {
         "hovertemplate": "Station_Name=WHOLE FOODS MKT<br>City=%{x}<br>longitude=%{y}<br>latitude=%{z}<extra></extra>",
         "legendgroup": "WHOLE FOODS MKT",
         "marker": {
          "color": "#636efa",
          "symbol": "circle"
         },
         "mode": "markers",
         "name": "WHOLE FOODS MKT",
         "scene": "scene",
         "showlegend": true,
         "type": "scatter3d",
         "x": [
          "Danbury",
          "Danbury"
         ],
         "y": [
          -73.475576,
          -73.4755929
         ],
         "z": [
          41.3777667,
          41.3781241
         ]
        },
        {
         "hovertemplate": "Station_Name=I-95 Madison NB Service Plaza - Tesla Supercharger<br>City=%{x}<br>longitude=%{y}<br>latitude=%{z}<extra></extra>",
         "legendgroup": "I-95 Madison NB Service Plaza - Tesla Supercharger",
         "marker": {
          "color": "#EF553B",
          "symbol": "circle"
         },
         "mode": "markers",
         "name": "I-95 Madison NB Service Plaza - Tesla Supercharger",
         "scene": "scene",
         "showlegend": true,
         "type": "scatter3d",
         "x": [
          "Madison"
         ],
         "y": [
          -72.5804966772461
         ],
         "z": [
          41.2904885216395
         ]
        },
        {
         "hovertemplate": "Station_Name=Canton Town Hall<br>City=%{x}<br>longitude=%{y}<br>latitude=%{z}<extra></extra>",
         "legendgroup": "Canton Town Hall",
         "marker": {
          "color": "#00cc96",
          "symbol": "circle"
         },
         "mode": "markers",
         "name": "Canton Town Hall",
         "scene": "scene",
         "showlegend": true,
         "type": "scatter3d",
         "x": [
          "Canton"
         ],
         "y": [
          -72.923177
         ],
         "z": [
          41.811022
         ]
        },
        {
         "hovertemplate": "Station_Name=TOD<br>City=%{x}<br>longitude=%{y}<br>latitude=%{z}<extra></extra>",
         "legendgroup": "TOD",
         "marker": {
          "color": "#ab63fa",
          "symbol": "circle"
         },
         "mode": "markers",
         "name": "TOD",
         "scene": "scene",
         "showlegend": true,
         "type": "scatter3d",
         "x": [
          "Durham"
         ],
         "y": [
          -72.6809263
         ],
         "z": [
          41.472228
         ]
        },
        {
         "hovertemplate": "Station_Name=Delamar Southport - Tesla Destination<br>City=%{x}<br>longitude=%{y}<br>latitude=%{z}<extra></extra>",
         "legendgroup": "Delamar Southport - Tesla Destination",
         "marker": {
          "color": "#FFA15A",
          "symbol": "circle"
         },
         "mode": "markers",
         "name": "Delamar Southport - Tesla Destination",
         "scene": "scene",
         "showlegend": true,
         "type": "scatter3d",
         "x": [
          "Fairfield"
         ],
         "y": [
          -73.245943
         ],
         "z": [
          41.146162
         ]
        },
        {
         "hovertemplate": "Station_Name=Andrew Ward School<br>City=%{x}<br>longitude=%{y}<br>latitude=%{z}<extra></extra>",
         "legendgroup": "Andrew Ward School",
         "marker": {
          "color": "#19d3f3",
          "symbol": "circle"
         },
         "mode": "markers",
         "name": "Andrew Ward School",
         "scene": "scene",
         "showlegend": true,
         "type": "scatter3d",
         "x": [
          "Fairfield"
         ],
         "y": [
          -73.234423
         ],
         "z": [
          41.185685
         ]
        },
        {
         "hovertemplate": "Station_Name=Connecticut Department of Energy and Environmental Protection<br>City=%{x}<br>longitude=%{y}<br>latitude=%{z}<extra></extra>",
         "legendgroup": "Connecticut Department of Energy and Environmental Protection",
         "marker": {
          "color": "#FF6692",
          "symbol": "circle"
         },
         "mode": "markers",
         "name": "Connecticut Department of Energy and Environmental Protection",
         "scene": "scene",
         "showlegend": true,
         "type": "scatter3d",
         "x": [
          "Hartford"
         ],
         "y": [
          -72.678633
         ],
         "z": [
          41.763294
         ]
        },
        {
         "hovertemplate": "Station_Name=Arapahoe Parking Lot<br>City=%{x}<br>longitude=%{y}<br>latitude=%{z}<extra></extra>",
         "legendgroup": "Arapahoe Parking Lot",
         "marker": {
          "color": "#B6E880",
          "symbol": "circle"
         },
         "mode": "markers",
         "name": "Arapahoe Parking Lot",
         "scene": "scene",
         "showlegend": true,
         "type": "scatter3d",
         "x": [
          "West Hartford"
         ],
         "y": [
          -72.744596
         ],
         "z": [
          41.759108000000005
         ]
        },
        {
         "hovertemplate": "Station_Name=Southington Public Library<br>City=%{x}<br>longitude=%{y}<br>latitude=%{z}<extra></extra>",
         "legendgroup": "Southington Public Library",
         "marker": {
          "color": "#FF97FF",
          "symbol": "circle"
         },
         "mode": "markers",
         "name": "Southington Public Library",
         "scene": "scene",
         "showlegend": true,
         "type": "scatter3d",
         "x": [
          "Southington"
         ],
         "y": [
          -72.877465
         ],
         "z": [
          41.596225
         ]
        },
        {
         "hovertemplate": "Station_Name=Paul Miller Nissan<br>City=%{x}<br>longitude=%{y}<br>latitude=%{z}<extra></extra>",
         "legendgroup": "Paul Miller Nissan",
         "marker": {
          "color": "#FECB52",
          "symbol": "circle"
         },
         "mode": "markers",
         "name": "Paul Miller Nissan",
         "scene": "scene",
         "showlegend": true,
         "type": "scatter3d",
         "x": [
          "Fairfield"
         ],
         "y": [
          -73.233711
         ],
         "z": [
          41.167407
         ]
        },
        {
         "hovertemplate": "Station_Name=Town of New Fairfield - Town Hall<br>City=%{x}<br>longitude=%{y}<br>latitude=%{z}<extra></extra>",
         "legendgroup": "Town of New Fairfield - Town Hall",
         "marker": {
          "color": "#636efa",
          "symbol": "circle"
         },
         "mode": "markers",
         "name": "Town of New Fairfield - Town Hall",
         "scene": "scene",
         "showlegend": true,
         "type": "scatter3d",
         "x": [
          "New Fairfield"
         ],
         "y": [
          -73.487032
         ],
         "z": [
          41.465514
         ]
        },
        {
         "hovertemplate": "Station_Name=Chip's Family Restaurant - Tesla Destination<br>City=%{x}<br>longitude=%{y}<br>latitude=%{z}<extra></extra>",
         "legendgroup": "Chip's Family Restaurant - Tesla Destination",
         "marker": {
          "color": "#EF553B",
          "symbol": "circle"
         },
         "mode": "markers",
         "name": "Chip's Family Restaurant - Tesla Destination",
         "scene": "scene",
         "showlegend": true,
         "type": "scatter3d",
         "x": [
          "Orange"
         ],
         "y": [
          -73.004741
         ],
         "z": [
          41.2645
         ]
        },
        {
         "hovertemplate": "Station_Name=George Harte Nissan<br>City=%{x}<br>longitude=%{y}<br>latitude=%{z}<extra></extra>",
         "legendgroup": "George Harte Nissan",
         "marker": {
          "color": "#00cc96",
          "symbol": "circle"
         },
         "mode": "markers",
         "name": "George Harte Nissan",
         "scene": "scene",
         "showlegend": true,
         "type": "scatter3d",
         "x": [
          "West Haven"
         ],
         "y": [
          -72.968506
         ],
         "z": [
          41.307602
         ]
        },
        {
         "hovertemplate": "Station_Name=STOP SHOP<br>City=%{x}<br>longitude=%{y}<br>latitude=%{z}<extra></extra>",
         "legendgroup": "STOP SHOP",
         "marker": {
          "color": "#ab63fa",
          "symbol": "circle"
         },
         "mode": "markers",
         "name": "STOP SHOP",
         "scene": "scene",
         "showlegend": true,
         "type": "scatter3d",
         "x": [
          "Darien"
         ],
         "y": [
          -73.4948097
         ],
         "z": [
          41.070243
         ]
        },
        {
         "hovertemplate": "Station_Name=East Shore District Health Department<br>City=%{x}<br>longitude=%{y}<br>latitude=%{z}<extra></extra>",
         "legendgroup": "East Shore District Health Department",
         "marker": {
          "color": "#FFA15A",
          "symbol": "circle"
         },
         "mode": "markers",
         "name": "East Shore District Health Department",
         "scene": "scene",
         "showlegend": true,
         "type": "scatter3d",
         "x": [
          "Branford"
         ],
         "y": [
          -72.756902
         ],
         "z": [
          41.305071
         ]
        },
        {
         "hovertemplate": "Station_Name=Ridgefield BMW<br>City=%{x}<br>longitude=%{y}<br>latitude=%{z}<extra></extra>",
         "legendgroup": "Ridgefield BMW",
         "marker": {
          "color": "#19d3f3",
          "symbol": "circle"
         },
         "mode": "markers",
         "name": "Ridgefield BMW",
         "scene": "scene",
         "showlegend": true,
         "type": "scatter3d",
         "x": [
          "Ridgefield"
         ],
         "y": [
          -73.472615
         ],
         "z": [
          41.331117
         ]
        },
        {
         "hovertemplate": "Station_Name=Big Y<br>City=%{x}<br>longitude=%{y}<br>latitude=%{z}<extra></extra>",
         "legendgroup": "Big Y",
         "marker": {
          "color": "#FF6692",
          "symbol": "circle"
         },
         "mode": "markers",
         "name": "Big Y",
         "scene": "scene",
         "showlegend": true,
         "type": "scatter3d",
         "x": [
          "Old Saybrook",
          "Cheshire"
         ],
         "y": [
          -72.416634,
          -72.907523
         ],
         "z": [
          41.28648200000001,
          41.476271
         ]
        },
        {
         "hovertemplate": "Station_Name=Green Farms Plaza<br>City=%{x}<br>longitude=%{y}<br>latitude=%{z}<extra></extra>",
         "legendgroup": "Green Farms Plaza",
         "marker": {
          "color": "#B6E880",
          "symbol": "circle"
         },
         "mode": "markers",
         "name": "Green Farms Plaza",
         "scene": "scene",
         "showlegend": true,
         "type": "scatter3d",
         "x": [
          "Westport"
         ],
         "y": [
          -73.314364
         ],
         "z": [
          41.138478
         ]
        },
        {
         "hovertemplate": "Station_Name=Bridgeport Hospital<br>City=%{x}<br>longitude=%{y}<br>latitude=%{z}<extra></extra>",
         "legendgroup": "Bridgeport Hospital",
         "marker": {
          "color": "#FF97FF",
          "symbol": "circle"
         },
         "mode": "markers",
         "name": "Bridgeport Hospital",
         "scene": "scene",
         "showlegend": true,
         "type": "scatter3d",
         "x": [
          "Bridgeport"
         ],
         "y": [
          -73.166282
         ],
         "z": [
          41.190701
         ]
        },
        {
         "hovertemplate": "Station_Name=Town of Stafford - Community Center<br>City=%{x}<br>longitude=%{y}<br>latitude=%{z}<extra></extra>",
         "legendgroup": "Town of Stafford - Community Center",
         "marker": {
          "color": "#FECB52",
          "symbol": "circle"
         },
         "mode": "markers",
         "name": "Town of Stafford - Community Center",
         "scene": "scene",
         "showlegend": true,
         "type": "scatter3d",
         "x": [
          "Stafford Springs"
         ],
         "y": [
          -72.289249
         ],
         "z": [
          41.956727
         ]
        },
        {
         "hovertemplate": "Station_Name=Constitution Plaza - South<br>City=%{x}<br>longitude=%{y}<br>latitude=%{z}<extra></extra>",
         "legendgroup": "Constitution Plaza - South",
         "marker": {
          "color": "#636efa",
          "symbol": "circle"
         },
         "mode": "markers",
         "name": "Constitution Plaza - South",
         "scene": "scene",
         "showlegend": true,
         "type": "scatter3d",
         "x": [
          "Hartford"
         ],
         "y": [
          -72.670032
         ],
         "z": [
          41.767185
         ]
        },
        {
         "hovertemplate": "Station_Name=Coventry Town Hall<br>City=%{x}<br>longitude=%{y}<br>latitude=%{z}<extra></extra>",
         "legendgroup": "Coventry Town Hall",
         "marker": {
          "color": "#EF553B",
          "symbol": "circle"
         },
         "mode": "markers",
         "name": "Coventry Town Hall",
         "scene": "scene",
         "showlegend": true,
         "type": "scatter3d",
         "x": [
          "Coventry"
         ],
         "y": [
          -72.312334
         ],
         "z": [
          41.780058
         ]
        },
        {
         "hovertemplate": "Station_Name=Curran Volkswagen<br>City=%{x}<br>longitude=%{y}<br>latitude=%{z}<extra></extra>",
         "legendgroup": "Curran Volkswagen",
         "marker": {
          "color": "#00cc96",
          "symbol": "circle"
         },
         "mode": "markers",
         "name": "Curran Volkswagen",
         "scene": "scene",
         "showlegend": true,
         "type": "scatter3d",
         "x": [
          "Stratford"
         ],
         "y": [
          -73.131808
         ],
         "z": [
          41.198467
         ]
        },
        {
         "hovertemplate": "Station_Name=644 West Putnam<br>City=%{x}<br>longitude=%{y}<br>latitude=%{z}<extra></extra>",
         "legendgroup": "644 West Putnam",
         "marker": {
          "color": "#ab63fa",
          "symbol": "circle"
         },
         "mode": "markers",
         "name": "644 West Putnam",
         "scene": "scene",
         "showlegend": true,
         "type": "scatter3d",
         "x": [
          "Greenwich"
         ],
         "y": [
          -73.6476069
         ],
         "z": [
          41.016928
         ]
        },
        {
         "hovertemplate": "Station_Name=Grove Street Parking Garage<br>City=%{x}<br>longitude=%{y}<br>latitude=%{z}<extra></extra>",
         "legendgroup": "Grove Street Parking Garage",
         "marker": {
          "color": "#FFA15A",
          "symbol": "circle"
         },
         "mode": "markers",
         "name": "Grove Street Parking Garage",
         "scene": "scene",
         "showlegend": true,
         "type": "scatter3d",
         "x": [
          "New Haven"
         ],
         "y": [
          -72.9217309
         ],
         "z": [
          41.3103893
         ]
        },
        {
         "hovertemplate": "Station_Name=Mohegan Sun - Tesla Destination<br>City=%{x}<br>longitude=%{y}<br>latitude=%{z}<extra></extra>",
         "legendgroup": "Mohegan Sun - Tesla Destination",
         "marker": {
          "color": "#19d3f3",
          "symbol": "circle"
         },
         "mode": "markers",
         "name": "Mohegan Sun - Tesla Destination",
         "scene": "scene",
         "showlegend": true,
         "type": "scatter3d",
         "x": [
          "Uncasville"
         ],
         "y": [
          -72.08668800000001
         ],
         "z": [
          41.488423
         ]
        },
        {
         "hovertemplate": "Station_Name=CVS West Haven<br>City=%{x}<br>longitude=%{y}<br>latitude=%{z}<extra></extra>",
         "legendgroup": "CVS West Haven",
         "marker": {
          "color": "#FF6692",
          "symbol": "circle"
         },
         "mode": "markers",
         "name": "CVS West Haven",
         "scene": "scene",
         "showlegend": true,
         "type": "scatter3d",
         "x": [
          "West Haven"
         ],
         "y": [
          -72.948327
         ],
         "z": [
          41.268415
         ]
        },
        {
         "hovertemplate": "Station_Name=Central Connecticut State University - Vance Garage<br>City=%{x}<br>longitude=%{y}<br>latitude=%{z}<extra></extra>",
         "legendgroup": "Central Connecticut State University - Vance Garage",
         "marker": {
          "color": "#B6E880",
          "symbol": "circle"
         },
         "mode": "markers",
         "name": "Central Connecticut State University - Vance Garage",
         "scene": "scene",
         "showlegend": true,
         "type": "scatter3d",
         "x": [
          "New Britain"
         ],
         "y": [
          -72.766414
         ],
         "z": [
          41.690789
         ]
        },
        {
         "hovertemplate": "Station_Name=City of New Haven - Crown Street Parking Garage<br>City=%{x}<br>longitude=%{y}<br>latitude=%{z}<extra></extra>",
         "legendgroup": "City of New Haven - Crown Street Parking Garage",
         "marker": {
          "color": "#FF97FF",
          "symbol": "circle"
         },
         "mode": "markers",
         "name": "City of New Haven - Crown Street Parking Garage",
         "scene": "scene",
         "showlegend": true,
         "type": "scatter3d",
         "x": [
          "New Haven"
         ],
         "y": [
          -72.928864
         ],
         "z": [
          41.305993
         ]
        },
        {
         "hovertemplate": "Station_Name=Figaro Restaurant<br>City=%{x}<br>longitude=%{y}<br>latitude=%{z}<extra></extra>",
         "legendgroup": "Figaro Restaurant",
         "marker": {
          "color": "#FECB52",
          "symbol": "circle"
         },
         "mode": "markers",
         "name": "Figaro Restaurant",
         "scene": "scene",
         "showlegend": true,
         "type": "scatter3d",
         "x": [
          "Enfield"
         ],
         "y": [
          -72.583384
         ],
         "z": [
          41.997588
         ]
        },
        {
         "hovertemplate": "Station_Name=Middletown School District - Board of Education<br>City=%{x}<br>longitude=%{y}<br>latitude=%{z}<extra></extra>",
         "legendgroup": "Middletown School District - Board of Education",
         "marker": {
          "color": "#636efa",
          "symbol": "circle"
         },
         "mode": "markers",
         "name": "Middletown School District - Board of Education",
         "scene": "scene",
         "showlegend": true,
         "type": "scatter3d",
         "x": [
          "Middletown"
         ],
         "y": [
          -72.647076
         ],
         "z": [
          41.541535
         ]
        },
        {
         "hovertemplate": "Station_Name=Mansfield Parking Garage<br>City=%{x}<br>longitude=%{y}<br>latitude=%{z}<extra></extra>",
         "legendgroup": "Mansfield Parking Garage",
         "marker": {
          "color": "#EF553B",
          "symbol": "circle"
         },
         "mode": "markers",
         "name": "Mansfield Parking Garage",
         "scene": "scene",
         "showlegend": true,
         "type": "scatter3d",
         "x": [
          "Storrs"
         ],
         "y": [
          -72.243355
         ],
         "z": [
          41.804877
         ]
        },
        {
         "hovertemplate": "Station_Name=Brass Mill Center - Entrance 6<br>City=%{x}<br>longitude=%{y}<br>latitude=%{z}<extra></extra>",
         "legendgroup": "Brass Mill Center - Entrance 6",
         "marker": {
          "color": "#00cc96",
          "symbol": "circle"
         },
         "mode": "markers",
         "name": "Brass Mill Center - Entrance 6",
         "scene": "scene",
         "showlegend": true,
         "type": "scatter3d",
         "x": [
          "Waterbury"
         ],
         "y": [
          -73.026799
         ],
         "z": [
          41.55022
         ]
        },
        {
         "hovertemplate": "Station_Name=Ellington Town Hall<br>City=%{x}<br>longitude=%{y}<br>latitude=%{z}<extra></extra>",
         "legendgroup": "Ellington Town Hall",
         "marker": {
          "color": "#ab63fa",
          "symbol": "circle"
         },
         "mode": "markers",
         "name": "Ellington Town Hall",
         "scene": "scene",
         "showlegend": true,
         "type": "scatter3d",
         "x": [
          "Ellington"
         ],
         "y": [
          -72.467484
         ],
         "z": [
          41.903582
         ]
        },
        {
         "hovertemplate": "Station_Name=Fairfield Tennis Center<br>City=%{x}<br>longitude=%{y}<br>latitude=%{z}<extra></extra>",
         "legendgroup": "Fairfield Tennis Center",
         "marker": {
          "color": "#FFA15A",
          "symbol": "circle"
         },
         "mode": "markers",
         "name": "Fairfield Tennis Center",
         "scene": "scene",
         "showlegend": true,
         "type": "scatter3d",
         "x": [
          "Fairfield"
         ],
         "y": [
          -73.2665157
         ],
         "z": [
          41.1247386999999
         ]
        },
        {
         "hovertemplate": "Station_Name=Trinity College<br>City=%{x}<br>longitude=%{y}<br>latitude=%{z}<extra></extra>",
         "legendgroup": "Trinity College",
         "marker": {
          "color": "#19d3f3",
          "symbol": "circle"
         },
         "mode": "markers",
         "name": "Trinity College",
         "scene": "scene",
         "showlegend": true,
         "type": "scatter3d",
         "x": [
          "Hartford"
         ],
         "y": [
          -72.689438
         ],
         "z": [
          41.745582
         ]
        },
        {
         "hovertemplate": "Station_Name=Saugatuck Fire Station<br>City=%{x}<br>longitude=%{y}<br>latitude=%{z}<extra></extra>",
         "legendgroup": "Saugatuck Fire Station",
         "marker": {
          "color": "#FF6692",
          "symbol": "circle"
         },
         "mode": "markers",
         "name": "Saugatuck Fire Station",
         "scene": "scene",
         "showlegend": true,
         "type": "scatter3d",
         "x": [
          "Westport"
         ],
         "y": [
          -73.370496
         ],
         "z": [
          41.119206
         ]
        },
        {
         "hovertemplate": "Station_Name=COMCAST<br>City=%{x}<br>longitude=%{y}<br>latitude=%{z}<extra></extra>",
         "legendgroup": "COMCAST",
         "marker": {
          "color": "#B6E880",
          "symbol": "circle"
         },
         "mode": "markers",
         "name": "COMCAST",
         "scene": "scene",
         "showlegend": true,
         "type": "scatter3d",
         "x": [
          "Berlin",
          "Enfield"
         ],
         "y": [
          -72.749512,
          -72.581611
         ],
         "z": [
          41.597163,
          41.977252
         ]
        },
        {
         "hovertemplate": "Station_Name=Kent Town Hall<br>City=%{x}<br>longitude=%{y}<br>latitude=%{z}<extra></extra>",
         "legendgroup": "Kent Town Hall",
         "marker": {
          "color": "#FF97FF",
          "symbol": "circle"
         },
         "mode": "markers",
         "name": "Kent Town Hall",
         "scene": "scene",
         "showlegend": true,
         "type": "scatter3d",
         "x": [
          "Kent"
         ],
         "y": [
          -73.47251
         ],
         "z": [
          41.727419
         ]
        },
        {
         "hovertemplate": "Station_Name=Dunkin' Donuts<br>City=%{x}<br>longitude=%{y}<br>latitude=%{z}<extra></extra>",
         "legendgroup": "Dunkin' Donuts",
         "marker": {
          "color": "#FECB52",
          "symbol": "circle"
         },
         "mode": "markers",
         "name": "Dunkin' Donuts",
         "scene": "scene",
         "showlegend": true,
         "type": "scatter3d",
         "x": [
          "Manchester",
          "New Haven"
         ],
         "y": [
          -72.555059,
          -72.9
         ],
         "z": [
          41.797073,
          41.294167
         ]
        },
        {
         "hovertemplate": "Station_Name=County Line Nissan - North<br>City=%{x}<br>longitude=%{y}<br>latitude=%{z}<extra></extra>",
         "legendgroup": "County Line Nissan - North",
         "marker": {
          "color": "#636efa",
          "symbol": "circle"
         },
         "mode": "markers",
         "name": "County Line Nissan - North",
         "scene": "scene",
         "showlegend": true,
         "type": "scatter3d",
         "x": [
          "Torrington"
         ],
         "y": [
          -73.1107105
         ],
         "z": [
          41.8269547
         ]
        },
        {
         "hovertemplate": "Station_Name=TOWN OF MADISON<br>City=%{x}<br>longitude=%{y}<br>latitude=%{z}<extra></extra>",
         "legendgroup": "TOWN OF MADISON",
         "marker": {
          "color": "#EF553B",
          "symbol": "circle"
         },
         "mode": "markers",
         "name": "TOWN OF MADISON",
         "scene": "scene",
         "showlegend": true,
         "type": "scatter3d",
         "x": [
          "Madison"
         ],
         "y": [
          -72.595184
         ],
         "z": [
          41.28028400000001
         ]
        },
        {
         "hovertemplate": "Station_Name=Rocky Neck State Park<br>City=%{x}<br>longitude=%{y}<br>latitude=%{z}<extra></extra>",
         "legendgroup": "Rocky Neck State Park",
         "marker": {
          "color": "#00cc96",
          "symbol": "circle"
         },
         "mode": "markers",
         "name": "Rocky Neck State Park",
         "scene": "scene",
         "showlegend": true,
         "type": "scatter3d",
         "x": [
          "Niantic"
         ],
         "y": [
          -72.24323
         ],
         "z": [
          41.300883
         ]
        },
        {
         "hovertemplate": "Station_Name=ELEMENT STATION<br>City=%{x}<br>longitude=%{y}<br>latitude=%{z}<extra></extra>",
         "legendgroup": "ELEMENT STATION",
         "marker": {
          "color": "#ab63fa",
          "symbol": "circle"
         },
         "mode": "markers",
         "name": "ELEMENT STATION",
         "scene": "scene",
         "showlegend": true,
         "type": "scatter3d",
         "x": [
          "Stamford"
         ],
         "y": [
          -73.5370682
         ],
         "z": [
          41.0631099
         ]
        },
        {
         "hovertemplate": "Station_Name=Saybrook Point Marina<br>City=%{x}<br>longitude=%{y}<br>latitude=%{z}<extra></extra>",
         "legendgroup": "Saybrook Point Marina",
         "marker": {
          "color": "#FFA15A",
          "symbol": "circle"
         },
         "mode": "markers",
         "name": "Saybrook Point Marina",
         "scene": "scene",
         "showlegend": true,
         "type": "scatter3d",
         "x": [
          "Old Saybrook"
         ],
         "y": [
          -72.351019
         ],
         "z": [
          41.283487
         ]
        },
        {
         "hovertemplate": "Station_Name=Town of Groton - Town Hall<br>City=%{x}<br>longitude=%{y}<br>latitude=%{z}<extra></extra>",
         "legendgroup": "Town of Groton - Town Hall",
         "marker": {
          "color": "#19d3f3",
          "symbol": "circle"
         },
         "mode": "markers",
         "name": "Town of Groton - Town Hall",
         "scene": "scene",
         "showlegend": true,
         "type": "scatter3d",
         "x": [
          "Groton"
         ],
         "y": [
          -72.033489
         ],
         "z": [
          41.345816
         ]
        },
        {
         "hovertemplate": "Station_Name=Harte Nissan<br>City=%{x}<br>longitude=%{y}<br>latitude=%{z}<extra></extra>",
         "legendgroup": "Harte Nissan",
         "marker": {
          "color": "#FF6692",
          "symbol": "circle"
         },
         "mode": "markers",
         "name": "Harte Nissan",
         "scene": "scene",
         "showlegend": true,
         "type": "scatter3d",
         "x": [
          "Hartford"
         ],
         "y": [
          -72.656681
         ],
         "z": [
          41.791382000000006
         ]
        },
        {
         "hovertemplate": "Station_Name=Highland Park Market<br>City=%{x}<br>longitude=%{y}<br>latitude=%{z}<extra></extra>",
         "legendgroup": "Highland Park Market",
         "marker": {
          "color": "#B6E880",
          "symbol": "circle"
         },
         "mode": "markers",
         "name": "Highland Park Market",
         "scene": "scene",
         "showlegend": true,
         "type": "scatter3d",
         "x": [
          "Manchester"
         ],
         "y": [
          -72.490259
         ],
         "z": [
          41.766005
         ]
        },
        {
         "hovertemplate": "Station_Name=Nissan - Norwich<br>City=%{x}<br>longitude=%{y}<br>latitude=%{z}<extra></extra>",
         "legendgroup": "Nissan - Norwich",
         "marker": {
          "color": "#FF97FF",
          "symbol": "circle"
         },
         "mode": "markers",
         "name": "Nissan - Norwich",
         "scene": "scene",
         "showlegend": true,
         "type": "scatter3d",
         "x": [
          "Norwich"
         ],
         "y": [
          -72.097938
         ],
         "z": [
          41.498591
         ]
        },
        {
         "hovertemplate": "Station_Name=Wesleyan University<br>City=%{x}<br>longitude=%{y}<br>latitude=%{z}<extra></extra>",
         "legendgroup": "Wesleyan University",
         "marker": {
          "color": "#FECB52",
          "symbol": "circle"
         },
         "mode": "markers",
         "name": "Wesleyan University",
         "scene": "scene",
         "showlegend": true,
         "type": "scatter3d",
         "x": [
          "MIddletown",
          "Middletown",
          "Middletown"
         ],
         "y": [
          -72.65242,
          -72.662214,
          -72.65395
         ],
         "z": [
          41.557262,
          41.550883,
          41.553597
         ]
        },
        {
         "hovertemplate": "Station_Name=HAMPTON INN<br>City=%{x}<br>longitude=%{y}<br>latitude=%{z}<extra></extra>",
         "legendgroup": "HAMPTON INN",
         "marker": {
          "color": "#636efa",
          "symbol": "circle"
         },
         "mode": "markers",
         "name": "HAMPTON INN",
         "scene": "scene",
         "showlegend": true,
         "type": "scatter3d",
         "x": [
          "Milford"
         ],
         "y": [
          -73.076682
         ],
         "z": [
          41.22269
         ]
        },
        {
         "hovertemplate": "Station_Name=Aitoro Appliance<br>City=%{x}<br>longitude=%{y}<br>latitude=%{z}<extra></extra>",
         "legendgroup": "Aitoro Appliance",
         "marker": {
          "color": "#EF553B",
          "symbol": "circle"
         },
         "mode": "markers",
         "name": "Aitoro Appliance",
         "scene": "scene",
         "showlegend": true,
         "type": "scatter3d",
         "x": [
          "Norwalk"
         ],
         "y": [
          -73.390319
         ],
         "z": [
          41.126373
         ]
        },
        {
         "hovertemplate": "Station_Name=Putnam Downtown Municipal Parking Lot<br>City=%{x}<br>longitude=%{y}<br>latitude=%{z}<extra></extra>",
         "legendgroup": "Putnam Downtown Municipal Parking Lot",
         "marker": {
          "color": "#00cc96",
          "symbol": "circle"
         },
         "mode": "markers",
         "name": "Putnam Downtown Municipal Parking Lot",
         "scene": "scene",
         "showlegend": true,
         "type": "scatter3d",
         "x": [
          "Putnam"
         ],
         "y": [
          -71.9105761999999
         ],
         "z": [
          41.914329
         ]
        },
        {
         "hovertemplate": "Station_Name=NYALA GAR 3<br>City=%{x}<br>longitude=%{y}<br>latitude=%{z}<extra></extra>",
         "legendgroup": "NYALA GAR 3",
         "marker": {
          "color": "#ab63fa",
          "symbol": "circle"
         },
         "mode": "markers",
         "name": "NYALA GAR 3",
         "scene": "scene",
         "showlegend": true,
         "type": "scatter3d",
         "x": [
          "Westport"
         ],
         "y": [
          -73.3269248
         ],
         "z": [
          41.1223426
         ]
        },
        {
         "hovertemplate": "Station_Name=East Norwalk Library<br>City=%{x}<br>longitude=%{y}<br>latitude=%{z}<extra></extra>",
         "legendgroup": "East Norwalk Library",
         "marker": {
          "color": "#FFA15A",
          "symbol": "circle"
         },
         "mode": "markers",
         "name": "East Norwalk Library",
         "scene": "scene",
         "showlegend": true,
         "type": "scatter3d",
         "x": [
          "Norwalk"
         ],
         "y": [
          -73.40565000000001
         ],
         "z": [
          41.102079
         ]
        },
        {
         "hovertemplate": "Station_Name=Greenwich Southbound Travel Plaza - Tesla Supercharger<br>City=%{x}<br>longitude=%{y}<br>latitude=%{z}<extra></extra>",
         "legendgroup": "Greenwich Southbound Travel Plaza - Tesla Supercharger",
         "marker": {
          "color": "#19d3f3",
          "symbol": "circle"
         },
         "mode": "markers",
         "name": "Greenwich Southbound Travel Plaza - Tesla Supercharger",
         "scene": "scene",
         "showlegend": true,
         "type": "scatter3d",
         "x": [
          "Greenwich"
         ],
         "y": [
          -73.673445
         ],
         "z": [
          41.040555
         ]
        },
        {
         "hovertemplate": "Station_Name=Propark America - Omni Hotel Chapel Square Garage<br>City=%{x}<br>longitude=%{y}<br>latitude=%{z}<extra></extra>",
         "legendgroup": "Propark America - Omni Hotel Chapel Square Garage",
         "marker": {
          "color": "#FF6692",
          "symbol": "circle"
         },
         "mode": "markers",
         "name": "Propark America - Omni Hotel Chapel Square Garage",
         "scene": "scene",
         "showlegend": true,
         "type": "scatter3d",
         "x": [
          "New Haven"
         ],
         "y": [
          -72.927405
         ],
         "z": [
          41.305794
         ]
        },
        {
         "hovertemplate": "Station_Name=Mystic Marriott Hotel and Spa - Tesla Destination<br>City=%{x}<br>longitude=%{y}<br>latitude=%{z}<extra></extra>",
         "legendgroup": "Mystic Marriott Hotel and Spa - Tesla Destination",
         "marker": {
          "color": "#B6E880",
          "symbol": "circle"
         },
         "mode": "markers",
         "name": "Mystic Marriott Hotel and Spa - Tesla Destination",
         "scene": "scene",
         "showlegend": true,
         "type": "scatter3d",
         "x": [
          "Groton"
         ],
         "y": [
          -72.025954
         ],
         "z": [
          41.365919
         ]
        },
        {
         "hovertemplate": "Station_Name=Connecticut Post Mall - Target<br>City=%{x}<br>longitude=%{y}<br>latitude=%{z}<extra></extra>",
         "legendgroup": "Connecticut Post Mall - Target",
         "marker": {
          "color": "#FF97FF",
          "symbol": "circle"
         },
         "mode": "markers",
         "name": "Connecticut Post Mall - Target",
         "scene": "scene",
         "showlegend": true,
         "type": "scatter3d",
         "x": [
          "Milford"
         ],
         "y": [
          -73.038159
         ],
         "z": [
          41.235232
         ]
        },
        {
         "hovertemplate": "Station_Name=SPIREP<br>City=%{x}<br>longitude=%{y}<br>latitude=%{z}<extra></extra>",
         "legendgroup": "SPIREP",
         "marker": {
          "color": "#FECB52",
          "symbol": "circle"
         },
         "mode": "markers",
         "name": "SPIREP",
         "scene": "scene",
         "showlegend": true,
         "type": "scatter3d",
         "x": [
          "Norwalk"
         ],
         "y": [
          -73.4165867
         ],
         "z": [
          41.0999699
         ]
        },
        {
         "hovertemplate": "Station_Name=Town of Norfolk - Town Clerk<br>City=%{x}<br>longitude=%{y}<br>latitude=%{z}<extra></extra>",
         "legendgroup": "Town of Norfolk - Town Clerk",
         "marker": {
          "color": "#636efa",
          "symbol": "circle"
         },
         "mode": "markers",
         "name": "Town of Norfolk - Town Clerk",
         "scene": "scene",
         "showlegend": true,
         "type": "scatter3d",
         "x": [
          "Norfolk"
         ],
         "y": [
          -73.197598
         ],
         "z": [
          41.990635
         ]
        },
        {
         "hovertemplate": "Station_Name=Waterford Commons<br>City=%{x}<br>longitude=%{y}<br>latitude=%{z}<extra></extra>",
         "legendgroup": "Waterford Commons",
         "marker": {
          "color": "#EF553B",
          "symbol": "circle"
         },
         "mode": "markers",
         "name": "Waterford Commons",
         "scene": "scene",
         "showlegend": true,
         "type": "scatter3d",
         "x": [
          "Waterford"
         ],
         "y": [
          -72.150349
         ],
         "z": [
          41.380138
         ]
        },
        {
         "hovertemplate": "Station_Name=Clinton Town Hall<br>City=%{x}<br>longitude=%{y}<br>latitude=%{z}<extra></extra>",
         "legendgroup": "Clinton Town Hall",
         "marker": {
          "color": "#00cc96",
          "symbol": "circle"
         },
         "mode": "markers",
         "name": "Clinton Town Hall",
         "scene": "scene",
         "showlegend": true,
         "type": "scatter3d",
         "x": [
          "Clinton"
         ],
         "y": [
          -72.524041
         ],
         "z": [
          41.276743
         ]
        },
        {
         "hovertemplate": "Station_Name=Cargill Chevrolet<br>City=%{x}<br>longitude=%{y}<br>latitude=%{z}<extra></extra>",
         "legendgroup": "Cargill Chevrolet",
         "marker": {
          "color": "#ab63fa",
          "symbol": "circle"
         },
         "mode": "markers",
         "name": "Cargill Chevrolet",
         "scene": "scene",
         "showlegend": true,
         "type": "scatter3d",
         "x": [
          "Putnam"
         ],
         "y": [
          -71.90810200000001
         ],
         "z": [
          41.916161
         ]
        },
        {
         "hovertemplate": "Station_Name=Bedford Street Garage<br>City=%{x}<br>longitude=%{y}<br>latitude=%{z}<extra></extra>",
         "legendgroup": "Bedford Street Garage",
         "marker": {
          "color": "#FFA15A",
          "symbol": "circle"
         },
         "mode": "markers",
         "name": "Bedford Street Garage",
         "scene": "scene",
         "showlegend": true,
         "type": "scatter3d",
         "x": [
          "Stamford"
         ],
         "y": [
          -73.537286
         ],
         "z": [
          41.056092
         ]
        },
        {
         "hovertemplate": "Station_Name=Pomfret Town Hall<br>City=%{x}<br>longitude=%{y}<br>latitude=%{z}<extra></extra>",
         "legendgroup": "Pomfret Town Hall",
         "marker": {
          "color": "#19d3f3",
          "symbol": "circle"
         },
         "mode": "markers",
         "name": "Pomfret Town Hall",
         "scene": "scene",
         "showlegend": true,
         "type": "scatter3d",
         "x": [
          "Pomfret"
         ],
         "y": [
          -71.9986079999999
         ],
         "z": [
          41.859648
         ]
        },
        {
         "hovertemplate": "Station_Name=Delamar Greenwich Harbor - Tesla Destination<br>City=%{x}<br>longitude=%{y}<br>latitude=%{z}<extra></extra>",
         "legendgroup": "Delamar Greenwich Harbor - Tesla Destination",
         "marker": {
          "color": "#FF6692",
          "symbol": "circle"
         },
         "mode": "markers",
         "name": "Delamar Greenwich Harbor - Tesla Destination",
         "scene": "scene",
         "showlegend": true,
         "type": "scatter3d",
         "x": [
          "Greenwich"
         ],
         "y": [
          -73.623525
         ],
         "z": [
          41.017757
         ]
        },
        {
         "hovertemplate": "Station_Name=East Hartford Public Schools - Department of Facilities<br>City=%{x}<br>longitude=%{y}<br>latitude=%{z}<extra></extra>",
         "legendgroup": "East Hartford Public Schools - Department of Facilities",
         "marker": {
          "color": "#B6E880",
          "symbol": "circle"
         },
         "mode": "markers",
         "name": "East Hartford Public Schools - Department of Facilities",
         "scene": "scene",
         "showlegend": true,
         "type": "scatter3d",
         "x": [
          "East Hartford"
         ],
         "y": [
          -72.602704
         ],
         "z": [
          41.784813
         ]
        },
        {
         "hovertemplate": "Station_Name=Windham Municipal Parking Lot<br>City=%{x}<br>longitude=%{y}<br>latitude=%{z}<extra></extra>",
         "legendgroup": "Windham Municipal Parking Lot",
         "marker": {
          "color": "#FF97FF",
          "symbol": "circle"
         },
         "mode": "markers",
         "name": "Windham Municipal Parking Lot",
         "scene": "scene",
         "showlegend": true,
         "type": "scatter3d",
         "x": [
          "Willimantic"
         ],
         "y": [
          -72.211716
         ],
         "z": [
          41.712492
         ]
        },
        {
         "hovertemplate": "Station_Name=Heritage Hotel - Tesla Destination<br>City=%{x}<br>longitude=%{y}<br>latitude=%{z}<extra></extra>",
         "legendgroup": "Heritage Hotel - Tesla Destination",
         "marker": {
          "color": "#FECB52",
          "symbol": "circle"
         },
         "mode": "markers",
         "name": "Heritage Hotel - Tesla Destination",
         "scene": "scene",
         "showlegend": true,
         "type": "scatter3d",
         "x": [
          "Southbury"
         ],
         "y": [
          -73.225707
         ],
         "z": [
          41.491538
         ]
        },
        {
         "hovertemplate": "Station_Name=Tri-Town Teachers Federal Credit Union<br>City=%{x}<br>longitude=%{y}<br>latitude=%{z}<extra></extra>",
         "legendgroup": "Tri-Town Teachers Federal Credit Union",
         "marker": {
          "color": "#636efa",
          "symbol": "circle"
         },
         "mode": "markers",
         "name": "Tri-Town Teachers Federal Credit Union",
         "scene": "scene",
         "showlegend": true,
         "type": "scatter3d",
         "x": [
          "Westport"
         ],
         "y": [
          -73.358893
         ],
         "z": [
          41.140188
         ]
        },
        {
         "hovertemplate": "Station_Name=Morgan Street Garage<br>City=%{x}<br>longitude=%{y}<br>latitude=%{z}<extra></extra>",
         "legendgroup": "Morgan Street Garage",
         "marker": {
          "color": "#EF553B",
          "symbol": "circle"
         },
         "mode": "markers",
         "name": "Morgan Street Garage",
         "scene": "scene",
         "showlegend": true,
         "type": "scatter3d",
         "x": [
          "Hartford"
         ],
         "y": [
          -72.672545
         ],
         "z": [
          41.769974
         ]
        },
        {
         "hovertemplate": "Station_Name=Napoli Nissan<br>City=%{x}<br>longitude=%{y}<br>latitude=%{z}<extra></extra>",
         "legendgroup": "Napoli Nissan",
         "marker": {
          "color": "#00cc96",
          "symbol": "circle"
         },
         "mode": "markers",
         "name": "Napoli Nissan",
         "scene": "scene",
         "showlegend": true,
         "type": "scatter3d",
         "x": [
          "Milford"
         ],
         "y": [
          -73.083686
         ],
         "z": [
          41.209761
         ]
        },
        {
         "hovertemplate": "Station_Name=Congregational Church of Somersville<br>City=%{x}<br>longitude=%{y}<br>latitude=%{z}<extra></extra>",
         "legendgroup": "Congregational Church of Somersville",
         "marker": {
          "color": "#ab63fa",
          "symbol": "circle"
         },
         "mode": "markers",
         "name": "Congregational Church of Somersville",
         "scene": "scene",
         "showlegend": true,
         "type": "scatter3d",
         "x": [
          "Somersville"
         ],
         "y": [
          -72.489406
         ],
         "z": [
          41.983904
         ]
        },
        {
         "hovertemplate": "Station_Name=I-95 Darien NB Service Plaza - Tesla Supercharger<br>City=%{x}<br>longitude=%{y}<br>latitude=%{z}<extra></extra>",
         "legendgroup": "I-95 Darien NB Service Plaza - Tesla Supercharger",
         "marker": {
          "color": "#FFA15A",
          "symbol": "circle"
         },
         "mode": "markers",
         "name": "I-95 Darien NB Service Plaza - Tesla Supercharger",
         "scene": "scene",
         "showlegend": true,
         "type": "scatter3d",
         "x": [
          "Darien"
         ],
         "y": [
          -73.462202
         ],
         "z": [
          41.079848
         ]
        },
        {
         "hovertemplate": "Station_Name=Town of Hamden - Spring Glen Municipal Parking Lot<br>City=%{x}<br>longitude=%{y}<br>latitude=%{z}<extra></extra>",
         "legendgroup": "Town of Hamden - Spring Glen Municipal Parking Lot",
         "marker": {
          "color": "#19d3f3",
          "symbol": "circle"
         },
         "mode": "markers",
         "name": "Town of Hamden - Spring Glen Municipal Parking Lot",
         "scene": "scene",
         "showlegend": true,
         "type": "scatter3d",
         "x": [
          "Hamden"
         ],
         "y": [
          -72.909054
         ],
         "z": [
          41.359826
         ]
        },
        {
         "hovertemplate": "Station_Name=City of Milford - Parsons Government Center<br>City=%{x}<br>longitude=%{y}<br>latitude=%{z}<extra></extra>",
         "legendgroup": "City of Milford - Parsons Government Center",
         "marker": {
          "color": "#FF6692",
          "symbol": "circle"
         },
         "mode": "markers",
         "name": "City of Milford - Parsons Government Center",
         "scene": "scene",
         "showlegend": true,
         "type": "scatter3d",
         "x": [
          "Milford"
         ],
         "y": [
          -73.062364
         ],
         "z": [
          41.226575
         ]
        },
        {
         "hovertemplate": "Station_Name=Hoffman Nissan<br>City=%{x}<br>longitude=%{y}<br>latitude=%{z}<extra></extra>",
         "legendgroup": "Hoffman Nissan",
         "marker": {
          "color": "#B6E880",
          "symbol": "circle"
         },
         "mode": "markers",
         "name": "Hoffman Nissan",
         "scene": "scene",
         "showlegend": true,
         "type": "scatter3d",
         "x": [
          "West Simsbury"
         ],
         "y": [
          -72.869319
         ],
         "z": [
          41.820371
         ]
        },
        {
         "hovertemplate": "Station_Name=Premier Chevrolet<br>City=%{x}<br>longitude=%{y}<br>latitude=%{z}<extra></extra>",
         "legendgroup": "Premier Chevrolet",
         "marker": {
          "color": "#FF97FF",
          "symbol": "circle"
         },
         "mode": "markers",
         "name": "Premier Chevrolet",
         "scene": "scene",
         "showlegend": true,
         "type": "scatter3d",
         "x": [
          "Brooklyn"
         ],
         "y": [
          -71.906607
         ],
         "z": [
          41.798222
         ]
        },
        {
         "hovertemplate": "Station_Name=The Wallingford Victorian Inn - Tesla Destination<br>City=%{x}<br>longitude=%{y}<br>latitude=%{z}<extra></extra>",
         "legendgroup": "The Wallingford Victorian Inn - Tesla Destination",
         "marker": {
          "color": "#FECB52",
          "symbol": "circle"
         },
         "mode": "markers",
         "name": "The Wallingford Victorian Inn - Tesla Destination",
         "scene": "scene",
         "showlegend": true,
         "type": "scatter3d",
         "x": [
          "Wallingford"
         ],
         "y": [
          -72.815676
         ],
         "z": [
          41.45749
         ]
        },
        {
         "hovertemplate": "Station_Name=HONDADANBURY<br>City=%{x}<br>longitude=%{y}<br>latitude=%{z}<extra></extra>",
         "legendgroup": "HONDADANBURY",
         "marker": {
          "color": "#636efa",
          "symbol": "circle"
         },
         "mode": "markers",
         "name": "HONDADANBURY",
         "scene": "scene",
         "showlegend": true,
         "type": "scatter3d",
         "x": [
          "Danbury"
         ],
         "y": [
          -73.4232598
         ],
         "z": [
          41.4158651
         ]
        },
        {
         "hovertemplate": "Station_Name=Village Center<br>City=%{x}<br>longitude=%{y}<br>latitude=%{z}<extra></extra>",
         "legendgroup": "Village Center",
         "marker": {
          "color": "#EF553B",
          "symbol": "circle"
         },
         "mode": "markers",
         "name": "Village Center",
         "scene": "scene",
         "showlegend": true,
         "type": "scatter3d",
         "x": [
          "East Hampton"
         ],
         "y": [
          -72.501947
         ],
         "z": [
          41.575311
         ]
        },
        {
         "hovertemplate": "Station_Name=Connecticut Department of Corrections<br>City=%{x}<br>longitude=%{y}<br>latitude=%{z}<extra></extra>",
         "legendgroup": "Connecticut Department of Corrections",
         "marker": {
          "color": "#00cc96",
          "symbol": "circle"
         },
         "mode": "markers",
         "name": "Connecticut Department of Corrections",
         "scene": "scene",
         "showlegend": true,
         "type": "scatter3d",
         "x": [
          "Wethersfield"
         ],
         "y": [
          -72.6724543999999
         ],
         "z": [
          41.725002
         ]
        },
        {
         "hovertemplate": "Station_Name=Stamford Marriott Hotel - Tesla Destination<br>City=%{x}<br>longitude=%{y}<br>latitude=%{z}<extra></extra>",
         "legendgroup": "Stamford Marriott Hotel - Tesla Destination",
         "marker": {
          "color": "#ab63fa",
          "symbol": "circle"
         },
         "mode": "markers",
         "name": "Stamford Marriott Hotel - Tesla Destination",
         "scene": "scene",
         "showlegend": true,
         "type": "scatter3d",
         "x": [
          "Stamford"
         ],
         "y": [
          -73.53513900000002
         ],
         "z": [
          41.051614
         ]
        },
        {
         "hovertemplate": "Station_Name=Woodbridge Town Library<br>City=%{x}<br>longitude=%{y}<br>latitude=%{z}<extra></extra>",
         "legendgroup": "Woodbridge Town Library",
         "marker": {
          "color": "#FFA15A",
          "symbol": "circle"
         },
         "mode": "markers",
         "name": "Woodbridge Town Library",
         "scene": "scene",
         "showlegend": true,
         "type": "scatter3d",
         "x": [
          "Woodbridge"
         ],
         "y": [
          -73.011407
         ],
         "z": [
          41.353582
         ]
        },
        {
         "hovertemplate": "Station_Name=Waterworks - Tesla Destination<br>City=%{x}<br>longitude=%{y}<br>latitude=%{z}<extra></extra>",
         "legendgroup": "Waterworks - Tesla Destination",
         "marker": {
          "color": "#19d3f3",
          "symbol": "circle"
         },
         "mode": "markers",
         "name": "Waterworks - Tesla Destination",
         "scene": "scene",
         "showlegend": true,
         "type": "scatter3d",
         "x": [
          "Danbury"
         ],
         "y": [
          -73.491965
         ],
         "z": [
          41.370291
         ]
        },
        {
         "hovertemplate": "Station_Name=Town of East Haven<br>City=%{x}<br>longitude=%{y}<br>latitude=%{z}<extra></extra>",
         "legendgroup": "Town of East Haven",
         "marker": {
          "color": "#FF6692",
          "symbol": "circle"
         },
         "mode": "markers",
         "name": "Town of East Haven",
         "scene": "scene",
         "showlegend": true,
         "type": "scatter3d",
         "x": [
          "East Haven"
         ],
         "y": [
          -72.871663
         ],
         "z": [
          41.277368
         ]
        },
        {
         "hovertemplate": "Station_Name=DECORMIER NISS<br>City=%{x}<br>longitude=%{y}<br>latitude=%{z}<extra></extra>",
         "legendgroup": "DECORMIER NISS",
         "marker": {
          "color": "#B6E880",
          "symbol": "circle"
         },
         "mode": "markers",
         "name": "DECORMIER NISS",
         "scene": "scene",
         "showlegend": true,
         "type": "scatter3d",
         "x": [
          "Manchester"
         ],
         "y": [
          -72.5090873
         ],
         "z": [
          41.813843
         ]
        },
        {
         "hovertemplate": "Station_Name=Lia Nissan - Enfield<br>City=%{x}<br>longitude=%{y}<br>latitude=%{z}<extra></extra>",
         "legendgroup": "Lia Nissan - Enfield",
         "marker": {
          "color": "#FF97FF",
          "symbol": "circle"
         },
         "mode": "markers",
         "name": "Lia Nissan - Enfield",
         "scene": "scene",
         "showlegend": true,
         "type": "scatter3d",
         "x": [
          "Enfield"
         ],
         "y": [
          -72.574713
         ],
         "z": [
          41.997574
         ]
        },
        {
         "hovertemplate": "Station_Name=North Canaan Shopping Center - Tesla Supercharger<br>City=%{x}<br>longitude=%{y}<br>latitude=%{z}<extra></extra>",
         "legendgroup": "North Canaan Shopping Center - Tesla Supercharger",
         "marker": {
          "color": "#FECB52",
          "symbol": "circle"
         },
         "mode": "markers",
         "name": "North Canaan Shopping Center - Tesla Supercharger",
         "scene": "scene",
         "showlegend": true,
         "type": "scatter3d",
         "x": [
          "North Canaan"
         ],
         "y": [
          -73.322808
         ],
         "z": [
          42.024351
         ]
        },
        {
         "hovertemplate": "Station_Name=Lombard Ford<br>City=%{x}<br>longitude=%{y}<br>latitude=%{z}<extra></extra>",
         "legendgroup": "Lombard Ford",
         "marker": {
          "color": "#636efa",
          "symbol": "circle"
         },
         "mode": "markers",
         "name": "Lombard Ford",
         "scene": "scene",
         "showlegend": true,
         "type": "scatter3d",
         "x": [
          "Barkhamsted"
         ],
         "y": [
          -73.042576
         ],
         "z": [
          41.909753
         ]
        },
        {
         "hovertemplate": "Station_Name=Danbury Fair Mall<br>City=%{x}<br>longitude=%{y}<br>latitude=%{z}<extra></extra>",
         "legendgroup": "Danbury Fair Mall",
         "marker": {
          "color": "#EF553B",
          "symbol": "circle"
         },
         "mode": "markers",
         "name": "Danbury Fair Mall",
         "scene": "scene",
         "showlegend": true,
         "type": "scatter3d",
         "x": [
          "Danbury"
         ],
         "y": [
          -73.47904
         ],
         "z": [
          41.380158
         ]
        },
        {
         "hovertemplate": "Station_Name=City of Milford - Public Library<br>City=%{x}<br>longitude=%{y}<br>latitude=%{z}<extra></extra>",
         "legendgroup": "City of Milford - Public Library",
         "marker": {
          "color": "#00cc96",
          "symbol": "circle"
         },
         "mode": "markers",
         "name": "City of Milford - Public Library",
         "scene": "scene",
         "showlegend": true,
         "type": "scatter3d",
         "x": [
          "Milford"
         ],
         "y": [
          -73.053647
         ],
         "z": [
          41.221934
         ]
        },
        {
         "hovertemplate": "Station_Name=Public Parking Lot<br>City=%{x}<br>longitude=%{y}<br>latitude=%{z}<extra></extra>",
         "legendgroup": "Public Parking Lot",
         "marker": {
          "color": "#ab63fa",
          "symbol": "circle"
         },
         "mode": "markers",
         "name": "Public Parking Lot",
         "scene": "scene",
         "showlegend": true,
         "type": "scatter3d",
         "x": [
          "New Canaan"
         ],
         "y": [
          -73.4924
         ],
         "z": [
          41.1464
         ]
        },
        {
         "hovertemplate": "Station_Name=Milford Travel Plaza - Tesla Supercharger<br>City=%{x}<br>longitude=%{y}<br>latitude=%{z}<extra></extra>",
         "legendgroup": "Milford Travel Plaza - Tesla Supercharger",
         "marker": {
          "color": "#FFA15A",
          "symbol": "circle"
         },
         "mode": "markers",
         "name": "Milford Travel Plaza - Tesla Supercharger",
         "scene": "scene",
         "showlegend": true,
         "type": "scatter3d",
         "x": [
          "Milford",
          "Milford"
         ],
         "y": [
          -73.009059,
          -73.010522
         ],
         "z": [
          41.245823,
          41.246242
         ]
        },
        {
         "hovertemplate": "Station_Name=TS<br>City=%{x}<br>longitude=%{y}<br>latitude=%{z}<extra></extra>",
         "legendgroup": "TS",
         "marker": {
          "color": "#19d3f3",
          "symbol": "circle"
         },
         "mode": "markers",
         "name": "TS",
         "scene": "scene",
         "showlegend": true,
         "type": "scatter3d",
         "x": [
          "Greenwich"
         ],
         "y": [
          -73.7226456
         ],
         "z": [
          41.0983971
         ]
        },
        {
         "hovertemplate": "Station_Name=Russell Mercier Senior Center<br>City=%{x}<br>longitude=%{y}<br>latitude=%{z}<extra></extra>",
         "legendgroup": "Russell Mercier Senior Center",
         "marker": {
          "color": "#FF6692",
          "symbol": "circle"
         },
         "mode": "markers",
         "name": "Russell Mercier Senior Center",
         "scene": "scene",
         "showlegend": true,
         "type": "scatter3d",
         "x": [
          "Hebron"
         ],
         "y": [
          -72.367191
         ],
         "z": [
          41.65659
         ]
        },
        {
         "hovertemplate": "Station_Name=Roger Ludlowe School<br>City=%{x}<br>longitude=%{y}<br>latitude=%{z}<extra></extra>",
         "legendgroup": "Roger Ludlowe School",
         "marker": {
          "color": "#B6E880",
          "symbol": "circle"
         },
         "mode": "markers",
         "name": "Roger Ludlowe School",
         "scene": "scene",
         "showlegend": true,
         "type": "scatter3d",
         "x": [
          "Fairfield"
         ],
         "y": [
          -73.261769
         ],
         "z": [
          41.148757
         ]
        },
        {
         "hovertemplate": "Station_Name=Town of Hebron<br>City=%{x}<br>longitude=%{y}<br>latitude=%{z}<extra></extra>",
         "legendgroup": "Town of Hebron",
         "marker": {
          "color": "#FF97FF",
          "symbol": "circle"
         },
         "mode": "markers",
         "name": "Town of Hebron",
         "scene": "scene",
         "showlegend": true,
         "type": "scatter3d",
         "x": [
          "Hebron"
         ],
         "y": [
          -72.366742
         ],
         "z": [
          41.658572
         ]
        },
        {
         "hovertemplate": "Station_Name=Southington Municipal Center<br>City=%{x}<br>longitude=%{y}<br>latitude=%{z}<extra></extra>",
         "legendgroup": "Southington Municipal Center",
         "marker": {
          "color": "#FECB52",
          "symbol": "circle"
         },
         "mode": "markers",
         "name": "Southington Municipal Center",
         "scene": "scene",
         "showlegend": true,
         "type": "scatter3d",
         "x": [
          "Southington"
         ],
         "y": [
          -72.87939
         ],
         "z": [
          41.606301
         ]
        },
        {
         "hovertemplate": "Station_Name=Middletown School District - Middletown High School<br>City=%{x}<br>longitude=%{y}<br>latitude=%{z}<extra></extra>",
         "legendgroup": "Middletown School District - Middletown High School",
         "marker": {
          "color": "#636efa",
          "symbol": "circle"
         },
         "mode": "markers",
         "name": "Middletown School District - Middletown High School",
         "scene": "scene",
         "showlegend": true,
         "type": "scatter3d",
         "x": [
          "Middletown"
         ],
         "y": [
          -72.681921
         ],
         "z": [
          41.576716
         ]
        },
        {
         "hovertemplate": "Station_Name=Town of Groton - Town Hall Annex<br>City=%{x}<br>longitude=%{y}<br>latitude=%{z}<extra></extra>",
         "legendgroup": "Town of Groton - Town Hall Annex",
         "marker": {
          "color": "#EF553B",
          "symbol": "circle"
         },
         "mode": "markers",
         "name": "Town of Groton - Town Hall Annex",
         "scene": "scene",
         "showlegend": true,
         "type": "scatter3d",
         "x": [
          "Groton"
         ],
         "y": [
          -72.009806
         ],
         "z": [
          41.341893000000006
         ]
        },
        {
         "hovertemplate": "Station_Name=TOWN HALL<br>City=%{x}<br>longitude=%{y}<br>latitude=%{z}<extra></extra>",
         "legendgroup": "TOWN HALL",
         "marker": {
          "color": "#00cc96",
          "symbol": "circle"
         },
         "mode": "markers",
         "name": "TOWN HALL",
         "scene": "scene",
         "showlegend": true,
         "type": "scatter3d",
         "x": [
          "Guilford"
         ],
         "y": [
          -72.6798002
         ],
         "z": [
          41.2832367
         ]
        },
        {
         "hovertemplate": "Station_Name=TRUMBULL MALL<br>City=%{x}<br>longitude=%{y}<br>latitude=%{z}<extra></extra>",
         "legendgroup": "TRUMBULL MALL",
         "marker": {
          "color": "#ab63fa",
          "symbol": "circle"
         },
         "mode": "markers",
         "name": "TRUMBULL MALL",
         "scene": "scene",
         "showlegend": true,
         "type": "scatter3d",
         "x": [
          "Trumbull"
         ],
         "y": [
          -73.2246399
         ],
         "z": [
          41.2286526
         ]
        },
        {
         "hovertemplate": "Station_Name=Parthenon Diner of Old Saybrook - Tesla Destination<br>City=%{x}<br>longitude=%{y}<br>latitude=%{z}<extra></extra>",
         "legendgroup": "Parthenon Diner of Old Saybrook - Tesla Destination",
         "marker": {
          "color": "#FFA15A",
          "symbol": "circle"
         },
         "mode": "markers",
         "name": "Parthenon Diner of Old Saybrook - Tesla Destination",
         "scene": "scene",
         "showlegend": true,
         "type": "scatter3d",
         "x": [
          "Old Saybrook"
         ],
         "y": [
          -72.38345
         ],
         "z": [
          41.292172
         ]
        },
        {
         "hovertemplate": "Station_Name=Western Connecticut State University<br>City=%{x}<br>longitude=%{y}<br>latitude=%{z}<extra></extra>",
         "legendgroup": "Western Connecticut State University",
         "marker": {
          "color": "#19d3f3",
          "symbol": "circle"
         },
         "mode": "markers",
         "name": "Western Connecticut State University",
         "scene": "scene",
         "showlegend": true,
         "type": "scatter3d",
         "x": [
          "Danbury",
          "Danbury",
          "Danbury",
          "Danbury"
         ],
         "y": [
          -73.492801,
          -73.44475,
          -73.443485,
          -73.442053
         ],
         "z": [
          41.394446,
          41.399432,
          41.398492,
          41.39936
         ]
        },
        {
         "hovertemplate": "Station_Name=Ridgeway Shopping Center<br>City=%{x}<br>longitude=%{y}<br>latitude=%{z}<extra></extra>",
         "legendgroup": "Ridgeway Shopping Center",
         "marker": {
          "color": "#FF6692",
          "symbol": "circle"
         },
         "mode": "markers",
         "name": "Ridgeway Shopping Center",
         "scene": "scene",
         "showlegend": true,
         "type": "scatter3d",
         "x": [
          "Stamford"
         ],
         "y": [
          -73.545939
         ],
         "z": [
          41.068654
         ]
        },
        {
         "hovertemplate": "Station_Name=Clark Memorial Library<br>City=%{x}<br>longitude=%{y}<br>latitude=%{z}<extra></extra>",
         "legendgroup": "Clark Memorial Library",
         "marker": {
          "color": "#B6E880",
          "symbol": "circle"
         },
         "mode": "markers",
         "name": "Clark Memorial Library",
         "scene": "scene",
         "showlegend": true,
         "type": "scatter3d",
         "x": [
          "Bethany"
         ],
         "y": [
          -72.99499
         ],
         "z": [
          41.427276
         ]
        },
        {
         "hovertemplate": "Station_Name=City of New Haven - Orchard Sherman Parking Lot<br>City=%{x}<br>longitude=%{y}<br>latitude=%{z}<extra></extra>",
         "legendgroup": "City of New Haven - Orchard Sherman Parking Lot",
         "marker": {
          "color": "#FF97FF",
          "symbol": "circle"
         },
         "mode": "markers",
         "name": "City of New Haven - Orchard Sherman Parking Lot",
         "scene": "scene",
         "showlegend": true,
         "type": "scatter3d",
         "x": [
          "New Haven"
         ],
         "y": [
          -72.944576
         ],
         "z": [
          41.306583
         ]
        },
        {
         "hovertemplate": "Station_Name=Town of Westport - Westport Metro North<br>City=%{x}<br>longitude=%{y}<br>latitude=%{z}<extra></extra>",
         "legendgroup": "Town of Westport - Westport Metro North",
         "marker": {
          "color": "#FECB52",
          "symbol": "circle"
         },
         "mode": "markers",
         "name": "Town of Westport - Westport Metro North",
         "scene": "scene",
         "showlegend": true,
         "type": "scatter3d",
         "x": [
          "Westport"
         ],
         "y": [
          -73.369266
         ],
         "z": [
          41.119291
         ]
        },
        {
         "hovertemplate": "Station_Name=Greenwich Northbound Travel Plaza - Tesla Supercharger<br>City=%{x}<br>longitude=%{y}<br>latitude=%{z}<extra></extra>",
         "legendgroup": "Greenwich Northbound Travel Plaza - Tesla Supercharger",
         "marker": {
          "color": "#636efa",
          "symbol": "circle"
         },
         "mode": "markers",
         "name": "Greenwich Northbound Travel Plaza - Tesla Supercharger",
         "scene": "scene",
         "showlegend": true,
         "type": "scatter3d",
         "x": [
          "Greenwich"
         ],
         "y": [
          -73.671661
         ],
         "z": [
          41.041538
         ]
        },
        {
         "hovertemplate": "Station_Name=Central Connecticut State University- Welte Garage<br>City=%{x}<br>longitude=%{y}<br>latitude=%{z}<extra></extra>",
         "legendgroup": "Central Connecticut State University- Welte Garage",
         "marker": {
          "color": "#EF553B",
          "symbol": "circle"
         },
         "mode": "markers",
         "name": "Central Connecticut State University- Welte Garage",
         "scene": "scene",
         "showlegend": true,
         "type": "scatter3d",
         "x": [
          "New Britain"
         ],
         "y": [
          -72.769268
         ],
         "z": [
          41.692299
         ]
        },
        {
         "hovertemplate": "Station_Name=Isham Garage<br>City=%{x}<br>longitude=%{y}<br>latitude=%{z}<extra></extra>",
         "legendgroup": "Isham Garage",
         "marker": {
          "color": "#00cc96",
          "symbol": "circle"
         },
         "mode": "markers",
         "name": "Isham Garage",
         "scene": "scene",
         "showlegend": true,
         "type": "scatter3d",
         "x": [
          "West Hartford"
         ],
         "y": [
          -72.740521
         ],
         "z": [
          41.760873
         ]
        },
        {
         "hovertemplate": "Station_Name=GENE LANGAN VW<br>City=%{x}<br>longitude=%{y}<br>latitude=%{z}<extra></extra>",
         "legendgroup": "GENE LANGAN VW",
         "marker": {
          "color": "#ab63fa",
          "symbol": "circle"
         },
         "mode": "markers",
         "name": "GENE LANGAN VW",
         "scene": "scene",
         "showlegend": true,
         "type": "scatter3d",
         "x": [
          "Glastonbury"
         ],
         "y": [
          -72.593366
         ],
         "z": [
          41.704415
         ]
        },
        {
         "hovertemplate": "Station_Name=I-91 Tech Park<br>City=%{x}<br>longitude=%{y}<br>latitude=%{z}<extra></extra>",
         "legendgroup": "I-91 Tech Park",
         "marker": {
          "color": "#FFA15A",
          "symbol": "circle"
         },
         "mode": "markers",
         "name": "I-91 Tech Park",
         "scene": "scene",
         "showlegend": true,
         "type": "scatter3d",
         "x": [
          "Rocky Hill"
         ],
         "y": [
          -72.676125
         ],
         "z": [
          41.641774
         ]
        },
        {
         "hovertemplate": "Station_Name=Homestead Inn - Tesla Destination<br>City=%{x}<br>longitude=%{y}<br>latitude=%{z}<extra></extra>",
         "legendgroup": "Homestead Inn - Tesla Destination",
         "marker": {
          "color": "#19d3f3",
          "symbol": "circle"
         },
         "mode": "markers",
         "name": "Homestead Inn - Tesla Destination",
         "scene": "scene",
         "showlegend": true,
         "type": "scatter3d",
         "x": [
          "New Milford"
         ],
         "y": [
          -73.411005
         ],
         "z": [
          41.580889
         ]
        },
        {
         "hovertemplate": "Station_Name=Grace Mayflower Inn and Spa - Tesla Destination<br>City=%{x}<br>longitude=%{y}<br>latitude=%{z}<extra></extra>",
         "legendgroup": "Grace Mayflower Inn and Spa - Tesla Destination",
         "marker": {
          "color": "#FF6692",
          "symbol": "circle"
         },
         "mode": "markers",
         "name": "Grace Mayflower Inn and Spa - Tesla Destination",
         "scene": "scene",
         "showlegend": true,
         "type": "scatter3d",
         "x": [
          "Rte 47, Washington"
         ],
         "y": [
          -73.305987
         ],
         "z": [
          41.628601
         ]
        },
        {
         "hovertemplate": "Station_Name=I-95 Madison SB Service Plaza - Tesla Supercharger<br>City=%{x}<br>longitude=%{y}<br>latitude=%{z}<extra></extra>",
         "legendgroup": "I-95 Madison SB Service Plaza - Tesla Supercharger",
         "marker": {
          "color": "#B6E880",
          "symbol": "circle"
         },
         "mode": "markers",
         "name": "I-95 Madison SB Service Plaza - Tesla Supercharger",
         "scene": "scene",
         "showlegend": true,
         "type": "scatter3d",
         "x": [
          "Madison"
         ],
         "y": [
          -72.5793623215072
         ],
         "z": [
          41.291902304928
         ]
        },
        {
         "hovertemplate": "Station_Name=Bishop's Orchards Farm Market<br>City=%{x}<br>longitude=%{y}<br>latitude=%{z}<extra></extra>",
         "legendgroup": "Bishop's Orchards Farm Market",
         "marker": {
          "color": "#FF97FF",
          "symbol": "circle"
         },
         "mode": "markers",
         "name": "Bishop's Orchards Farm Market",
         "scene": "scene",
         "showlegend": true,
         "type": "scatter3d",
         "x": [
          "Guilford"
         ],
         "y": [
          -72.695702
         ],
         "z": [
          41.290395
         ]
        },
        {
         "hovertemplate": "Station_Name=Campus at Greenhill<br>City=%{x}<br>longitude=%{y}<br>latitude=%{z}<extra></extra>",
         "legendgroup": "Campus at Greenhill",
         "marker": {
          "color": "#FECB52",
          "symbol": "circle"
         },
         "mode": "markers",
         "name": "Campus at Greenhill",
         "scene": "scene",
         "showlegend": true,
         "type": "scatter3d",
         "x": [
          "Wallingford"
         ],
         "y": [
          -72.775522
         ],
         "z": [
          41.478889
         ]
        },
        {
         "hovertemplate": "Station_Name=Connecticut Department of Motor Vehicles<br>City=%{x}<br>longitude=%{y}<br>latitude=%{z}<extra></extra>",
         "legendgroup": "Connecticut Department of Motor Vehicles",
         "marker": {
          "color": "#636efa",
          "symbol": "circle"
         },
         "mode": "markers",
         "name": "Connecticut Department of Motor Vehicles",
         "scene": "scene",
         "showlegend": true,
         "type": "scatter3d",
         "x": [
          "Cheshire",
          "Wethersfield"
         ],
         "y": [
          -72.8935933,
          -72.655754
         ],
         "z": [
          41.5374181,
          41.71866250000001
         ]
        },
        {
         "hovertemplate": "Station_Name=Town of Glastonbury - Town Hall<br>City=%{x}<br>longitude=%{y}<br>latitude=%{z}<extra></extra>",
         "legendgroup": "Town of Glastonbury - Town Hall",
         "marker": {
          "color": "#EF553B",
          "symbol": "circle"
         },
         "mode": "markers",
         "name": "Town of Glastonbury - Town Hall",
         "scene": "scene",
         "showlegend": true,
         "type": "scatter3d",
         "x": [
          "Glastonbury"
         ],
         "y": [
          -72.611655
         ],
         "z": [
          41.706856
         ]
        },
        {
         "hovertemplate": "Station_Name=Green’s Farms Railroad Station<br>City=%{x}<br>longitude=%{y}<br>latitude=%{z}<extra></extra>",
         "legendgroup": "Green’s Farms Railroad Station",
         "marker": {
          "color": "#00cc96",
          "symbol": "circle"
         },
         "mode": "markers",
         "name": "Green’s Farms Railroad Station",
         "scene": "scene",
         "showlegend": true,
         "type": "scatter3d",
         "x": [
          "Westport"
         ],
         "y": [
          -73.315136
         ],
         "z": [
          41.122442
         ]
        },
        {
         "hovertemplate": "Station_Name=Connecticut Insurance Exchange of Southington<br>City=%{x}<br>longitude=%{y}<br>latitude=%{z}<extra></extra>",
         "legendgroup": "Connecticut Insurance Exchange of Southington",
         "marker": {
          "color": "#ab63fa",
          "symbol": "circle"
         },
         "mode": "markers",
         "name": "Connecticut Insurance Exchange of Southington",
         "scene": "scene",
         "showlegend": true,
         "type": "scatter3d",
         "x": [
          "Plantsville"
         ],
         "y": [
          -72.88305
         ],
         "z": [
          41.564358
         ]
        },
        {
         "hovertemplate": "Station_Name=HOFFMAN HONDA 1<br>City=%{x}<br>longitude=%{y}<br>latitude=%{z}<extra></extra>",
         "legendgroup": "HOFFMAN HONDA 1",
         "marker": {
          "color": "#FFA15A",
          "symbol": "circle"
         },
         "mode": "markers",
         "name": "HOFFMAN HONDA 1",
         "scene": "scene",
         "showlegend": true,
         "type": "scatter3d",
         "x": [
          "Simsbury"
         ],
         "y": [
          -72.869331
         ],
         "z": [
          41.818224
         ]
        },
        {
         "hovertemplate": "Station_Name=Three Rivers Community College<br>City=%{x}<br>longitude=%{y}<br>latitude=%{z}<extra></extra>",
         "legendgroup": "Three Rivers Community College",
         "marker": {
          "color": "#19d3f3",
          "symbol": "circle"
         },
         "mode": "markers",
         "name": "Three Rivers Community College",
         "scene": "scene",
         "showlegend": true,
         "type": "scatter3d",
         "x": [
          "Norwich"
         ],
         "y": [
          -72.10451
         ],
         "z": [
          41.510596
         ]
        },
        {
         "hovertemplate": "Station_Name=Town of Stafford - Public Works Garage<br>City=%{x}<br>longitude=%{y}<br>latitude=%{z}<extra></extra>",
         "legendgroup": "Town of Stafford - Public Works Garage",
         "marker": {
          "color": "#FF6692",
          "symbol": "circle"
         },
         "mode": "markers",
         "name": "Town of Stafford - Public Works Garage",
         "scene": "scene",
         "showlegend": true,
         "type": "scatter3d",
         "x": [
          "Stafford Springs"
         ],
         "y": [
          -72.290233
         ],
         "z": [
          41.984164
         ]
        },
        {
         "hovertemplate": "Station_Name=Woodbridge Town Hall<br>City=%{x}<br>longitude=%{y}<br>latitude=%{z}<extra></extra>",
         "legendgroup": "Woodbridge Town Hall",
         "marker": {
          "color": "#B6E880",
          "symbol": "circle"
         },
         "mode": "markers",
         "name": "Woodbridge Town Hall",
         "scene": "scene",
         "showlegend": true,
         "type": "scatter3d",
         "x": [
          "Woodbridge"
         ],
         "y": [
          -73.014176
         ],
         "z": [
          41.354138
         ]
        },
        {
         "hovertemplate": "Station_Name=Steelpointe Harbor<br>City=%{x}<br>longitude=%{y}<br>latitude=%{z}<extra></extra>",
         "legendgroup": "Steelpointe Harbor",
         "marker": {
          "color": "#FF97FF",
          "symbol": "circle"
         },
         "mode": "markers",
         "name": "Steelpointe Harbor",
         "scene": "scene",
         "showlegend": true,
         "type": "scatter3d",
         "x": [
          "Bridgeport"
         ],
         "y": [
          -73.18122320000002
         ],
         "z": [
          41.1781223
         ]
        },
        {
         "hovertemplate": "Station_Name=COMM LOT STA 1<br>City=%{x}<br>longitude=%{y}<br>latitude=%{z}<extra></extra>",
         "legendgroup": "COMM LOT STA 1",
         "marker": {
          "color": "#FECB52",
          "symbol": "circle"
         },
         "mode": "markers",
         "name": "COMM LOT STA 1",
         "scene": "scene",
         "showlegend": true,
         "type": "scatter3d",
         "x": [
          "Bethel",
          "Bethel"
         ],
         "y": [
          -73.4145557,
          -73.4178034
         ],
         "z": [
          41.3703626,
          41.3762377
         ]
        },
        {
         "hovertemplate": "Station_Name=The Promenade Shops at Evergreen Walk - Tesla Destination<br>City=%{x}<br>longitude=%{y}<br>latitude=%{z}<extra></extra>",
         "legendgroup": "The Promenade Shops at Evergreen Walk - Tesla Destination",
         "marker": {
          "color": "#636efa",
          "symbol": "circle"
         },
         "mode": "markers",
         "name": "The Promenade Shops at Evergreen Walk - Tesla Destination",
         "scene": "scene",
         "showlegend": true,
         "type": "scatter3d",
         "x": [
          "South Windsor"
         ],
         "y": [
          -72.556345
         ],
         "z": [
          41.812203
         ]
        },
        {
         "hovertemplate": "Station_Name=TOWN OF PUTNAM<br>City=%{x}<br>longitude=%{y}<br>latitude=%{z}<extra></extra>",
         "legendgroup": "TOWN OF PUTNAM",
         "marker": {
          "color": "#EF553B",
          "symbol": "circle"
         },
         "mode": "markers",
         "name": "TOWN OF PUTNAM",
         "scene": "scene",
         "showlegend": true,
         "type": "scatter3d",
         "x": [
          "Putnam"
         ],
         "y": [
          -71.9098896
         ],
         "z": [
          41.914513
         ]
        },
        {
         "hovertemplate": "Station_Name=Maritime Garage<br>City=%{x}<br>longitude=%{y}<br>latitude=%{z}<extra></extra>",
         "legendgroup": "Maritime Garage",
         "marker": {
          "color": "#00cc96",
          "symbol": "circle"
         },
         "mode": "markers",
         "name": "Maritime Garage",
         "scene": "scene",
         "showlegend": true,
         "type": "scatter3d",
         "x": [
          "Norwalk"
         ],
         "y": [
          -73.418955
         ],
         "z": [
          41.104278
         ]
        },
        {
         "hovertemplate": "Station_Name=GE WS - Price Chopper #243 Storrs CT 2<br>City=%{x}<br>longitude=%{y}<br>latitude=%{z}<extra></extra>",
         "legendgroup": "GE WS - Price Chopper #243 Storrs CT 2",
         "marker": {
          "color": "#ab63fa",
          "symbol": "circle"
         },
         "mode": "markers",
         "name": "GE WS - Price Chopper #243 Storrs CT 2",
         "scene": "scene",
         "showlegend": true,
         "type": "scatter3d",
         "x": [
          "Mansfield"
         ],
         "y": [
          -72.241315
         ],
         "z": [
          41.801976
         ]
        },
        {
         "hovertemplate": "Station_Name=Stratford Square<br>City=%{x}<br>longitude=%{y}<br>latitude=%{z}<extra></extra>",
         "legendgroup": "Stratford Square",
         "marker": {
          "color": "#FFA15A",
          "symbol": "circle"
         },
         "mode": "markers",
         "name": "Stratford Square",
         "scene": "scene",
         "showlegend": true,
         "type": "scatter3d",
         "x": [
          "Stratford"
         ],
         "y": [
          -73.122342
         ],
         "z": [
          41.198018
         ]
        },
        {
         "hovertemplate": "Station_Name=Cumberland Farms<br>City=%{x}<br>longitude=%{y}<br>latitude=%{z}<extra></extra>",
         "legendgroup": "Cumberland Farms",
         "marker": {
          "color": "#19d3f3",
          "symbol": "circle"
         },
         "mode": "markers",
         "name": "Cumberland Farms",
         "scene": "scene",
         "showlegend": true,
         "type": "scatter3d",
         "x": [
          "West Hartford"
         ],
         "y": [
          -72.718112
         ],
         "z": [
          41.741696
         ]
        },
        {
         "hovertemplate": "Station_Name=City of New Haven - Air Rights Garage<br>City=%{x}<br>longitude=%{y}<br>latitude=%{z}<extra></extra>",
         "legendgroup": "City of New Haven - Air Rights Garage",
         "marker": {
          "color": "#FF6692",
          "symbol": "circle"
         },
         "mode": "markers",
         "name": "City of New Haven - Air Rights Garage",
         "scene": "scene",
         "showlegend": true,
         "type": "scatter3d",
         "x": [
          "New Haven"
         ],
         "y": [
          -72.934141
         ],
         "z": [
          41.305265
         ]
        },
        {
         "hovertemplate": "Station_Name=Lime Rock Park - Tesla Destination<br>City=%{x}<br>longitude=%{y}<br>latitude=%{z}<extra></extra>",
         "legendgroup": "Lime Rock Park - Tesla Destination",
         "marker": {
          "color": "#B6E880",
          "symbol": "circle"
         },
         "mode": "markers",
         "name": "Lime Rock Park - Tesla Destination",
         "scene": "scene",
         "showlegend": true,
         "type": "scatter3d",
         "x": [
          "Lakeville"
         ],
         "y": [
          -73.389367
         ],
         "z": [
          41.930342
         ]
        },
        {
         "hovertemplate": "Station_Name=Danbury Fair Mall - Tesla Supercharger<br>City=%{x}<br>longitude=%{y}<br>latitude=%{z}<extra></extra>",
         "legendgroup": "Danbury Fair Mall - Tesla Supercharger",
         "marker": {
          "color": "#FF97FF",
          "symbol": "circle"
         },
         "mode": "markers",
         "name": "Danbury Fair Mall - Tesla Supercharger",
         "scene": "scene",
         "showlegend": true,
         "type": "scatter3d",
         "x": [
          "Danbury"
         ],
         "y": [
          -73.477961
         ],
         "z": [
          41.379441
         ]
        },
        {
         "hovertemplate": "Station_Name=Coventry High School<br>City=%{x}<br>longitude=%{y}<br>latitude=%{z}<extra></extra>",
         "legendgroup": "Coventry High School",
         "marker": {
          "color": "#FECB52",
          "symbol": "circle"
         },
         "mode": "markers",
         "name": "Coventry High School",
         "scene": "scene",
         "showlegend": true,
         "type": "scatter3d",
         "x": [
          "Coventry"
         ],
         "y": [
          -72.313767
         ],
         "z": [
          41.782923
         ]
        },
        {
         "hovertemplate": "Station_Name=Bell Street Garage<br>City=%{x}<br>longitude=%{y}<br>latitude=%{z}<extra></extra>",
         "legendgroup": "Bell Street Garage",
         "marker": {
          "color": "#636efa",
          "symbol": "circle"
         },
         "mode": "markers",
         "name": "Bell Street Garage",
         "scene": "scene",
         "showlegend": true,
         "type": "scatter3d",
         "x": [
          "Stamford"
         ],
         "y": [
          -73.540733
         ],
         "z": [
          41.052215
         ]
        },
        {
         "hovertemplate": "Station_Name=Groton New London Airport<br>City=%{x}<br>longitude=%{y}<br>latitude=%{z}<extra></extra>",
         "legendgroup": "Groton New London Airport",
         "marker": {
          "color": "#EF553B",
          "symbol": "circle"
         },
         "mode": "markers",
         "name": "Groton New London Airport",
         "scene": "scene",
         "showlegend": true,
         "type": "scatter3d",
         "x": [
          "Groton"
         ],
         "y": [
          -72.044683
         ],
         "z": [
          41.332527
         ]
        },
        {
         "hovertemplate": "Station_Name=TEN TEN WASH<br>City=%{x}<br>longitude=%{y}<br>latitude=%{z}<extra></extra>",
         "legendgroup": "TEN TEN WASH",
         "marker": {
          "color": "#00cc96",
          "symbol": "circle"
         },
         "mode": "markers",
         "name": "TEN TEN WASH",
         "scene": "scene",
         "showlegend": true,
         "type": "scatter3d",
         "x": [
          "Stamford"
         ],
         "y": [
          -73.5431681
         ],
         "z": [
          41.0535888
         ]
        },
        {
         "hovertemplate": "Station_Name=RSI EAST<br>City=%{x}<br>longitude=%{y}<br>latitude=%{z}<extra></extra>",
         "legendgroup": "RSI EAST",
         "marker": {
          "color": "#ab63fa",
          "symbol": "circle"
         },
         "mode": "markers",
         "name": "RSI EAST",
         "scene": "scene",
         "showlegend": true,
         "type": "scatter3d",
         "x": [
          "Southington"
         ],
         "y": [
          -72.8973437
         ],
         "z": [
          41.618456
         ]
        },
        {
         "hovertemplate": "Station_Name=University of Connecticut - School of Law<br>City=%{x}<br>longitude=%{y}<br>latitude=%{z}<extra></extra>",
         "legendgroup": "University of Connecticut - School of Law",
         "marker": {
          "color": "#FFA15A",
          "symbol": "circle"
         },
         "mode": "markers",
         "name": "University of Connecticut - School of Law",
         "scene": "scene",
         "showlegend": true,
         "type": "scatter3d",
         "x": [
          "Hartford"
         ],
         "y": [
          -72.70705
         ],
         "z": [
          41.772484
         ]
        },
        {
         "hovertemplate": "Station_Name=CROWLEY VW<br>City=%{x}<br>longitude=%{y}<br>latitude=%{z}<extra></extra>",
         "legendgroup": "CROWLEY VW",
         "marker": {
          "color": "#19d3f3",
          "symbol": "circle"
         },
         "mode": "markers",
         "name": "CROWLEY VW",
         "scene": "scene",
         "showlegend": true,
         "type": "scatter3d",
         "x": [
          "Plainville"
         ],
         "y": [
          -72.8411522
         ],
         "z": [
          41.6771741
         ]
        },
        {
         "hovertemplate": "Station_Name=Homewood Suites<br>City=%{x}<br>longitude=%{y}<br>latitude=%{z}<extra></extra>",
         "legendgroup": "Homewood Suites",
         "marker": {
          "color": "#FF6692",
          "symbol": "circle"
         },
         "mode": "markers",
         "name": "Homewood Suites",
         "scene": "scene",
         "showlegend": true,
         "type": "scatter3d",
         "x": [
          "Orange"
         ],
         "y": [
          -72.998271
         ],
         "z": [
          41.252117
         ]
        },
        {
         "hovertemplate": "Station_Name=Asnuntuck Community College<br>City=%{x}<br>longitude=%{y}<br>latitude=%{z}<extra></extra>",
         "legendgroup": "Asnuntuck Community College",
         "marker": {
          "color": "#B6E880",
          "symbol": "circle"
         },
         "mode": "markers",
         "name": "Asnuntuck Community College",
         "scene": "scene",
         "showlegend": true,
         "type": "scatter3d",
         "x": [
          "Enfield"
         ],
         "y": [
          -72.5697849
         ],
         "z": [
          42.0000268
         ]
        },
        {
         "hovertemplate": "Station_Name=Fairfield NB - Tesla Supercharger<br>City=%{x}<br>longitude=%{y}<br>latitude=%{z}<extra></extra>",
         "legendgroup": "Fairfield NB - Tesla Supercharger",
         "marker": {
          "color": "#FF97FF",
          "symbol": "circle"
         },
         "mode": "markers",
         "name": "Fairfield NB - Tesla Supercharger",
         "scene": "scene",
         "showlegend": true,
         "type": "scatter3d",
         "x": [
          "Fairfield"
         ],
         "y": [
          -73.257123
         ],
         "z": [
          41.146214
         ]
        },
        {
         "hovertemplate": "Station_Name=Connecticut Department of Energy and Environmental Protection - Marine Headquarters<br>City=%{x}<br>longitude=%{y}<br>latitude=%{z}<extra></extra>",
         "legendgroup": "Connecticut Department of Energy and Environmental Protection - Marine Headquarters",
         "marker": {
          "color": "#FECB52",
          "symbol": "circle"
         },
         "mode": "markers",
         "name": "Connecticut Department of Energy and Environmental Protection - Marine Headquarters",
         "scene": "scene",
         "showlegend": true,
         "type": "scatter3d",
         "x": [
          "Old Lyme"
         ],
         "y": [
          -72.345572
         ],
         "z": [
          41.312148
         ]
        },
        {
         "hovertemplate": "Station_Name=Precision Motors of Mystic<br>City=%{x}<br>longitude=%{y}<br>latitude=%{z}<extra></extra>",
         "legendgroup": "Precision Motors of Mystic",
         "marker": {
          "color": "#636efa",
          "symbol": "circle"
         },
         "mode": "markers",
         "name": "Precision Motors of Mystic",
         "scene": "scene",
         "showlegend": true,
         "type": "scatter3d",
         "x": [
          "Mystic"
         ],
         "y": [
          -71.988657
         ],
         "z": [
          41.390465
         ]
        },
        {
         "hovertemplate": "Station_Name=BMW BRIDGEPORT<br>City=%{x}<br>longitude=%{y}<br>latitude=%{z}<extra></extra>",
         "legendgroup": "BMW BRIDGEPORT",
         "marker": {
          "color": "#EF553B",
          "symbol": "circle"
         },
         "mode": "markers",
         "name": "BMW BRIDGEPORT",
         "scene": "scene",
         "showlegend": true,
         "type": "scatter3d",
         "x": [
          "Bridgeport"
         ],
         "y": [
          -73.1897466
         ],
         "z": [
          41.2020685
         ]
        },
        {
         "hovertemplate": "Station_Name=Connecticut State Capitol<br>City=%{x}<br>longitude=%{y}<br>latitude=%{z}<extra></extra>",
         "legendgroup": "Connecticut State Capitol",
         "marker": {
          "color": "#00cc96",
          "symbol": "circle"
         },
         "mode": "markers",
         "name": "Connecticut State Capitol",
         "scene": "scene",
         "showlegend": true,
         "type": "scatter3d",
         "x": [
          "Hartford"
         ],
         "y": [
          -72.682868
         ],
         "z": [
          41.764759
         ]
        },
        {
         "hovertemplate": "Station_Name=Executive Nissan<br>City=%{x}<br>longitude=%{y}<br>latitude=%{z}<extra></extra>",
         "legendgroup": "Executive Nissan",
         "marker": {
          "color": "#ab63fa",
          "symbol": "circle"
         },
         "mode": "markers",
         "name": "Executive Nissan",
         "scene": "scene",
         "showlegend": true,
         "type": "scatter3d",
         "x": [
          "North Haven"
         ],
         "y": [
          -72.870997
         ],
         "z": [
          41.360892
         ]
        },
        {
         "hovertemplate": "Station_Name=Propark Harbor Point Gateway Garage - Tesla Destination<br>City=%{x}<br>longitude=%{y}<br>latitude=%{z}<extra></extra>",
         "legendgroup": "Propark Harbor Point Gateway Garage - Tesla Destination",
         "marker": {
          "color": "#FFA15A",
          "symbol": "circle"
         },
         "mode": "markers",
         "name": "Propark Harbor Point Gateway Garage - Tesla Destination",
         "scene": "scene",
         "showlegend": true,
         "type": "scatter3d",
         "x": [
          "Stamford"
         ],
         "y": [
          -73.543258
         ],
         "z": [
          41.045384000000006
         ]
        },
        {
         "hovertemplate": "Station_Name=Wallingford Shopping Center<br>City=%{x}<br>longitude=%{y}<br>latitude=%{z}<extra></extra>",
         "legendgroup": "Wallingford Shopping Center",
         "marker": {
          "color": "#19d3f3",
          "symbol": "circle"
         },
         "mode": "markers",
         "name": "Wallingford Shopping Center",
         "scene": "scene",
         "showlegend": true,
         "type": "scatter3d",
         "x": [
          "Wallingford"
         ],
         "y": [
          -72.807124
         ],
         "z": [
          41.483774
         ]
        },
        {
         "hovertemplate": "Station_Name=Fairfield Parks and Recreation Center<br>City=%{x}<br>longitude=%{y}<br>latitude=%{z}<extra></extra>",
         "legendgroup": "Fairfield Parks and Recreation Center",
         "marker": {
          "color": "#FF6692",
          "symbol": "circle"
         },
         "mode": "markers",
         "name": "Fairfield Parks and Recreation Center",
         "scene": "scene",
         "showlegend": true,
         "type": "scatter3d",
         "x": [
          "Fairfield"
         ],
         "y": [
          -73.263962
         ],
         "z": [
          41.142152
         ]
        },
        {
         "hovertemplate": "Station_Name=The Westport Library<br>City=%{x}<br>longitude=%{y}<br>latitude=%{z}<extra></extra>",
         "legendgroup": "The Westport Library",
         "marker": {
          "color": "#B6E880",
          "symbol": "circle"
         },
         "mode": "markers",
         "name": "The Westport Library",
         "scene": "scene",
         "showlegend": true,
         "type": "scatter3d",
         "x": [
          "Westport"
         ],
         "y": [
          -73.3613829
         ],
         "z": [
          41.1396711
         ]
        },
        {
         "hovertemplate": "Station_Name=Homestead Inn - Thomas Henkelmann - Tesla Destination<br>City=%{x}<br>longitude=%{y}<br>latitude=%{z}<extra></extra>",
         "legendgroup": "Homestead Inn - Thomas Henkelmann - Tesla Destination",
         "marker": {
          "color": "#FF97FF",
          "symbol": "circle"
         },
         "mode": "markers",
         "name": "Homestead Inn - Thomas Henkelmann - Tesla Destination",
         "scene": "scene",
         "showlegend": true,
         "type": "scatter3d",
         "x": [
          "Greenwich"
         ],
         "y": [
          -73.634045
         ],
         "z": [
          41.015276
         ]
        },
        {
         "hovertemplate": "Station_Name=MORSCHES FF<br>City=%{x}<br>longitude=%{y}<br>latitude=%{z}<extra></extra>",
         "legendgroup": "MORSCHES FF",
         "marker": {
          "color": "#FECB52",
          "symbol": "circle"
         },
         "mode": "markers",
         "name": "MORSCHES FF",
         "scene": "scene",
         "showlegend": true,
         "type": "scatter3d",
         "x": [
          "Fairfield"
         ],
         "y": [
          -73.2564712
         ],
         "z": [
          41.1399023
         ]
        },
        {
         "hovertemplate": "Station_Name=Panera Bread<br>City=%{x}<br>longitude=%{y}<br>latitude=%{z}<extra></extra>",
         "legendgroup": "Panera Bread",
         "marker": {
          "color": "#636efa",
          "symbol": "circle"
         },
         "mode": "markers",
         "name": "Panera Bread",
         "scene": "scene",
         "showlegend": true,
         "type": "scatter3d",
         "x": [
          "Wethersfield"
         ],
         "y": [
          -72.656507
         ],
         "z": [
          41.691611
         ]
        },
        {
         "hovertemplate": "Station_Name=Hoffman Toyota<br>City=%{x}<br>longitude=%{y}<br>latitude=%{z}<extra></extra>",
         "legendgroup": "Hoffman Toyota",
         "marker": {
          "color": "#EF553B",
          "symbol": "circle"
         },
         "mode": "markers",
         "name": "Hoffman Toyota",
         "scene": "scene",
         "showlegend": true,
         "type": "scatter3d",
         "x": [
          "West Simsbury"
         ],
         "y": [
          -72.867973
         ],
         "z": [
          41.818345
         ]
        },
        {
         "hovertemplate": "Station_Name=Ferguson Library - Harry Bennett Branch<br>City=%{x}<br>longitude=%{y}<br>latitude=%{z}<extra></extra>",
         "legendgroup": "Ferguson Library - Harry Bennett Branch",
         "marker": {
          "color": "#00cc96",
          "symbol": "circle"
         },
         "mode": "markers",
         "name": "Ferguson Library - Harry Bennett Branch",
         "scene": "scene",
         "showlegend": true,
         "type": "scatter3d",
         "x": [
          "Stamford"
         ],
         "y": [
          -73.544039
         ],
         "z": [
          41.099044
         ]
        },
        {
         "hovertemplate": "Station_Name=City of Hartford - Department of Public Works<br>City=%{x}<br>longitude=%{y}<br>latitude=%{z}<extra></extra>",
         "legendgroup": "City of Hartford - Department of Public Works",
         "marker": {
          "color": "#ab63fa",
          "symbol": "circle"
         },
         "mode": "markers",
         "name": "City of Hartford - Department of Public Works",
         "scene": "scene",
         "showlegend": true,
         "type": "scatter3d",
         "x": [
          "Hartford"
         ],
         "y": [
          -72.652406
         ],
         "z": [
          41.785974
         ]
        },
        {
         "hovertemplate": "Station_Name=Hammonasset Beach State Park - North<br>City=%{x}<br>longitude=%{y}<br>latitude=%{z}<extra></extra>",
         "legendgroup": "Hammonasset Beach State Park - North",
         "marker": {
          "color": "#FFA15A",
          "symbol": "circle"
         },
         "mode": "markers",
         "name": "Hammonasset Beach State Park - North",
         "scene": "scene",
         "showlegend": true,
         "type": "scatter3d",
         "x": [
          "Madison"
         ],
         "y": [
          -72.561988
         ],
         "z": [
          41.26449
         ]
        },
        {
         "hovertemplate": "Station_Name=Metro Center Garage<br>City=%{x}<br>longitude=%{y}<br>latitude=%{z}<extra></extra>",
         "legendgroup": "Metro Center Garage",
         "marker": {
          "color": "#19d3f3",
          "symbol": "circle"
         },
         "mode": "markers",
         "name": "Metro Center Garage",
         "scene": "scene",
         "showlegend": true,
         "type": "scatter3d",
         "x": [
          "Stamford"
         ],
         "y": [
          -73.54198740000001
         ],
         "z": [
          41.0457112
         ]
        },
        {
         "hovertemplate": "Station_Name=Middletown Nissan<br>City=%{x}<br>longitude=%{y}<br>latitude=%{z}<extra></extra>",
         "legendgroup": "Middletown Nissan",
         "marker": {
          "color": "#FF6692",
          "symbol": "circle"
         },
         "mode": "markers",
         "name": "Middletown Nissan",
         "scene": "scene",
         "showlegend": true,
         "type": "scatter3d",
         "x": [
          "Middletown"
         ],
         "y": [
          -72.676141
         ],
         "z": [
          41.59054
         ]
        },
        {
         "hovertemplate": "Station_Name=Newington Town Center - Municipal Parking Lot<br>City=%{x}<br>longitude=%{y}<br>latitude=%{z}<extra></extra>",
         "legendgroup": "Newington Town Center - Municipal Parking Lot",
         "marker": {
          "color": "#B6E880",
          "symbol": "circle"
         },
         "mode": "markers",
         "name": "Newington Town Center - Municipal Parking Lot",
         "scene": "scene",
         "showlegend": true,
         "type": "scatter3d",
         "x": [
          "Newington"
         ],
         "y": [
          -72.721392
         ],
         "z": [
          41.696446
         ]
        },
        {
         "hovertemplate": "Station_Name=Ridgeway Shopping Center - Tesla Supercharger<br>City=%{x}<br>longitude=%{y}<br>latitude=%{z}<extra></extra>",
         "legendgroup": "Ridgeway Shopping Center - Tesla Supercharger",
         "marker": {
          "color": "#FF97FF",
          "symbol": "circle"
         },
         "mode": "markers",
         "name": "Ridgeway Shopping Center - Tesla Supercharger",
         "scene": "scene",
         "showlegend": true,
         "type": "scatter3d",
         "x": [
          "Stamford"
         ],
         "y": [
          -73.546435
         ],
         "z": [
          41.068704
         ]
        },
        {
         "hovertemplate": "Station_Name=Connecticut Post Mall - NW Entrance<br>City=%{x}<br>longitude=%{y}<br>latitude=%{z}<extra></extra>",
         "legendgroup": "Connecticut Post Mall - NW Entrance",
         "marker": {
          "color": "#FECB52",
          "symbol": "circle"
         },
         "mode": "markers",
         "name": "Connecticut Post Mall - NW Entrance",
         "scene": "scene",
         "showlegend": true,
         "type": "scatter3d",
         "x": [
          "Milford"
         ],
         "y": [
          -73.036899
         ],
         "z": [
          41.23608
         ]
        },
        {
         "hovertemplate": "Station_Name=Girard Nissan<br>City=%{x}<br>longitude=%{y}<br>latitude=%{z}<extra></extra>",
         "legendgroup": "Girard Nissan",
         "marker": {
          "color": "#636efa",
          "symbol": "circle"
         },
         "mode": "markers",
         "name": "Girard Nissan",
         "scene": "scene",
         "showlegend": true,
         "type": "scatter3d",
         "x": [
          "Groton"
         ],
         "y": [
          -72.054118
         ],
         "z": [
          41.370989
         ]
        },
        {
         "hovertemplate": "Station_Name=Goodwin University<br>City=%{x}<br>longitude=%{y}<br>latitude=%{z}<extra></extra>",
         "legendgroup": "Goodwin University",
         "marker": {
          "color": "#EF553B",
          "symbol": "circle"
         },
         "mode": "markers",
         "name": "Goodwin University",
         "scene": "scene",
         "showlegend": true,
         "type": "scatter3d",
         "x": [
          "East Hartford",
          "East Hartford"
         ],
         "y": [
          -72.640075,
          -72.639362
         ],
         "z": [
          41.743194,
          41.749499
         ]
        },
        {
         "hovertemplate": "Station_Name=Greater Hartford Transit District - Spruce Street Lot<br>City=%{x}<br>longitude=%{y}<br>latitude=%{z}<extra></extra>",
         "legendgroup": "Greater Hartford Transit District - Spruce Street Lot",
         "marker": {
          "color": "#00cc96",
          "symbol": "circle"
         },
         "mode": "markers",
         "name": "Greater Hartford Transit District - Spruce Street Lot",
         "scene": "scene",
         "showlegend": true,
         "type": "scatter3d",
         "x": [
          "Hartford"
         ],
         "y": [
          -72.68182500000002
         ],
         "z": [
          41.769417
         ]
        },
        {
         "hovertemplate": "Station_Name=Illiano's Restaurant<br>City=%{x}<br>longitude=%{y}<br>latitude=%{z}<extra></extra>",
         "legendgroup": "Illiano's Restaurant",
         "marker": {
          "color": "#ab63fa",
          "symbol": "circle"
         },
         "mode": "markers",
         "name": "Illiano's Restaurant",
         "scene": "scene",
         "showlegend": true,
         "type": "scatter3d",
         "x": [
          "Yantic"
         ],
         "y": [
          -72.113144
         ],
         "z": [
          41.55775
         ]
        },
        {
         "hovertemplate": "Station_Name=Town of Hamden - Police Department<br>City=%{x}<br>longitude=%{y}<br>latitude=%{z}<extra></extra>",
         "legendgroup": "Town of Hamden - Police Department",
         "marker": {
          "color": "#FFA15A",
          "symbol": "circle"
         },
         "mode": "markers",
         "name": "Town of Hamden - Police Department",
         "scene": "scene",
         "showlegend": true,
         "type": "scatter3d",
         "x": [
          "Hamden"
         ],
         "y": [
          -72.903596
         ],
         "z": [
          41.384051
         ]
        },
        {
         "hovertemplate": "Station_Name=Fairfield Senior Center<br>City=%{x}<br>longitude=%{y}<br>latitude=%{z}<extra></extra>",
         "legendgroup": "Fairfield Senior Center",
         "marker": {
          "color": "#19d3f3",
          "symbol": "circle"
         },
         "mode": "markers",
         "name": "Fairfield Senior Center",
         "scene": "scene",
         "showlegend": true,
         "type": "scatter3d",
         "x": [
          "Fairfield"
         ],
         "y": [
          -73.26088
         ],
         "z": [
          41.132277
         ]
        },
        {
         "hovertemplate": "Station_Name=Butler Street Parking Lot<br>City=%{x}<br>longitude=%{y}<br>latitude=%{z}<extra></extra>",
         "legendgroup": "Butler Street Parking Lot",
         "marker": {
          "color": "#FF6692",
          "symbol": "circle"
         },
         "mode": "markers",
         "name": "Butler Street Parking Lot",
         "scene": "scene",
         "showlegend": true,
         "type": "scatter3d",
         "x": [
          "Meriden"
         ],
         "y": [
          -72.805988
         ],
         "z": [
          41.53697
         ]
        },
        {
         "hovertemplate": "Station_Name=Propark - 777 Main<br>City=%{x}<br>longitude=%{y}<br>latitude=%{z}<extra></extra>",
         "legendgroup": "Propark - 777 Main",
         "marker": {
          "color": "#B6E880",
          "symbol": "circle"
         },
         "mode": "markers",
         "name": "Propark - 777 Main",
         "scene": "scene",
         "showlegend": true,
         "type": "scatter3d",
         "x": [
          "Hartford"
         ],
         "y": [
          -72.67363400000002
         ],
         "z": [
          41.766034
         ]
        },
        {
         "hovertemplate": "Station_Name=JOHN ST CHARGER<br>City=%{x}<br>longitude=%{y}<br>latitude=%{z}<extra></extra>",
         "legendgroup": "JOHN ST CHARGER",
         "marker": {
          "color": "#FF97FF",
          "symbol": "circle"
         },
         "mode": "markers",
         "name": "JOHN ST CHARGER",
         "scene": "scene",
         "showlegend": true,
         "type": "scatter3d",
         "x": [
          "Bridgeport"
         ],
         "y": [
          -73.1911131
         ],
         "z": [
          41.1772308
         ]
        },
        {
         "hovertemplate": "Station_Name=Peck Lane Plaza Shopping Center<br>City=%{x}<br>longitude=%{y}<br>latitude=%{z}<extra></extra>",
         "legendgroup": "Peck Lane Plaza Shopping Center",
         "marker": {
          "color": "#FECB52",
          "symbol": "circle"
         },
         "mode": "markers",
         "name": "Peck Lane Plaza Shopping Center",
         "scene": "scene",
         "showlegend": true,
         "type": "scatter3d",
         "x": [
          "Orange"
         ],
         "y": [
          -73.017784
         ],
         "z": [
          41.251801
         ]
        },
        {
         "hovertemplate": "Station_Name=PRESTIGE VW<br>City=%{x}<br>longitude=%{y}<br>latitude=%{z}<extra></extra>",
         "legendgroup": "PRESTIGE VW",
         "marker": {
          "color": "#636efa",
          "symbol": "circle"
         },
         "mode": "markers",
         "name": "PRESTIGE VW",
         "scene": "scene",
         "showlegend": true,
         "type": "scatter3d",
         "x": [
          "Stamford"
         ],
         "y": [
          -73.5464906
         ],
         "z": [
          41.0553525
         ]
        },
        {
         "hovertemplate": "Station_Name=Fairfield Recreation Center<br>City=%{x}<br>longitude=%{y}<br>latitude=%{z}<extra></extra>",
         "legendgroup": "Fairfield Recreation Center",
         "marker": {
          "color": "#EF553B",
          "symbol": "circle"
         },
         "mode": "markers",
         "name": "Fairfield Recreation Center",
         "scene": "scene",
         "showlegend": true,
         "type": "scatter3d",
         "x": [
          "Fairfield"
         ],
         "y": [
          -73.264636
         ],
         "z": [
          41.14221200000001
         ]
        },
        {
         "hovertemplate": "Station_Name=Norwalk Community College<br>City=%{x}<br>longitude=%{y}<br>latitude=%{z}<extra></extra>",
         "legendgroup": "Norwalk Community College",
         "marker": {
          "color": "#00cc96",
          "symbol": "circle"
         },
         "mode": "markers",
         "name": "Norwalk Community College",
         "scene": "scene",
         "showlegend": true,
         "type": "scatter3d",
         "x": [
          "Norwalk"
         ],
         "y": [
          -73.452539
         ],
         "z": [
          41.102848
         ]
        },
        {
         "hovertemplate": "Station_Name=LAZ Fly Airport Parking<br>City=%{x}<br>longitude=%{y}<br>latitude=%{z}<extra></extra>",
         "legendgroup": "LAZ Fly Airport Parking",
         "marker": {
          "color": "#ab63fa",
          "symbol": "circle"
         },
         "mode": "markers",
         "name": "LAZ Fly Airport Parking",
         "scene": "scene",
         "showlegend": true,
         "type": "scatter3d",
         "x": [
          "Windsor Locks"
         ],
         "y": [
          -72.672748
         ],
         "z": [
          41.918347
         ]
        },
        {
         "hovertemplate": "Station_Name=Killingly Town Hall<br>City=%{x}<br>longitude=%{y}<br>latitude=%{z}<extra></extra>",
         "legendgroup": "Killingly Town Hall",
         "marker": {
          "color": "#FFA15A",
          "symbol": "circle"
         },
         "mode": "markers",
         "name": "Killingly Town Hall",
         "scene": "scene",
         "showlegend": true,
         "type": "scatter3d",
         "x": [
          "Killingly"
         ],
         "y": [
          -71.88232300000001
         ],
         "z": [
          41.80577
         ]
        },
        {
         "hovertemplate": "Station_Name=Central Connecticut State University - Welte Hall Parking Lot<br>City=%{x}<br>longitude=%{y}<br>latitude=%{z}<extra></extra>",
         "legendgroup": "Central Connecticut State University - Welte Hall Parking Lot",
         "marker": {
          "color": "#19d3f3",
          "symbol": "circle"
         },
         "mode": "markers",
         "name": "Central Connecticut State University - Welte Hall Parking Lot",
         "scene": "scene",
         "showlegend": true,
         "type": "scatter3d",
         "x": [
          "New Britain"
         ],
         "y": [
          -72.768107
         ],
         "z": [
          41.693501
         ]
        },
        {
         "hovertemplate": "Station_Name=The Inn at Woodstock Hill<br>City=%{x}<br>longitude=%{y}<br>latitude=%{z}<extra></extra>",
         "legendgroup": "The Inn at Woodstock Hill",
         "marker": {
          "color": "#FF6692",
          "symbol": "circle"
         },
         "mode": "markers",
         "name": "The Inn at Woodstock Hill",
         "scene": "scene",
         "showlegend": true,
         "type": "scatter3d",
         "x": [
          "Woodstock"
         ],
         "y": [
          -71.97262186000002
         ],
         "z": [
          41.94378281
         ]
        },
        {
         "hovertemplate": "Station_Name=Wilton Public Library<br>City=%{x}<br>longitude=%{y}<br>latitude=%{z}<extra></extra>",
         "legendgroup": "Wilton Public Library",
         "marker": {
          "color": "#B6E880",
          "symbol": "circle"
         },
         "mode": "markers",
         "name": "Wilton Public Library",
         "scene": "scene",
         "showlegend": true,
         "type": "scatter3d",
         "x": [
          "Wilton"
         ],
         "y": [
          -73.43124
         ],
         "z": [
          41.192802
         ]
        },
        {
         "hovertemplate": "Station_Name=HAJJAR<br>City=%{x}<br>longitude=%{y}<br>latitude=%{z}<extra></extra>",
         "legendgroup": "HAJJAR",
         "marker": {
          "color": "#FF97FF",
          "symbol": "circle"
         },
         "mode": "markers",
         "name": "HAJJAR",
         "scene": "scene",
         "showlegend": true,
         "type": "scatter3d",
         "x": [
          "Middletown"
         ],
         "y": [
          -72.65018090000001
         ],
         "z": [
          41.5590961
         ]
        },
        {
         "hovertemplate": "Station_Name=Stony Creek Brewery - Tesla Destination<br>City=%{x}<br>longitude=%{y}<br>latitude=%{z}<extra></extra>",
         "legendgroup": "Stony Creek Brewery - Tesla Destination",
         "marker": {
          "color": "#FECB52",
          "symbol": "circle"
         },
         "mode": "markers",
         "name": "Stony Creek Brewery - Tesla Destination",
         "scene": "scene",
         "showlegend": true,
         "type": "scatter3d",
         "x": [
          "Branford"
         ],
         "y": [
          -72.812491
         ],
         "z": [
          41.274658
         ]
        },
        {
         "hovertemplate": "Station_Name=Connecticut Post Mall - Dave & Buster's<br>City=%{x}<br>longitude=%{y}<br>latitude=%{z}<extra></extra>",
         "legendgroup": "Connecticut Post Mall - Dave & Buster's",
         "marker": {
          "color": "#636efa",
          "symbol": "circle"
         },
         "mode": "markers",
         "name": "Connecticut Post Mall - Dave & Buster's",
         "scene": "scene",
         "showlegend": true,
         "type": "scatter3d",
         "x": [
          "Milford"
         ],
         "y": [
          -73.033472
         ],
         "z": [
          41.23636
         ]
        },
        {
         "hovertemplate": "Station_Name=City of Middletown - Mellili Plaza Public Parking<br>City=%{x}<br>longitude=%{y}<br>latitude=%{z}<extra></extra>",
         "legendgroup": "City of Middletown - Mellili Plaza Public Parking",
         "marker": {
          "color": "#EF553B",
          "symbol": "circle"
         },
         "mode": "markers",
         "name": "City of Middletown - Mellili Plaza Public Parking",
         "scene": "scene",
         "showlegend": true,
         "type": "scatter3d",
         "x": [
          "Middletown"
         ],
         "y": [
          -72.648056
         ],
         "z": [
          41.561647
         ]
        },
        {
         "hovertemplate": "Station_Name=Ford of Branford<br>City=%{x}<br>longitude=%{y}<br>latitude=%{z}<extra></extra>",
         "legendgroup": "Ford of Branford",
         "marker": {
          "color": "#00cc96",
          "symbol": "circle"
         },
         "mode": "markers",
         "name": "Ford of Branford",
         "scene": "scene",
         "showlegend": true,
         "type": "scatter3d",
         "x": [
          "Branford"
         ],
         "y": [
          -72.789844
         ],
         "z": [
          41.292505000000006
         ]
        },
        {
         "hovertemplate": "Station_Name=Morton Government Center<br>City=%{x}<br>longitude=%{y}<br>latitude=%{z}<extra></extra>",
         "legendgroup": "Morton Government Center",
         "marker": {
          "color": "#ab63fa",
          "symbol": "circle"
         },
         "mode": "markers",
         "name": "Morton Government Center",
         "scene": "scene",
         "showlegend": true,
         "type": "scatter3d",
         "x": [
          "Bridgeport"
         ],
         "y": [
          -73.191423
         ],
         "z": [
          41.177007
         ]
        },
        {
         "hovertemplate": "Station_Name=Town of Groton - Public Library<br>City=%{x}<br>longitude=%{y}<br>latitude=%{z}<extra></extra>",
         "legendgroup": "Town of Groton - Public Library",
         "marker": {
          "color": "#FFA15A",
          "symbol": "circle"
         },
         "mode": "markers",
         "name": "Town of Groton - Public Library",
         "scene": "scene",
         "showlegend": true,
         "type": "scatter3d",
         "x": [
          "Groton"
         ],
         "y": [
          -72.028928
         ],
         "z": [
          41.347552
         ]
        },
        {
         "hovertemplate": "Station_Name=Burlington Library<br>City=%{x}<br>longitude=%{y}<br>latitude=%{z}<extra></extra>",
         "legendgroup": "Burlington Library",
         "marker": {
          "color": "#19d3f3",
          "symbol": "circle"
         },
         "mode": "markers",
         "name": "Burlington Library",
         "scene": "scene",
         "showlegend": true,
         "type": "scatter3d",
         "x": [
          "Burlington"
         ],
         "y": [
          -72.967327
         ],
         "z": [
          41.771305
         ]
        },
        {
         "hovertemplate": "Station_Name=Bruce Bennett Nissan<br>City=%{x}<br>longitude=%{y}<br>latitude=%{z}<extra></extra>",
         "legendgroup": "Bruce Bennett Nissan",
         "marker": {
          "color": "#FF6692",
          "symbol": "circle"
         },
         "mode": "markers",
         "name": "Bruce Bennett Nissan",
         "scene": "scene",
         "showlegend": true,
         "type": "scatter3d",
         "x": [
          "Wilton"
         ],
         "y": [
          -73.435546
         ],
         "z": [
          41.258992
         ]
        },
        {
         "hovertemplate": "Station_Name=Park 'N Fly - Bradley International Airport<br>City=%{x}<br>longitude=%{y}<br>latitude=%{z}<extra></extra>",
         "legendgroup": "Park 'N Fly - Bradley International Airport",
         "marker": {
          "color": "#B6E880",
          "symbol": "circle"
         },
         "mode": "markers",
         "name": "Park 'N Fly - Bradley International Airport",
         "scene": "scene",
         "showlegend": true,
         "type": "scatter3d",
         "x": [
          "Suffield"
         ],
         "y": [
          -72.663078
         ],
         "z": [
          41.951328
         ]
        },
        {
         "hovertemplate": "Station_Name=Van Wilgen's Garden Center<br>City=%{x}<br>longitude=%{y}<br>latitude=%{z}<extra></extra>",
         "legendgroup": "Van Wilgen's Garden Center",
         "marker": {
          "color": "#FF97FF",
          "symbol": "circle"
         },
         "mode": "markers",
         "name": "Van Wilgen's Garden Center",
         "scene": "scene",
         "showlegend": true,
         "type": "scatter3d",
         "x": [
          "North Branford"
         ],
         "y": [
          -72.766102
         ],
         "z": [
          41.306955
         ]
        },
        {
         "hovertemplate": "Station_Name=REYNOLDS SUBARU<br>City=%{x}<br>longitude=%{y}<br>latitude=%{z}<extra></extra>",
         "legendgroup": "REYNOLDS SUBARU",
         "marker": {
          "color": "#FECB52",
          "symbol": "circle"
         },
         "mode": "markers",
         "name": "REYNOLDS SUBARU",
         "scene": "scene",
         "showlegend": true,
         "type": "scatter3d",
         "x": [
          "Lyme"
         ],
         "y": [
          -72.3518219
         ],
         "z": [
          41.3890729
         ]
        },
        {
         "hovertemplate": "Station_Name=Tingue Dam Bypass Channel - Wakeley Street Parking Lot<br>City=%{x}<br>longitude=%{y}<br>latitude=%{z}<extra></extra>",
         "legendgroup": "Tingue Dam Bypass Channel - Wakeley Street Parking Lot",
         "marker": {
          "color": "#636efa",
          "symbol": "circle"
         },
         "mode": "markers",
         "name": "Tingue Dam Bypass Channel - Wakeley Street Parking Lot",
         "scene": "scene",
         "showlegend": true,
         "type": "scatter3d",
         "x": [
          "Seymour"
         ],
         "y": [
          -73.075525
         ],
         "z": [
          41.394315000000006
         ]
        },
        {
         "hovertemplate": "Station_Name=Mohegan Sun<br>City=%{x}<br>longitude=%{y}<br>latitude=%{z}<extra></extra>",
         "legendgroup": "Mohegan Sun",
         "marker": {
          "color": "#EF553B",
          "symbol": "circle"
         },
         "mode": "markers",
         "name": "Mohegan Sun",
         "scene": "scene",
         "showlegend": true,
         "type": "scatter3d",
         "x": [
          "Uncasville"
         ],
         "y": [
          -72.091456
         ],
         "z": [
          41.491597
         ]
        },
        {
         "hovertemplate": "Station_Name=Greenlots - 92143<br>City=%{x}<br>longitude=%{y}<br>latitude=%{z}<extra></extra>",
         "legendgroup": "Greenlots - 92143",
         "marker": {
          "color": "#00cc96",
          "symbol": "circle"
         },
         "mode": "markers",
         "name": "Greenlots - 92143",
         "scene": "scene",
         "showlegend": true,
         "type": "scatter3d",
         "x": [
          "Fairfield"
         ],
         "y": [
          -73.23358
         ],
         "z": [
          41.163146
         ]
        },
        {
         "hovertemplate": "Station_Name=777 Main Street - Tesla Supercharger<br>City=%{x}<br>longitude=%{y}<br>latitude=%{z}<extra></extra>",
         "legendgroup": "777 Main Street - Tesla Supercharger",
         "marker": {
          "color": "#ab63fa",
          "symbol": "circle"
         },
         "mode": "markers",
         "name": "777 Main Street - Tesla Supercharger",
         "scene": "scene",
         "showlegend": true,
         "type": "scatter3d",
         "x": [
          "Hartford"
         ],
         "y": [
          -72.674129
         ],
         "z": [
          41.766493
         ]
        },
        {
         "hovertemplate": "Station_Name=BMW RIDGEFIELD<br>City=%{x}<br>longitude=%{y}<br>latitude=%{z}<extra></extra>",
         "legendgroup": "BMW RIDGEFIELD",
         "marker": {
          "color": "#FFA15A",
          "symbol": "circle"
         },
         "mode": "markers",
         "name": "BMW RIDGEFIELD",
         "scene": "scene",
         "showlegend": true,
         "type": "scatter3d",
         "x": [
          "Ridgefield"
         ],
         "y": [
          -73.4722156
         ],
         "z": [
          41.3305782
         ]
        },
        {
         "hovertemplate": "Station_Name=DoubleTree by Hilton - Norwalk, CT - Tesla Destination<br>City=%{x}<br>longitude=%{y}<br>latitude=%{z}<extra></extra>",
         "legendgroup": "DoubleTree by Hilton - Norwalk, CT - Tesla Destination",
         "marker": {
          "color": "#19d3f3",
          "symbol": "circle"
         },
         "mode": "markers",
         "name": "DoubleTree by Hilton - Norwalk, CT - Tesla Destination",
         "scene": "scene",
         "showlegend": true,
         "type": "scatter3d",
         "x": [
          "Norwalk"
         ],
         "y": [
          -73.453043
         ],
         "z": [
          41.092037
         ]
        },
        {
         "hovertemplate": "Station_Name=Wrap N Shine Auto Spa - Tesla Destination<br>City=%{x}<br>longitude=%{y}<br>latitude=%{z}<extra></extra>",
         "legendgroup": "Wrap N Shine Auto Spa - Tesla Destination",
         "marker": {
          "color": "#FF6692",
          "symbol": "circle"
         },
         "mode": "markers",
         "name": "Wrap N Shine Auto Spa - Tesla Destination",
         "scene": "scene",
         "showlegend": true,
         "type": "scatter3d",
         "x": [
          "Shelton"
         ],
         "y": [
          -73.097982
         ],
         "z": [
          41.310498
         ]
        },
        {
         "hovertemplate": "Station_Name=MINI OF FFD CTY<br>City=%{x}<br>longitude=%{y}<br>latitude=%{z}<extra></extra>",
         "legendgroup": "MINI OF FFD CTY",
         "marker": {
          "color": "#B6E880",
          "symbol": "circle"
         },
         "mode": "markers",
         "name": "MINI OF FFD CTY",
         "scene": "scene",
         "showlegend": true,
         "type": "scatter3d",
         "x": [
          "Darien"
         ],
         "y": [
          -73.4569573
         ],
         "z": [
          41.089032
         ]
        },
        {
         "hovertemplate": "Station_Name=Delamar West Hartford - Tesla Destination<br>City=%{x}<br>longitude=%{y}<br>latitude=%{z}<extra></extra>",
         "legendgroup": "Delamar West Hartford - Tesla Destination",
         "marker": {
          "color": "#FF97FF",
          "symbol": "circle"
         },
         "mode": "markers",
         "name": "Delamar West Hartford - Tesla Destination",
         "scene": "scene",
         "showlegend": true,
         "type": "scatter3d",
         "x": [
          "West Hartford"
         ],
         "y": [
          -72.737672
         ],
         "z": [
          41.760566
         ]
        },
        {
         "hovertemplate": "Station_Name=Mill Plain Diner - Tesla Destination<br>City=%{x}<br>longitude=%{y}<br>latitude=%{z}<extra></extra>",
         "legendgroup": "Mill Plain Diner - Tesla Destination",
         "marker": {
          "color": "#FECB52",
          "symbol": "circle"
         },
         "mode": "markers",
         "name": "Mill Plain Diner - Tesla Destination",
         "scene": "scene",
         "showlegend": true,
         "type": "scatter3d",
         "x": [
          "Danbury"
         ],
         "y": [
          -73.494706
         ],
         "z": [
          41.38756
         ]
        },
        {
         "hovertemplate": "Station_Name=Sherman Green<br>City=%{x}<br>longitude=%{y}<br>latitude=%{z}<extra></extra>",
         "legendgroup": "Sherman Green",
         "marker": {
          "color": "#636efa",
          "symbol": "circle"
         },
         "mode": "markers",
         "name": "Sherman Green",
         "scene": "scene",
         "showlegend": true,
         "type": "scatter3d",
         "x": [
          "Fairfield"
         ],
         "y": [
          -73.256774
         ],
         "z": [
          41.140584
         ]
        },
        {
         "hovertemplate": "Station_Name=Stamford Government Center Garage<br>City=%{x}<br>longitude=%{y}<br>latitude=%{z}<extra></extra>",
         "legendgroup": "Stamford Government Center Garage",
         "marker": {
          "color": "#EF553B",
          "symbol": "circle"
         },
         "mode": "markers",
         "name": "Stamford Government Center Garage",
         "scene": "scene",
         "showlegend": true,
         "type": "scatter3d",
         "x": [
          "Stamford"
         ],
         "y": [
          -73.542499
         ],
         "z": [
          41.051637
         ]
        },
        {
         "hovertemplate": "Station_Name=Z Airport Parking<br>City=%{x}<br>longitude=%{y}<br>latitude=%{z}<extra></extra>",
         "legendgroup": "Z Airport Parking",
         "marker": {
          "color": "#00cc96",
          "symbol": "circle"
         },
         "mode": "markers",
         "name": "Z Airport Parking",
         "scene": "scene",
         "showlegend": true,
         "type": "scatter3d",
         "x": [
          "East Granby"
         ],
         "y": [
          -72.709138
         ],
         "z": [
          41.928233
         ]
        },
        {
         "hovertemplate": "Station_Name=Hyatt Regency Greenwich - Tesla Destination<br>City=%{x}<br>longitude=%{y}<br>latitude=%{z}<extra></extra>",
         "legendgroup": "Hyatt Regency Greenwich - Tesla Destination",
         "marker": {
          "color": "#ab63fa",
          "symbol": "circle"
         },
         "mode": "markers",
         "name": "Hyatt Regency Greenwich - Tesla Destination",
         "scene": "scene",
         "showlegend": true,
         "type": "scatter3d",
         "x": [
          "Greenwich"
         ],
         "y": [
          -73.566753
         ],
         "z": [
          41.046329
         ]
        },
        {
         "hovertemplate": "Station_Name=Surface Parking Lot<br>City=%{x}<br>longitude=%{y}<br>latitude=%{z}<extra></extra>",
         "legendgroup": "Surface Parking Lot",
         "marker": {
          "color": "#FFA15A",
          "symbol": "circle"
         },
         "mode": "markers",
         "name": "Surface Parking Lot",
         "scene": "scene",
         "showlegend": true,
         "type": "scatter3d",
         "x": [
          "New Britain"
         ],
         "y": [
          -72.781161
         ],
         "z": [
          41.666233
         ]
        },
        {
         "hovertemplate": "Station_Name=Deep River Library<br>City=%{x}<br>longitude=%{y}<br>latitude=%{z}<extra></extra>",
         "legendgroup": "Deep River Library",
         "marker": {
          "color": "#19d3f3",
          "symbol": "circle"
         },
         "mode": "markers",
         "name": "Deep River Library",
         "scene": "scene",
         "showlegend": true,
         "type": "scatter3d",
         "x": [
          "Deep River"
         ],
         "y": [
          -72.43670100000001
         ],
         "z": [
          41.386805
         ]
        },
        {
         "hovertemplate": "Station_Name=State House Square<br>City=%{x}<br>longitude=%{y}<br>latitude=%{z}<extra></extra>",
         "legendgroup": "State House Square",
         "marker": {
          "color": "#FF6692",
          "symbol": "circle"
         },
         "mode": "markers",
         "name": "State House Square",
         "scene": "scene",
         "showlegend": true,
         "type": "scatter3d",
         "x": [
          "Hartford"
         ],
         "y": [
          -72.671417
         ],
         "z": [
          41.766822
         ]
        },
        {
         "hovertemplate": "Station_Name=City of Milford - Train Station Parking<br>City=%{x}<br>longitude=%{y}<br>latitude=%{z}<extra></extra>",
         "legendgroup": "City of Milford - Train Station Parking",
         "marker": {
          "color": "#B6E880",
          "symbol": "circle"
         },
         "mode": "markers",
         "name": "City of Milford - Train Station Parking",
         "scene": "scene",
         "showlegend": true,
         "type": "scatter3d",
         "x": [
          "Milford"
         ],
         "y": [
          -73.060012
         ],
         "z": [
          41.222682
         ]
        },
        {
         "hovertemplate": "Station_Name=Hammonasset Beach State Park - Meig's Point Nature Center<br>City=%{x}<br>longitude=%{y}<br>latitude=%{z}<extra></extra>",
         "legendgroup": "Hammonasset Beach State Park - Meig's Point Nature Center",
         "marker": {
          "color": "#FF97FF",
          "symbol": "circle"
         },
         "mode": "markers",
         "name": "Hammonasset Beach State Park - Meig's Point Nature Center",
         "scene": "scene",
         "showlegend": true,
         "type": "scatter3d",
         "x": [
          "Madison"
         ],
         "y": [
          -72.546017
         ],
         "z": [
          41.251952
         ]
        },
        {
         "hovertemplate": "Station_Name=Grossman Nissan<br>City=%{x}<br>longitude=%{y}<br>latitude=%{z}<extra></extra>",
         "legendgroup": "Grossman Nissan",
         "marker": {
          "color": "#FECB52",
          "symbol": "circle"
         },
         "mode": "markers",
         "name": "Grossman Nissan",
         "scene": "scene",
         "showlegend": true,
         "type": "scatter3d",
         "x": [
          "Old Saybrook"
         ],
         "y": [
          -72.383105
         ],
         "z": [
          41.309276
         ]
        },
        {
         "hovertemplate": "Station_Name=Saybrook Point Inn, Spa & Marina - Tesla Destination<br>City=%{x}<br>longitude=%{y}<br>latitude=%{z}<extra></extra>",
         "legendgroup": "Saybrook Point Inn, Spa & Marina - Tesla Destination",
         "marker": {
          "color": "#636efa",
          "symbol": "circle"
         },
         "mode": "markers",
         "name": "Saybrook Point Inn, Spa & Marina - Tesla Destination",
         "scene": "scene",
         "showlegend": true,
         "type": "scatter3d",
         "x": [
          "Old Saybrook"
         ],
         "y": [
          -72.351072
         ],
         "z": [
          41.28331
         ]
        },
        {
         "hovertemplate": "Station_Name=Fairfield Train Station Overflow Lot<br>City=%{x}<br>longitude=%{y}<br>latitude=%{z}<extra></extra>",
         "legendgroup": "Fairfield Train Station Overflow Lot",
         "marker": {
          "color": "#EF553B",
          "symbol": "circle"
         },
         "mode": "markers",
         "name": "Fairfield Train Station Overflow Lot",
         "scene": "scene",
         "showlegend": true,
         "type": "scatter3d",
         "x": [
          "Fairfield"
         ],
         "y": [
          -73.264399
         ],
         "z": [
          41.142923
         ]
        },
        {
         "hovertemplate": "Station_Name=Metro Center 1<br>City=%{x}<br>longitude=%{y}<br>latitude=%{z}<extra></extra>",
         "legendgroup": "Metro Center 1",
         "marker": {
          "color": "#00cc96",
          "symbol": "circle"
         },
         "mode": "markers",
         "name": "Metro Center 1",
         "scene": "scene",
         "showlegend": true,
         "type": "scatter3d",
         "x": [
          "Stamford"
         ],
         "y": [
          -73.542177
         ],
         "z": [
          41.046112
         ]
        },
        {
         "hovertemplate": "Station_Name=Dinosaur State Park and Arboretum<br>City=%{x}<br>longitude=%{y}<br>latitude=%{z}<extra></extra>",
         "legendgroup": "Dinosaur State Park and Arboretum",
         "marker": {
          "color": "#ab63fa",
          "symbol": "circle"
         },
         "mode": "markers",
         "name": "Dinosaur State Park and Arboretum",
         "scene": "scene",
         "showlegend": true,
         "type": "scatter3d",
         "x": [
          "Rockyhill"
         ],
         "y": [
          -72.658514
         ],
         "z": [
          41.651179
         ]
        },
        {
         "hovertemplate": "Station_Name=Staples High School<br>City=%{x}<br>longitude=%{y}<br>latitude=%{z}<extra></extra>",
         "legendgroup": "Staples High School",
         "marker": {
          "color": "#FFA15A",
          "symbol": "circle"
         },
         "mode": "markers",
         "name": "Staples High School",
         "scene": "scene",
         "showlegend": true,
         "type": "scatter3d",
         "x": [
          "Westport"
         ],
         "y": [
          -73.3304754
         ],
         "z": [
          41.1526176
         ]
        },
        {
         "hovertemplate": "Station_Name=Windham Town Hall<br>City=%{x}<br>longitude=%{y}<br>latitude=%{z}<extra></extra>",
         "legendgroup": "Windham Town Hall",
         "marker": {
          "color": "#19d3f3",
          "symbol": "circle"
         },
         "mode": "markers",
         "name": "Windham Town Hall",
         "scene": "scene",
         "showlegend": true,
         "type": "scatter3d",
         "x": [
          "Windham"
         ],
         "y": [
          -72.217506
         ],
         "z": [
          41.71292
         ]
        },
        {
         "hovertemplate": "Station_Name=West Hartford - Town Hall<br>City=%{x}<br>longitude=%{y}<br>latitude=%{z}<extra></extra>",
         "legendgroup": "West Hartford - Town Hall",
         "marker": {
          "color": "#FF6692",
          "symbol": "circle"
         },
         "mode": "markers",
         "name": "West Hartford - Town Hall",
         "scene": "scene",
         "showlegend": true,
         "type": "scatter3d",
         "x": [
          "West Hartford"
         ],
         "y": [
          -72.741204
         ],
         "z": [
          41.758754
         ]
        },
        {
         "hovertemplate": "Station_Name=City of New Haven - Temple Street Garage<br>City=%{x}<br>longitude=%{y}<br>latitude=%{z}<extra></extra>",
         "legendgroup": "City of New Haven - Temple Street Garage",
         "marker": {
          "color": "#B6E880",
          "symbol": "circle"
         },
         "mode": "markers",
         "name": "City of New Haven - Temple Street Garage",
         "scene": "scene",
         "showlegend": true,
         "type": "scatter3d",
         "x": [
          "New Haven"
         ],
         "y": [
          -72.928369
         ],
         "z": [
          41.304245
         ]
        },
        {
         "hovertemplate": "Station_Name=Minor Memorial Library<br>City=%{x}<br>longitude=%{y}<br>latitude=%{z}<extra></extra>",
         "legendgroup": "Minor Memorial Library",
         "marker": {
          "color": "#FF97FF",
          "symbol": "circle"
         },
         "mode": "markers",
         "name": "Minor Memorial Library",
         "scene": "scene",
         "showlegend": true,
         "type": "scatter3d",
         "x": [
          "Roxbury"
         ],
         "y": [
          -73.30764000000002
         ],
         "z": [
          41.55358
         ]
        },
        {
         "hovertemplate": "Station_Name=Szczesny Parking Garage<br>City=%{x}<br>longitude=%{y}<br>latitude=%{z}<extra></extra>",
         "legendgroup": "Szczesny Parking Garage",
         "marker": {
          "color": "#FECB52",
          "symbol": "circle"
         },
         "mode": "markers",
         "name": "Szczesny Parking Garage",
         "scene": "scene",
         "showlegend": true,
         "type": "scatter3d",
         "x": [
          "New Britain"
         ],
         "y": [
          -72.78037
         ],
         "z": [
          41.666879
         ]
        },
        {
         "hovertemplate": "Station_Name=GE WS - Price Chopper #243 Storrs CT 1<br>City=%{x}<br>longitude=%{y}<br>latitude=%{z}<extra></extra>",
         "legendgroup": "GE WS - Price Chopper #243 Storrs CT 1",
         "marker": {
          "color": "#636efa",
          "symbol": "circle"
         },
         "mode": "markers",
         "name": "GE WS - Price Chopper #243 Storrs CT 1",
         "scene": "scene",
         "showlegend": true,
         "type": "scatter3d",
         "x": [
          "Mansfield"
         ],
         "y": [
          -72.241254
         ],
         "z": [
          41.80199700000001
         ]
        },
        {
         "hovertemplate": "Station_Name=AAMCO EV<br>City=%{x}<br>longitude=%{y}<br>latitude=%{z}<extra></extra>",
         "legendgroup": "AAMCO EV",
         "marker": {
          "color": "#EF553B",
          "symbol": "circle"
         },
         "mode": "markers",
         "name": "AAMCO EV",
         "scene": "scene",
         "showlegend": true,
         "type": "scatter3d",
         "x": [
          "East Hartford"
         ],
         "y": [
          -72.65266880000001
         ],
         "z": [
          41.7632299
         ]
        },
        {
         "hovertemplate": "Station_Name=Winvian Farm - Tesla Destination<br>City=%{x}<br>longitude=%{y}<br>latitude=%{z}<extra></extra>",
         "legendgroup": "Winvian Farm - Tesla Destination",
         "marker": {
          "color": "#00cc96",
          "symbol": "circle"
         },
         "mode": "markers",
         "name": "Winvian Farm - Tesla Destination",
         "scene": "scene",
         "showlegend": true,
         "type": "scatter3d",
         "x": [
          "Morris"
         ],
         "y": [
          -73.201059
         ],
         "z": [
          41.697035
         ]
        },
        {
         "hovertemplate": "Station_Name=Brass Mill Center - Entrance 3<br>City=%{x}<br>longitude=%{y}<br>latitude=%{z}<extra></extra>",
         "legendgroup": "Brass Mill Center - Entrance 3",
         "marker": {
          "color": "#ab63fa",
          "symbol": "circle"
         },
         "mode": "markers",
         "name": "Brass Mill Center - Entrance 3",
         "scene": "scene",
         "showlegend": true,
         "type": "scatter3d",
         "x": [
          "Waterbury"
         ],
         "y": [
          -73.023973
         ],
         "z": [
          41.549008
         ]
        },
        {
         "hovertemplate": "Station_Name=Waterbury-Oxford Airport<br>City=%{x}<br>longitude=%{y}<br>latitude=%{z}<extra></extra>",
         "legendgroup": "Waterbury-Oxford Airport",
         "marker": {
          "color": "#FFA15A",
          "symbol": "circle"
         },
         "mode": "markers",
         "name": "Waterbury-Oxford Airport",
         "scene": "scene",
         "showlegend": true,
         "type": "scatter3d",
         "x": [
          "Oxford"
         ],
         "y": [
          -73.146142
         ],
         "z": [
          41.477151000000006
         ]
        },
        {
         "hovertemplate": "Station_Name=Shagbark Lumber and Farm Supply<br>City=%{x}<br>longitude=%{y}<br>latitude=%{z}<extra></extra>",
         "legendgroup": "Shagbark Lumber and Farm Supply",
         "marker": {
          "color": "#19d3f3",
          "symbol": "circle"
         },
         "mode": "markers",
         "name": "Shagbark Lumber and Farm Supply",
         "scene": "scene",
         "showlegend": true,
         "type": "scatter3d",
         "x": [
          "East Haddam"
         ],
         "y": [
          -72.442533
         ],
         "z": [
          41.463278
         ]
        },
        {
         "hovertemplate": "Station_Name=Metro Green Residential Parking - Tesla Destination<br>City=%{x}<br>longitude=%{y}<br>latitude=%{z}<extra></extra>",
         "legendgroup": "Metro Green Residential Parking - Tesla Destination",
         "marker": {
          "color": "#FF6692",
          "symbol": "circle"
         },
         "mode": "markers",
         "name": "Metro Green Residential Parking - Tesla Destination",
         "scene": "scene",
         "showlegend": true,
         "type": "scatter3d",
         "x": [
          "Stamford"
         ],
         "y": [
          -73.540098
         ],
         "z": [
          41.04514
         ]
        },
        {
         "hovertemplate": "Station_Name=Hartford Road Henny Penny<br>City=%{x}<br>longitude=%{y}<br>latitude=%{z}<extra></extra>",
         "legendgroup": "Hartford Road Henny Penny",
         "marker": {
          "color": "#B6E880",
          "symbol": "circle"
         },
         "mode": "markers",
         "name": "Hartford Road Henny Penny",
         "scene": "scene",
         "showlegend": true,
         "type": "scatter3d",
         "x": [
          "Waterford"
         ],
         "y": [
          -72.1591426
         ],
         "z": [
          41.3874871
         ]
        },
        {
         "hovertemplate": "Station_Name=Convention Center - Hartford<br>City=%{x}<br>longitude=%{y}<br>latitude=%{z}<extra></extra>",
         "legendgroup": "Convention Center - Hartford",
         "marker": {
          "color": "#FF97FF",
          "symbol": "circle"
         },
         "mode": "markers",
         "name": "Convention Center - Hartford",
         "scene": "scene",
         "showlegend": true,
         "type": "scatter3d",
         "x": [
          "Hartford"
         ],
         "y": [
          -72.668973
         ],
         "z": [
          41.762852
         ]
        },
        {
         "hovertemplate": "Station_Name=County Line Buick-Nissan<br>City=%{x}<br>longitude=%{y}<br>latitude=%{z}<extra></extra>",
         "legendgroup": "County Line Buick-Nissan",
         "marker": {
          "color": "#FECB52",
          "symbol": "circle"
         },
         "mode": "markers",
         "name": "County Line Buick-Nissan",
         "scene": "scene",
         "showlegend": true,
         "type": "scatter3d",
         "x": [
          "Middlebury"
         ],
         "y": [
          -73.098764
         ],
         "z": [
          41.568122
         ]
        },
        {
         "hovertemplate": "Station_Name=MYSTIC AQUARIUM<br>City=%{x}<br>longitude=%{y}<br>latitude=%{z}<extra></extra>",
         "legendgroup": "MYSTIC AQUARIUM",
         "marker": {
          "color": "#636efa",
          "symbol": "circle"
         },
         "mode": "markers",
         "name": "MYSTIC AQUARIUM",
         "scene": "scene",
         "showlegend": true,
         "type": "scatter3d",
         "x": [
          "Mystic"
         ],
         "y": [
          -71.954088
         ],
         "z": [
          41.373074
         ]
        },
        {
         "hovertemplate": "Station_Name=University of Connecticut - Waterbury<br>City=%{x}<br>longitude=%{y}<br>latitude=%{z}<extra></extra>",
         "legendgroup": "University of Connecticut - Waterbury",
         "marker": {
          "color": "#EF553B",
          "symbol": "circle"
         },
         "mode": "markers",
         "name": "University of Connecticut - Waterbury",
         "scene": "scene",
         "showlegend": true,
         "type": "scatter3d",
         "x": [
          "Waterbury"
         ],
         "y": [
          -73.038135
         ],
         "z": [
          41.555816
         ]
        },
        {
         "hovertemplate": "Station_Name=Danbury Parking Authority<br>City=%{x}<br>longitude=%{y}<br>latitude=%{z}<extra></extra>",
         "legendgroup": "Danbury Parking Authority",
         "marker": {
          "color": "#00cc96",
          "symbol": "circle"
         },
         "mode": "markers",
         "name": "Danbury Parking Authority",
         "scene": "scene",
         "showlegend": true,
         "type": "scatter3d",
         "x": [
          "Danbury"
         ],
         "y": [
          -73.451059
         ],
         "z": [
          41.396042
         ]
        },
        {
         "hovertemplate": "Station_Name=INFINITYGREEN<br>City=%{x}<br>longitude=%{y}<br>latitude=%{z}<extra></extra>",
         "legendgroup": "INFINITYGREEN",
         "marker": {
          "color": "#ab63fa",
          "symbol": "circle"
         },
         "mode": "markers",
         "name": "INFINITYGREEN",
         "scene": "scene",
         "showlegend": true,
         "type": "scatter3d",
         "x": [
          "Stamford"
         ],
         "y": [
          -73.5405387
         ],
         "z": [
          41.040838
         ]
        },
        {
         "hovertemplate": "Station_Name=City of Hartford - City Hall<br>City=%{x}<br>longitude=%{y}<br>latitude=%{z}<extra></extra>",
         "legendgroup": "City of Hartford - City Hall",
         "marker": {
          "color": "#FFA15A",
          "symbol": "circle"
         },
         "mode": "markers",
         "name": "City of Hartford - City Hall",
         "scene": "scene",
         "showlegend": true,
         "type": "scatter3d",
         "x": [
          "Hartford"
         ],
         "y": [
          -72.672842
         ],
         "z": [
          41.762206
         ]
        },
        {
         "hovertemplate": "Station_Name=White Hart Inn - Tesla Destination<br>City=%{x}<br>longitude=%{y}<br>latitude=%{z}<extra></extra>",
         "legendgroup": "White Hart Inn - Tesla Destination",
         "marker": {
          "color": "#19d3f3",
          "symbol": "circle"
         },
         "mode": "markers",
         "name": "White Hart Inn - Tesla Destination",
         "scene": "scene",
         "showlegend": true,
         "type": "scatter3d",
         "x": [
          "Salisbury"
         ],
         "y": [
          -73.42219800000001
         ],
         "z": [
          41.98483
         ]
        },
        {
         "hovertemplate": "Station_Name=Premier Subaru<br>City=%{x}<br>longitude=%{y}<br>latitude=%{z}<extra></extra>",
         "legendgroup": "Premier Subaru",
         "marker": {
          "color": "#FF6692",
          "symbol": "circle"
         },
         "mode": "markers",
         "name": "Premier Subaru",
         "scene": "scene",
         "showlegend": true,
         "type": "scatter3d",
         "x": [
          "Branford"
         ],
         "y": [
          -72.813257
         ],
         "z": [
          41.287914
         ]
        },
        {
         "hovertemplate": "Station_Name=Central Connecticut State University - Student Center Parking Garage<br>City=%{x}<br>longitude=%{y}<br>latitude=%{z}<extra></extra>",
         "legendgroup": "Central Connecticut State University - Student Center Parking Garage",
         "marker": {
          "color": "#B6E880",
          "symbol": "circle"
         },
         "mode": "markers",
         "name": "Central Connecticut State University - Student Center Parking Garage",
         "scene": "scene",
         "showlegend": true,
         "type": "scatter3d",
         "x": [
          "New Britain"
         ],
         "y": [
          -72.7663278757019
         ],
         "z": [
          41.6938875513217
         ]
        },
        {
         "hovertemplate": "Station_Name=University of Connecticut - South Parking Garage<br>City=%{x}<br>longitude=%{y}<br>latitude=%{z}<extra></extra>",
         "legendgroup": "University of Connecticut - South Parking Garage",
         "marker": {
          "color": "#FF97FF",
          "symbol": "circle"
         },
         "mode": "markers",
         "name": "University of Connecticut - South Parking Garage",
         "scene": "scene",
         "showlegend": true,
         "type": "scatter3d",
         "x": [
          "Storrs"
         ],
         "y": [
          -72.253601
         ],
         "z": [
          41.805152
         ]
        },
        {
         "hovertemplate": "Station_Name=Carter Chevrolet<br>City=%{x}<br>longitude=%{y}<br>latitude=%{z}<extra></extra>",
         "legendgroup": "Carter Chevrolet",
         "marker": {
          "color": "#FECB52",
          "symbol": "circle"
         },
         "mode": "markers",
         "name": "Carter Chevrolet",
         "scene": "scene",
         "showlegend": true,
         "type": "scatter3d",
         "x": [
          "Vernon"
         ],
         "y": [
          -72.5009065449829
         ],
         "z": [
          41.8218766595564
         ]
        },
        {
         "hovertemplate": "Station_Name=Bloomfield Human Services Center<br>City=%{x}<br>longitude=%{y}<br>latitude=%{z}<extra></extra>",
         "legendgroup": "Bloomfield Human Services Center",
         "marker": {
          "color": "#636efa",
          "symbol": "circle"
         },
         "mode": "markers",
         "name": "Bloomfield Human Services Center",
         "scene": "scene",
         "showlegend": true,
         "type": "scatter3d",
         "x": [
          "Bloomfield"
         ],
         "y": [
          -72.712466
         ],
         "z": [
          41.8234945
         ]
        },
        {
         "hovertemplate": "Station_Name=Grand Central Fashion Plaza Shopping Center - Tesla Supercharger<br>City=%{x}<br>longitude=%{y}<br>latitude=%{z}<extra></extra>",
         "legendgroup": "Grand Central Fashion Plaza Shopping Center - Tesla Supercharger",
         "marker": {
          "color": "#EF553B",
          "symbol": "circle"
         },
         "mode": "markers",
         "name": "Grand Central Fashion Plaza Shopping Center - Tesla Supercharger",
         "scene": "scene",
         "showlegend": true,
         "type": "scatter3d",
         "x": [
          "North Stamford"
         ],
         "y": [
          -73.546513
         ],
         "z": [
          41.107722
         ]
        },
        {
         "hovertemplate": "Station_Name=University of Connecticut - North Parking Garage<br>City=%{x}<br>longitude=%{y}<br>latitude=%{z}<extra></extra>",
         "legendgroup": "University of Connecticut - North Parking Garage",
         "marker": {
          "color": "#00cc96",
          "symbol": "circle"
         },
         "mode": "markers",
         "name": "University of Connecticut - North Parking Garage",
         "scene": "scene",
         "showlegend": true,
         "type": "scatter3d",
         "x": [
          "Storrs"
         ],
         "y": [
          -72.258277
         ],
         "z": [
          41.809176
         ]
        },
        {
         "hovertemplate": "Station_Name=Fairfield SB - Tesla Supercharger<br>City=%{x}<br>longitude=%{y}<br>latitude=%{z}<extra></extra>",
         "legendgroup": "Fairfield SB - Tesla Supercharger",
         "marker": {
          "color": "#ab63fa",
          "symbol": "circle"
         },
         "mode": "markers",
         "name": "Fairfield SB - Tesla Supercharger",
         "scene": "scene",
         "showlegend": true,
         "type": "scatter3d",
         "x": [
          "Fairfield"
         ],
         "y": [
          -73.255573
         ],
         "z": [
          41.14807
         ]
        },
        {
         "hovertemplate": "Station_Name=Fairfield Woods Library<br>City=%{x}<br>longitude=%{y}<br>latitude=%{z}<extra></extra>",
         "legendgroup": "Fairfield Woods Library",
         "marker": {
          "color": "#FFA15A",
          "symbol": "circle"
         },
         "mode": "markers",
         "name": "Fairfield Woods Library",
         "scene": "scene",
         "showlegend": true,
         "type": "scatter3d",
         "x": [
          "Fairfield"
         ],
         "y": [
          -73.250024
         ],
         "z": [
          41.187855
         ]
        },
        {
         "hovertemplate": "Station_Name=Yankee Doodle<br>City=%{x}<br>longitude=%{y}<br>latitude=%{z}<extra></extra>",
         "legendgroup": "Yankee Doodle",
         "marker": {
          "color": "#19d3f3",
          "symbol": "circle"
         },
         "mode": "markers",
         "name": "Yankee Doodle",
         "scene": "scene",
         "showlegend": true,
         "type": "scatter3d",
         "x": [
          "Norwalk"
         ],
         "y": [
          -73.414932
         ],
         "z": [
          41.11803
         ]
        },
        {
         "hovertemplate": "Station_Name=Lee Partyka Chevrolet Mazda Isuzu<br>City=%{x}<br>longitude=%{y}<br>latitude=%{z}<extra></extra>",
         "legendgroup": "Lee Partyka Chevrolet Mazda Isuzu",
         "marker": {
          "color": "#FF6692",
          "symbol": "circle"
         },
         "mode": "markers",
         "name": "Lee Partyka Chevrolet Mazda Isuzu",
         "scene": "scene",
         "showlegend": true,
         "type": "scatter3d",
         "x": [
          "Hamden"
         ],
         "y": [
          -72.9100121
         ],
         "z": [
          41.3729709
         ]
        },
        {
         "hovertemplate": "Station_Name=777 MAIN ST<br>City=%{x}<br>longitude=%{y}<br>latitude=%{z}<extra></extra>",
         "legendgroup": "777 MAIN ST",
         "marker": {
          "color": "#B6E880",
          "symbol": "circle"
         },
         "mode": "markers",
         "name": "777 MAIN ST",
         "scene": "scene",
         "showlegend": true,
         "type": "scatter3d",
         "x": [
          "Hartford"
         ],
         "y": [
          -72.674468
         ],
         "z": [
          41.766676
         ]
        },
        {
         "hovertemplate": "Station_Name=Norwich Public Utilities<br>City=%{x}<br>longitude=%{y}<br>latitude=%{z}<extra></extra>",
         "legendgroup": "Norwich Public Utilities",
         "marker": {
          "color": "#FF97FF",
          "symbol": "circle"
         },
         "mode": "markers",
         "name": "Norwich Public Utilities",
         "scene": "scene",
         "showlegend": true,
         "type": "scatter3d",
         "x": [
          "Norwich"
         ],
         "y": [
          -72.063516
         ],
         "z": [
          41.52757900000001
         ]
        },
        {
         "hovertemplate": "Station_Name=Fairfield Plaza<br>City=%{x}<br>longitude=%{y}<br>latitude=%{z}<extra></extra>",
         "legendgroup": "Fairfield Plaza",
         "marker": {
          "color": "#FECB52",
          "symbol": "circle"
         },
         "mode": "markers",
         "name": "Fairfield Plaza",
         "scene": "scene",
         "showlegend": true,
         "type": "scatter3d",
         "x": [
          "New Milford"
         ],
         "y": [
          -73.41763
         ],
         "z": [
          41.55735
         ]
        },
        {
         "hovertemplate": "Station_Name=Eastern Connecticut State University - Shakespeare Parking Garage<br>City=%{x}<br>longitude=%{y}<br>latitude=%{z}<extra></extra>",
         "legendgroup": "Eastern Connecticut State University - Shakespeare Parking Garage",
         "marker": {
          "color": "#636efa",
          "symbol": "circle"
         },
         "mode": "markers",
         "name": "Eastern Connecticut State University - Shakespeare Parking Garage",
         "scene": "scene",
         "showlegend": true,
         "type": "scatter3d",
         "x": [
          "Willimantic"
         ],
         "y": [
          -72.208134
         ],
         "z": [
          41.7385909
         ]
        }
       ],
       "layout": {
        "legend": {
         "title": {
          "text": "Station_Name"
         },
         "tracegroupgap": 0
        },
        "margin": {
         "t": 60
        },
        "scene": {
         "domain": {
          "x": [
           0,
           1
          ],
          "y": [
           0,
           1
          ]
         },
         "xaxis": {
          "title": {
           "text": "City"
          }
         },
         "yaxis": {
          "title": {
           "text": "longitude"
          }
         },
         "zaxis": {
          "title": {
           "text": "latitude"
          }
         }
        },
        "template": {
         "data": {
          "bar": [
           {
            "error_x": {
             "color": "#2a3f5f"
            },
            "error_y": {
             "color": "#2a3f5f"
            },
            "marker": {
             "line": {
              "color": "#E5ECF6",
              "width": 0.5
             },
             "pattern": {
              "fillmode": "overlay",
              "size": 10,
              "solidity": 0.2
             }
            },
            "type": "bar"
           }
          ],
          "barpolar": [
           {
            "marker": {
             "line": {
              "color": "#E5ECF6",
              "width": 0.5
             },
             "pattern": {
              "fillmode": "overlay",
              "size": 10,
              "solidity": 0.2
             }
            },
            "type": "barpolar"
           }
          ],
          "carpet": [
           {
            "aaxis": {
             "endlinecolor": "#2a3f5f",
             "gridcolor": "white",
             "linecolor": "white",
             "minorgridcolor": "white",
             "startlinecolor": "#2a3f5f"
            },
            "baxis": {
             "endlinecolor": "#2a3f5f",
             "gridcolor": "white",
             "linecolor": "white",
             "minorgridcolor": "white",
             "startlinecolor": "#2a3f5f"
            },
            "type": "carpet"
           }
          ],
          "choropleth": [
           {
            "colorbar": {
             "outlinewidth": 0,
             "ticks": ""
            },
            "type": "choropleth"
           }
          ],
          "contour": [
           {
            "colorbar": {
             "outlinewidth": 0,
             "ticks": ""
            },
            "colorscale": [
             [
              0,
              "#0d0887"
             ],
             [
              0.1111111111111111,
              "#46039f"
             ],
             [
              0.2222222222222222,
              "#7201a8"
             ],
             [
              0.3333333333333333,
              "#9c179e"
             ],
             [
              0.4444444444444444,
              "#bd3786"
             ],
             [
              0.5555555555555556,
              "#d8576b"
             ],
             [
              0.6666666666666666,
              "#ed7953"
             ],
             [
              0.7777777777777778,
              "#fb9f3a"
             ],
             [
              0.8888888888888888,
              "#fdca26"
             ],
             [
              1,
              "#f0f921"
             ]
            ],
            "type": "contour"
           }
          ],
          "contourcarpet": [
           {
            "colorbar": {
             "outlinewidth": 0,
             "ticks": ""
            },
            "type": "contourcarpet"
           }
          ],
          "heatmap": [
           {
            "colorbar": {
             "outlinewidth": 0,
             "ticks": ""
            },
            "colorscale": [
             [
              0,
              "#0d0887"
             ],
             [
              0.1111111111111111,
              "#46039f"
             ],
             [
              0.2222222222222222,
              "#7201a8"
             ],
             [
              0.3333333333333333,
              "#9c179e"
             ],
             [
              0.4444444444444444,
              "#bd3786"
             ],
             [
              0.5555555555555556,
              "#d8576b"
             ],
             [
              0.6666666666666666,
              "#ed7953"
             ],
             [
              0.7777777777777778,
              "#fb9f3a"
             ],
             [
              0.8888888888888888,
              "#fdca26"
             ],
             [
              1,
              "#f0f921"
             ]
            ],
            "type": "heatmap"
           }
          ],
          "heatmapgl": [
           {
            "colorbar": {
             "outlinewidth": 0,
             "ticks": ""
            },
            "colorscale": [
             [
              0,
              "#0d0887"
             ],
             [
              0.1111111111111111,
              "#46039f"
             ],
             [
              0.2222222222222222,
              "#7201a8"
             ],
             [
              0.3333333333333333,
              "#9c179e"
             ],
             [
              0.4444444444444444,
              "#bd3786"
             ],
             [
              0.5555555555555556,
              "#d8576b"
             ],
             [
              0.6666666666666666,
              "#ed7953"
             ],
             [
              0.7777777777777778,
              "#fb9f3a"
             ],
             [
              0.8888888888888888,
              "#fdca26"
             ],
             [
              1,
              "#f0f921"
             ]
            ],
            "type": "heatmapgl"
           }
          ],
          "histogram": [
           {
            "marker": {
             "pattern": {
              "fillmode": "overlay",
              "size": 10,
              "solidity": 0.2
             }
            },
            "type": "histogram"
           }
          ],
          "histogram2d": [
           {
            "colorbar": {
             "outlinewidth": 0,
             "ticks": ""
            },
            "colorscale": [
             [
              0,
              "#0d0887"
             ],
             [
              0.1111111111111111,
              "#46039f"
             ],
             [
              0.2222222222222222,
              "#7201a8"
             ],
             [
              0.3333333333333333,
              "#9c179e"
             ],
             [
              0.4444444444444444,
              "#bd3786"
             ],
             [
              0.5555555555555556,
              "#d8576b"
             ],
             [
              0.6666666666666666,
              "#ed7953"
             ],
             [
              0.7777777777777778,
              "#fb9f3a"
             ],
             [
              0.8888888888888888,
              "#fdca26"
             ],
             [
              1,
              "#f0f921"
             ]
            ],
            "type": "histogram2d"
           }
          ],
          "histogram2dcontour": [
           {
            "colorbar": {
             "outlinewidth": 0,
             "ticks": ""
            },
            "colorscale": [
             [
              0,
              "#0d0887"
             ],
             [
              0.1111111111111111,
              "#46039f"
             ],
             [
              0.2222222222222222,
              "#7201a8"
             ],
             [
              0.3333333333333333,
              "#9c179e"
             ],
             [
              0.4444444444444444,
              "#bd3786"
             ],
             [
              0.5555555555555556,
              "#d8576b"
             ],
             [
              0.6666666666666666,
              "#ed7953"
             ],
             [
              0.7777777777777778,
              "#fb9f3a"
             ],
             [
              0.8888888888888888,
              "#fdca26"
             ],
             [
              1,
              "#f0f921"
             ]
            ],
            "type": "histogram2dcontour"
           }
          ],
          "mesh3d": [
           {
            "colorbar": {
             "outlinewidth": 0,
             "ticks": ""
            },
            "type": "mesh3d"
           }
          ],
          "parcoords": [
           {
            "line": {
             "colorbar": {
              "outlinewidth": 0,
              "ticks": ""
             }
            },
            "type": "parcoords"
           }
          ],
          "pie": [
           {
            "automargin": true,
            "type": "pie"
           }
          ],
          "scatter": [
           {
            "fillpattern": {
             "fillmode": "overlay",
             "size": 10,
             "solidity": 0.2
            },
            "type": "scatter"
           }
          ],
          "scatter3d": [
           {
            "line": {
             "colorbar": {
              "outlinewidth": 0,
              "ticks": ""
             }
            },
            "marker": {
             "colorbar": {
              "outlinewidth": 0,
              "ticks": ""
             }
            },
            "type": "scatter3d"
           }
          ],
          "scattercarpet": [
           {
            "marker": {
             "colorbar": {
              "outlinewidth": 0,
              "ticks": ""
             }
            },
            "type": "scattercarpet"
           }
          ],
          "scattergeo": [
           {
            "marker": {
             "colorbar": {
              "outlinewidth": 0,
              "ticks": ""
             }
            },
            "type": "scattergeo"
           }
          ],
          "scattergl": [
           {
            "marker": {
             "colorbar": {
              "outlinewidth": 0,
              "ticks": ""
             }
            },
            "type": "scattergl"
           }
          ],
          "scattermapbox": [
           {
            "marker": {
             "colorbar": {
              "outlinewidth": 0,
              "ticks": ""
             }
            },
            "type": "scattermapbox"
           }
          ],
          "scatterpolar": [
           {
            "marker": {
             "colorbar": {
              "outlinewidth": 0,
              "ticks": ""
             }
            },
            "type": "scatterpolar"
           }
          ],
          "scatterpolargl": [
           {
            "marker": {
             "colorbar": {
              "outlinewidth": 0,
              "ticks": ""
             }
            },
            "type": "scatterpolargl"
           }
          ],
          "scatterternary": [
           {
            "marker": {
             "colorbar": {
              "outlinewidth": 0,
              "ticks": ""
             }
            },
            "type": "scatterternary"
           }
          ],
          "surface": [
           {
            "colorbar": {
             "outlinewidth": 0,
             "ticks": ""
            },
            "colorscale": [
             [
              0,
              "#0d0887"
             ],
             [
              0.1111111111111111,
              "#46039f"
             ],
             [
              0.2222222222222222,
              "#7201a8"
             ],
             [
              0.3333333333333333,
              "#9c179e"
             ],
             [
              0.4444444444444444,
              "#bd3786"
             ],
             [
              0.5555555555555556,
              "#d8576b"
             ],
             [
              0.6666666666666666,
              "#ed7953"
             ],
             [
              0.7777777777777778,
              "#fb9f3a"
             ],
             [
              0.8888888888888888,
              "#fdca26"
             ],
             [
              1,
              "#f0f921"
             ]
            ],
            "type": "surface"
           }
          ],
          "table": [
           {
            "cells": {
             "fill": {
              "color": "#EBF0F8"
             },
             "line": {
              "color": "white"
             }
            },
            "header": {
             "fill": {
              "color": "#C8D4E3"
             },
             "line": {
              "color": "white"
             }
            },
            "type": "table"
           }
          ]
         },
         "layout": {
          "annotationdefaults": {
           "arrowcolor": "#2a3f5f",
           "arrowhead": 0,
           "arrowwidth": 1
          },
          "autotypenumbers": "strict",
          "coloraxis": {
           "colorbar": {
            "outlinewidth": 0,
            "ticks": ""
           }
          },
          "colorscale": {
           "diverging": [
            [
             0,
             "#8e0152"
            ],
            [
             0.1,
             "#c51b7d"
            ],
            [
             0.2,
             "#de77ae"
            ],
            [
             0.3,
             "#f1b6da"
            ],
            [
             0.4,
             "#fde0ef"
            ],
            [
             0.5,
             "#f7f7f7"
            ],
            [
             0.6,
             "#e6f5d0"
            ],
            [
             0.7,
             "#b8e186"
            ],
            [
             0.8,
             "#7fbc41"
            ],
            [
             0.9,
             "#4d9221"
            ],
            [
             1,
             "#276419"
            ]
           ],
           "sequential": [
            [
             0,
             "#0d0887"
            ],
            [
             0.1111111111111111,
             "#46039f"
            ],
            [
             0.2222222222222222,
             "#7201a8"
            ],
            [
             0.3333333333333333,
             "#9c179e"
            ],
            [
             0.4444444444444444,
             "#bd3786"
            ],
            [
             0.5555555555555556,
             "#d8576b"
            ],
            [
             0.6666666666666666,
             "#ed7953"
            ],
            [
             0.7777777777777778,
             "#fb9f3a"
            ],
            [
             0.8888888888888888,
             "#fdca26"
            ],
            [
             1,
             "#f0f921"
            ]
           ],
           "sequentialminus": [
            [
             0,
             "#0d0887"
            ],
            [
             0.1111111111111111,
             "#46039f"
            ],
            [
             0.2222222222222222,
             "#7201a8"
            ],
            [
             0.3333333333333333,
             "#9c179e"
            ],
            [
             0.4444444444444444,
             "#bd3786"
            ],
            [
             0.5555555555555556,
             "#d8576b"
            ],
            [
             0.6666666666666666,
             "#ed7953"
            ],
            [
             0.7777777777777778,
             "#fb9f3a"
            ],
            [
             0.8888888888888888,
             "#fdca26"
            ],
            [
             1,
             "#f0f921"
            ]
           ]
          },
          "colorway": [
           "#636efa",
           "#EF553B",
           "#00cc96",
           "#ab63fa",
           "#FFA15A",
           "#19d3f3",
           "#FF6692",
           "#B6E880",
           "#FF97FF",
           "#FECB52"
          ],
          "font": {
           "color": "#2a3f5f"
          },
          "geo": {
           "bgcolor": "white",
           "lakecolor": "white",
           "landcolor": "#E5ECF6",
           "showlakes": true,
           "showland": true,
           "subunitcolor": "white"
          },
          "hoverlabel": {
           "align": "left"
          },
          "hovermode": "closest",
          "mapbox": {
           "style": "light"
          },
          "paper_bgcolor": "white",
          "plot_bgcolor": "#E5ECF6",
          "polar": {
           "angularaxis": {
            "gridcolor": "white",
            "linecolor": "white",
            "ticks": ""
           },
           "bgcolor": "#E5ECF6",
           "radialaxis": {
            "gridcolor": "white",
            "linecolor": "white",
            "ticks": ""
           }
          },
          "scene": {
           "xaxis": {
            "backgroundcolor": "#E5ECF6",
            "gridcolor": "white",
            "gridwidth": 2,
            "linecolor": "white",
            "showbackground": true,
            "ticks": "",
            "zerolinecolor": "white"
           },
           "yaxis": {
            "backgroundcolor": "#E5ECF6",
            "gridcolor": "white",
            "gridwidth": 2,
            "linecolor": "white",
            "showbackground": true,
            "ticks": "",
            "zerolinecolor": "white"
           },
           "zaxis": {
            "backgroundcolor": "#E5ECF6",
            "gridcolor": "white",
            "gridwidth": 2,
            "linecolor": "white",
            "showbackground": true,
            "ticks": "",
            "zerolinecolor": "white"
           }
          },
          "shapedefaults": {
           "line": {
            "color": "#2a3f5f"
           }
          },
          "ternary": {
           "aaxis": {
            "gridcolor": "white",
            "linecolor": "white",
            "ticks": ""
           },
           "baxis": {
            "gridcolor": "white",
            "linecolor": "white",
            "ticks": ""
           },
           "bgcolor": "#E5ECF6",
           "caxis": {
            "gridcolor": "white",
            "linecolor": "white",
            "ticks": ""
           }
          },
          "title": {
           "x": 0.05
          },
          "xaxis": {
           "automargin": true,
           "gridcolor": "white",
           "linecolor": "white",
           "ticks": "",
           "title": {
            "standoff": 15
           },
           "zerolinecolor": "white",
           "zerolinewidth": 2
          },
          "yaxis": {
           "automargin": true,
           "gridcolor": "white",
           "linecolor": "white",
           "ticks": "",
           "title": {
            "standoff": 15
           },
           "zerolinecolor": "white",
           "zerolinewidth": 2
          }
         }
        }
       }
      }
     },
     "metadata": {},
     "output_type": "display_data"
    }
   ],
   "source": [
    "import plotly.express as px\n",
    "\n",
    "fig = px.scatter_3d(newdf, x='City', y='longitude', z='latitude', color='Station_Name')\n",
    "fig.show()\n"
   ]
  },
  {
   "cell_type": "code",
   "execution_count": null,
   "metadata": {},
   "outputs": [
    {
     "name": "stdout",
     "output_type": "stream",
     "text": [
      "mean cross validation score: -0.043114443648357745\n",
      "mse score: 2.477947065993489\n",
      "r2 score: -0.006697831593490244\n"
     ]
    }
   ],
   "source": [
    "# Data splitting, traning and model evaluation\n",
    "from sklearn.model_selection import train_test_split\n",
    "from sklearn.linear_model import LinearRegression\n",
    "from sklearn.model_selection import cross_val_score\n",
    "from sklearn.metrics import mean_squared_error, r2_score\n",
    "\n",
    "# Define features (X) and target variable (y)\n",
    "X = newdf[['longitude', 'latitude']]\n",
    "y = newdf['EV_Level2_EVSE_Num']\n",
    "\n",
    "# Split the data into training and testing sets\n",
    "X_train, X_test, y_train, y_test = train_test_split(X, y, test_size=0.2, random_state=42)\n",
    "\n",
    "# Train the model\n",
    "model = LinearRegression()\n",
    "model.fit(X_train, y_train)\n",
    "\n",
    "# Cross-validation\n",
    "scores = cross_val_score(model, X, y, cv=5)\n",
    "mean_cv_score = scores.mean()\n",
    "\n",
    "# Evaluate the model on the test set\n",
    "y_pred = model.predict(X_test)\n",
    "mse = mean_squared_error(y_test, y_pred)\n",
    "r2 = r2_score(y_test, y_pred)\n",
    "\n",
    "\n",
    "print(\"mean cross validation score:\", mean_cv_score)\n",
    "print(\"mse score:\", mse)\n",
    "print(\"r2 score:\", r2)\n"
   ]
  },
  {
   "cell_type": "code",
   "execution_count": null,
   "metadata": {},
   "outputs": [],
   "source": [
    "from sklearn.ensemble import RandomForestRegressor\n",
    "from sklearn.tree import DecisionTreeRegressor\n",
    "# Train Random Forest model\n",
    "rf_model = RandomForestRegressor(random_state=42)\n",
    "rf_model.fit(X_train, y_train)\n",
    "y_pred_rf = rf_model.predict(X_test)\n",
    "mse_rf = mean_squared_error(y_test, y_pred_rf)\n",
    "r2_rf = r2_score(y_test, y_pred_rf)"
   ]
  },
  {
   "cell_type": "code",
   "execution_count": null,
   "metadata": {},
   "outputs": [
    {
     "data": {
      "text/plain": [
       "(3.3376623376623376,\n",
       " -0.3559682061121008,\n",
       " 2.677003896103896,\n",
       " -0.08756722625736613)"
      ]
     },
     "execution_count": 41,
     "metadata": {},
     "output_type": "execute_result"
    }
   ],
   "source": [
    "# Train Decision Tree model\n",
    "dt_model = DecisionTreeRegressor(random_state=42)\n",
    "dt_model.fit(X_train, y_train)\n",
    "y_pred_dt = dt_model.predict(X_test)\n",
    "mse_dt = mean_squared_error(y_test, y_pred_dt)\n",
    "r2_dt = r2_score(y_test, y_pred_dt)\n",
    "\n",
    "(mse_dt, r2_dt, mse_rf, r2_rf)\n",
    "\n",
    "# mse_dt: Mean Squared Error for the Decision Tree model.\n",
    "# r2_dt: R^2 Score for the Decision Tree model.\n",
    "# mse_rf: Mean Squared Error for the Random Forest model.\n",
    "# r2_rf: R^2 Score for the Random Forest model."
   ]
  },
  {
   "cell_type": "code",
   "execution_count": null,
   "metadata": {},
   "outputs": [
    {
     "name": "stdout",
     "output_type": "stream",
     "text": [
      "stations along route:                                Station_Name         Street_Address           City                                                  Access_Days_Time  EV_Level1_EVSE_Num  EV_Level2_EVSE_Num  EV_DC_Fast_Count EV_Other_Info        New_Georeferenced_Column  Total_EVSE_Num  longitude   latitude  distance_to_A  distance_to_B\n",
      "59                            LIBRARY KIOSK             24 Main St    New Milford                                                    24 hours daily                   0                   1                 0          NONE    POINT (-73.41116 41.5785572)               1 -73.411160  41.578557      13.914900      20.718204\n",
      "102                         WHOLE FOODS MKT      5 Sugar Hollow Rd        Danbury                                                    24 hours daily                   0                   1                 0          NONE   POINT (-73.475576 41.3777667)               1 -73.475576  41.377767       9.889169       2.615203\n",
      "114       Town of New Fairfield - Town Hall        4 Brush Hill Rd  New Fairfield                                                    24 hours daily                   0                   1                 0          NONE    POINT (-73.487032 41.465514)               1 -73.487032  41.465514       0.156091       8.322756\n",
      "119                          Ridgefield BMW         746 Danbury Rd     Ridgefield                  Dealership business hours; for customer use only                   0                   2                 0          NONE    POINT (-73.472615 41.331117)               2 -73.472615  41.331117      15.073632       7.243810\n",
      "158                         WHOLE FOODS MKT     5c Sugar Hollow Rd        Danbury                                                    24 hours daily                   0                   2                 0          NONE  POINT (-73.4755929 41.3781241)               2 -73.475593  41.378124       9.849500       2.587589\n",
      "186                            HONDADANBURY         102 Federal Rd        Danbury                                                    24 hours daily                   0                   2                 0          NONE  POINT (-73.4232598 41.4158651)               2 -73.423260  41.415865       7.669149       3.475112\n",
      "191          Waterworks - Tesla Destination          60 Backus Ave        Danbury                             24 hours daily; for customer use only                   0                   2                 0          NONE    POINT (-73.491965 41.370291)               2 -73.491965  41.370291      10.696216       4.183114\n",
      "197                       Danbury Fair Mall           7 Backus Ave        Danbury                                                    24 hours daily                   0                   0                 2          NONE     POINT (-73.47904 41.380158)               2 -73.479040  41.380158       9.603507       2.651979\n",
      "211    Western Connecticut State University  43 Lake Ave Extension        Danbury                                                    24 hours daily                   0                   1                 0          NONE    POINT (-73.492801 41.394446)               1 -73.492801  41.394446       8.022729       3.244314\n",
      "222       Homestead Inn - Tesla Destination               5 Elm St    New Milford  24 hours daily; for customer use only; see front desk for access                   0                   2                 0          NONE    POINT (-73.411005 41.580889)               2 -73.411005  41.580889      14.152686      20.975543\n",
      "223    Western Connecticut State University           179 White St        Danbury                                                    24 hours daily                   0                   2                 0          NONE     POINT (-73.44475 41.399432)               2 -73.444750  41.399432       8.195027       0.928730\n",
      "238                          COMM LOT STA 1             5 Depot Pl         Bethel                                                    24 hours daily                   0                   2                 0          NONE  POINT (-73.4145557 41.3703626)               2 -73.414556  41.370363      12.219552       4.274157\n",
      "247  Danbury Fair Mall - Tesla Supercharger           7 Backus Ave        Danbury                                24 hours daily; for Tesla use only                   0                   0                10          NONE    POINT (-73.477961 41.379441)              10 -73.477961  41.379441       9.688594       2.632291\n",
      "248    Western Connecticut State University           198 White St        Danbury                                                    24 hours daily                   0                   4                 0          NONE    POINT (-73.443485 41.398492)               4 -73.443485  41.398492       8.334206       0.970303\n",
      "321                          BMW RIDGEFIELD         746 Danbury Rd     Ridgefield                                                    24 hours daily                   0                   0                 1          NONE  POINT (-73.4722156 41.3305782)               1 -73.472216  41.330578      15.135762       7.295213\n",
      "325    Western Connecticut State University           190 White St        Danbury                                                    24 hours daily                   0                   3                 0          NONE     POINT (-73.442053 41.39936)               3 -73.442053  41.399360       8.298840       1.120108\n",
      "329    Mill Plain Diner - Tesla Destination       14 Mill Plain Rd        Danbury                             24 hours daily; for customer use only                   0                   1                 0          NONE     POINT (-73.494706 41.38756)               1 -73.494706  41.387560       8.797801       3.497677\n",
      "355                          COMM LOT STA 1         13 Durant Ave.         Bethel                                                    24 hours daily                   0                   2                 0          NONE  POINT (-73.4178034 41.3762377)               2 -73.417803  41.376238      11.517552       3.664661\n",
      "365               Danbury Parking Authority            21 Delay St        Danbury                                             Garage business hours                   0                   2                 0          NONE    POINT (-73.451059 41.396042)               2 -73.451059  41.396042       8.341363       0.281890\n",
      "383                         Fairfield Plaza         116 Danbury Rd    New Milford                                                    24 hours daily                   0                   0                 1          NONE      POINT (-73.41763 41.55735)               1 -73.417630  41.557350      11.581018      18.305413\n"
     ]
    }
   ],
   "source": [
    "import pandas as pd\n",
    "from geopy.geocoders import Nominatim\n",
    "from geopy.distance import geodesic\n",
    "import numpy as np\n",
    "\n",
    "\n",
    "\n",
    "# Initialize geolocator\n",
    "geolocator = Nominatim(user_agent=\"ev_stations_locator\")\n",
    "\n",
    "# Function to get coordinates from city name\n",
    "def get_coordinates(city_name):\n",
    "    location = geolocator.geocode(city_name)\n",
    "    if location:\n",
    "        return (location.latitude, location.longitude)\n",
    "    else:\n",
    "        raise ValueError(f\"Could not geocode city: {city_name}\")\n",
    "\n",
    "# Get coordinates for start and end cities\n",
    "city_A = \"New Fairfield\"\n",
    "city_B = \"Fairfield\"\n",
    "Starting_location = get_coordinates(city_A)\n",
    "Destination = get_coordinates(city_B)\n",
    "\n",
    "# Function to find nearest charging station\n",
    "def find_nearest_charging_station(point, stations):\n",
    "    distances = stations.apply(lambda row: geodesic(point, (row['latitude'], row['longitude'])).miles, axis=1)\n",
    "    nearest_index = distances.idxmin()\n",
    "    return stations.loc[nearest_index], distances.min()\n",
    "\n",
    "# Find the nearest charging stations to point A and point B\n",
    "nearest_station_A, distance_to_A = find_nearest_charging_station(Starting_location, newdf)\n",
    "nearest_station_B, distance_to_B = find_nearest_charging_station(Destination, newdf)\n",
    "\n",
    "# Define a function to find stations along the route\n",
    "def find_stations_along_route(Starting_location, Destination, stations, radius=10):\n",
    "    route_stations = []\n",
    "    for _, row in stations.iterrows():\n",
    "        if geodesic(Starting_location, (row['latitude'], row['longitude'])).miles <= radius or \\\n",
    "           geodesic(Destination, (row['latitude'], row['longitude'])).miles <= radius:\n",
    "            route_stations.append(row)\n",
    "    return pd.DataFrame(route_stations)\n",
    "\n",
    "# Find stations along the route\n",
    "stations_along_route = find_stations_along_route(Starting_location, Destination, newdf)\n",
    "\n",
    "nearest_station_A_info = nearest_station_A[['Station_Name', 'City', 'latitude', 'longitude']]\n",
    "nearest_station_B_info = nearest_station_B[['Station_Name', 'City', 'latitude', 'longitude']]\n",
    "\n",
    "# nearest_station_A_info, distance_to_A, nearest_station_B_info, distance_to_B, stations_along_route\n",
    "\n",
    "print(\"stations along route:\" , stations_along_route.to_string())\n"
   ]
  },
  {
   "cell_type": "code",
   "execution_count": null,
   "metadata": {},
   "outputs": [
    {
     "data": {
      "application/vnd.plotly.v1+json": {
       "config": {
        "plotlyServerURL": "https://plot.ly"
       },
       "data": [
        {
         "customdata": [
          [
           "New fairfield",
           "New fairfield"
          ]
         ],
         "hovertemplate": "type=Starting Location<br>name=%{text}<br>latitude=%{lat}<br>longitude=%{lon}<br>city=%{customdata[0]}<br>street_address=%{customdata[1]}<extra></extra>",
         "lat": [
          41.4664832
         ],
         "legendgroup": "Starting Location",
         "lon": [
          -73.4856789
         ],
         "marker": {
          "color": "#636efa"
         },
         "mode": "markers+text",
         "name": "Starting Location",
         "showlegend": true,
         "subplot": "mapbox",
         "text": [
          "Starting Location"
         ],
         "type": "scattermapbox"
        },
        {
         "customdata": [
          [
           "New Fairfield",
           "4 Brush Hill Rd"
          ]
         ],
         "hovertemplate": "type=Nearest Station A<br>name=%{text}<br>latitude=%{lat}<br>longitude=%{lon}<br>city=%{customdata[0]}<br>street_address=%{customdata[1]}<extra></extra>",
         "lat": [
          41.465514
         ],
         "legendgroup": "Nearest Station A",
         "lon": [
          -73.487032
         ],
         "marker": {
          "color": "#EF553B"
         },
         "mode": "markers+text",
         "name": "Nearest Station A",
         "showlegend": true,
         "subplot": "mapbox",
         "text": [
          "Nearest Station A"
         ],
         "type": "scattermapbox"
        },
        {
         "customdata": [
          [
           "Danbury",
           "Danbury"
          ]
         ],
         "hovertemplate": "type=Destination<br>name=%{text}<br>latitude=%{lat}<br>longitude=%{lon}<br>city=%{customdata[0]}<br>street_address=%{customdata[1]}<extra></extra>",
         "lat": [
          41.394817
         ],
         "legendgroup": "Destination",
         "lon": [
          -73.4540111
         ],
         "marker": {
          "color": "#00cc96"
         },
         "mode": "markers+text",
         "name": "Destination",
         "showlegend": true,
         "subplot": "mapbox",
         "text": [
          "Destination"
         ],
         "type": "scattermapbox"
        },
        {
         "customdata": [
          [
           "Danbury",
           "21 Delay St"
          ]
         ],
         "hovertemplate": "type=Nearest Station B<br>name=%{text}<br>latitude=%{lat}<br>longitude=%{lon}<br>city=%{customdata[0]}<br>street_address=%{customdata[1]}<extra></extra>",
         "lat": [
          41.396042
         ],
         "legendgroup": "Nearest Station B",
         "lon": [
          -73.451059
         ],
         "marker": {
          "color": "#ab63fa"
         },
         "mode": "markers+text",
         "name": "Nearest Station B",
         "showlegend": true,
         "subplot": "mapbox",
         "text": [
          "Nearest Station B"
         ],
         "type": "scattermapbox"
        },
        {
         "customdata": [
          [
           "New Milford",
           "24 Main St"
          ],
          [
           "Newtown",
           "3 Primrose St"
          ],
          [
           "Ridgefield",
           "80 E Ridge Rd"
          ],
          [
           "Danbury",
           "5 Sugar Hollow Rd"
          ],
          [
           "New Fairfield",
           "4 Brush Hill Rd"
          ],
          [
           "Ridgefield",
           "746 Danbury Rd"
          ],
          [
           "Danbury",
           "5c Sugar Hollow Rd"
          ],
          [
           "Danbury",
           "102 Federal Rd"
          ],
          [
           "Danbury",
           "60 Backus Ave"
          ],
          [
           "Danbury",
           "7 Backus Ave"
          ],
          [
           "Danbury",
           "43 Lake Ave Extension"
          ],
          [
           "New Milford",
           "5 Elm St"
          ],
          [
           "Danbury",
           "179 White St"
          ],
          [
           "Bethel",
           "5 Depot Pl"
          ],
          [
           "Danbury",
           "7 Backus Ave"
          ],
          [
           "Danbury",
           "198 White St"
          ],
          [
           "Wilton",
           "978 Danbury Rd"
          ],
          [
           "Ridgefield",
           "746 Danbury Rd"
          ],
          [
           "Danbury",
           "190 White St"
          ],
          [
           "Danbury",
           "14 Mill Plain Rd"
          ],
          [
           "Bethel",
           "13 Durant Ave."
          ],
          [
           "Danbury",
           "21 Delay St"
          ],
          [
           "New Milford",
           "116 Danbury Rd"
          ]
         ],
         "hovertemplate": "type=Charging Station<br>name=%{text}<br>latitude=%{lat}<br>longitude=%{lon}<br>city=%{customdata[0]}<br>street_address=%{customdata[1]}<extra></extra>",
         "lat": [
          41.5785572,
          41.4007757,
          41.282264,
          41.3777667,
          41.465514,
          41.331117,
          41.3781241,
          41.4158651,
          41.370291,
          41.380158,
          41.394446,
          41.580889,
          41.399432,
          41.3703626,
          41.379441,
          41.398492,
          41.258992,
          41.3305782,
          41.39936,
          41.38756,
          41.3762377,
          41.396042,
          41.55735
         ],
         "legendgroup": "Charging Station",
         "lon": [
          -73.41116,
          -73.2847962,
          -73.492605,
          -73.475576,
          -73.487032,
          -73.472615,
          -73.4755929,
          -73.4232598,
          -73.491965,
          -73.47904,
          -73.492801,
          -73.411005,
          -73.44475,
          -73.4145557,
          -73.477961,
          -73.443485,
          -73.435546,
          -73.4722156,
          -73.442053,
          -73.494706,
          -73.4178034,
          -73.451059,
          -73.41763
         ],
         "marker": {
          "color": "#FFA15A"
         },
         "mode": "markers+text",
         "name": "Charging Station",
         "showlegend": true,
         "subplot": "mapbox",
         "text": [
          "LIBRARY KIOSK",
          "MUNICIP STATION",
          "The Ridgefield Playhouse",
          "WHOLE FOODS MKT",
          "Town of New Fairfield - Town Hall",
          "Ridgefield BMW",
          "WHOLE FOODS MKT",
          "HONDADANBURY",
          "Waterworks - Tesla Destination",
          "Danbury Fair Mall",
          "Western Connecticut State University",
          "Homestead Inn - Tesla Destination",
          "Western Connecticut State University",
          "COMM LOT STA 1",
          "Danbury Fair Mall - Tesla Supercharger",
          "Western Connecticut State University",
          "Bruce Bennett Nissan",
          "BMW RIDGEFIELD",
          "Western Connecticut State University",
          "Mill Plain Diner - Tesla Destination",
          "COMM LOT STA 1",
          "Danbury Parking Authority",
          "Fairfield Plaza"
         ],
         "type": "scattermapbox"
        },
        {
         "hovertemplate": "latitude=%{lat}<br>longitude=%{lon}<extra></extra>",
         "lat": [
          41.4664832,
          41.465514,
          41.394817,
          41.396042,
          41.5785572,
          41.4007757,
          41.282264,
          41.3777667,
          41.465514,
          41.331117,
          41.3781241,
          41.4158651,
          41.370291,
          41.380158,
          41.394446,
          41.580889,
          41.399432,
          41.3703626,
          41.379441,
          41.398492,
          41.258992,
          41.3305782,
          41.39936,
          41.38756,
          41.3762377,
          41.396042,
          41.55735
         ],
         "legendgroup": "",
         "line": {
          "color": "#636efa"
         },
         "lon": [
          -73.4856789,
          -73.487032,
          -73.4540111,
          -73.451059,
          -73.41116,
          -73.2847962,
          -73.492605,
          -73.475576,
          -73.487032,
          -73.472615,
          -73.4755929,
          -73.4232598,
          -73.491965,
          -73.47904,
          -73.492801,
          -73.411005,
          -73.44475,
          -73.4145557,
          -73.477961,
          -73.443485,
          -73.435546,
          -73.4722156,
          -73.442053,
          -73.494706,
          -73.4178034,
          -73.451059,
          -73.41763
         ],
         "mode": "lines",
         "name": "",
         "showlegend": false,
         "subplot": "mapbox",
         "type": "scattermapbox"
        }
       ],
       "layout": {
        "height": 600,
        "legend": {
         "title": {
          "text": "type"
         },
         "tracegroupgap": 0
        },
        "mapbox": {
         "center": {
          "lat": 41.40490635185185,
          "lon": -73.45137013333331
         },
         "domain": {
          "x": [
           0,
           1
          ],
          "y": [
           0,
           1
          ]
         },
         "style": "carto-positron",
         "zoom": 8
        },
        "margin": {
         "b": 0,
         "l": 0,
         "r": 0,
         "t": 0
        },
        "showlegend": true,
        "template": {
         "data": {
          "bar": [
           {
            "error_x": {
             "color": "#2a3f5f"
            },
            "error_y": {
             "color": "#2a3f5f"
            },
            "marker": {
             "line": {
              "color": "#E5ECF6",
              "width": 0.5
             },
             "pattern": {
              "fillmode": "overlay",
              "size": 10,
              "solidity": 0.2
             }
            },
            "type": "bar"
           }
          ],
          "barpolar": [
           {
            "marker": {
             "line": {
              "color": "#E5ECF6",
              "width": 0.5
             },
             "pattern": {
              "fillmode": "overlay",
              "size": 10,
              "solidity": 0.2
             }
            },
            "type": "barpolar"
           }
          ],
          "carpet": [
           {
            "aaxis": {
             "endlinecolor": "#2a3f5f",
             "gridcolor": "white",
             "linecolor": "white",
             "minorgridcolor": "white",
             "startlinecolor": "#2a3f5f"
            },
            "baxis": {
             "endlinecolor": "#2a3f5f",
             "gridcolor": "white",
             "linecolor": "white",
             "minorgridcolor": "white",
             "startlinecolor": "#2a3f5f"
            },
            "type": "carpet"
           }
          ],
          "choropleth": [
           {
            "colorbar": {
             "outlinewidth": 0,
             "ticks": ""
            },
            "type": "choropleth"
           }
          ],
          "contour": [
           {
            "colorbar": {
             "outlinewidth": 0,
             "ticks": ""
            },
            "colorscale": [
             [
              0,
              "#0d0887"
             ],
             [
              0.1111111111111111,
              "#46039f"
             ],
             [
              0.2222222222222222,
              "#7201a8"
             ],
             [
              0.3333333333333333,
              "#9c179e"
             ],
             [
              0.4444444444444444,
              "#bd3786"
             ],
             [
              0.5555555555555556,
              "#d8576b"
             ],
             [
              0.6666666666666666,
              "#ed7953"
             ],
             [
              0.7777777777777778,
              "#fb9f3a"
             ],
             [
              0.8888888888888888,
              "#fdca26"
             ],
             [
              1,
              "#f0f921"
             ]
            ],
            "type": "contour"
           }
          ],
          "contourcarpet": [
           {
            "colorbar": {
             "outlinewidth": 0,
             "ticks": ""
            },
            "type": "contourcarpet"
           }
          ],
          "heatmap": [
           {
            "colorbar": {
             "outlinewidth": 0,
             "ticks": ""
            },
            "colorscale": [
             [
              0,
              "#0d0887"
             ],
             [
              0.1111111111111111,
              "#46039f"
             ],
             [
              0.2222222222222222,
              "#7201a8"
             ],
             [
              0.3333333333333333,
              "#9c179e"
             ],
             [
              0.4444444444444444,
              "#bd3786"
             ],
             [
              0.5555555555555556,
              "#d8576b"
             ],
             [
              0.6666666666666666,
              "#ed7953"
             ],
             [
              0.7777777777777778,
              "#fb9f3a"
             ],
             [
              0.8888888888888888,
              "#fdca26"
             ],
             [
              1,
              "#f0f921"
             ]
            ],
            "type": "heatmap"
           }
          ],
          "heatmapgl": [
           {
            "colorbar": {
             "outlinewidth": 0,
             "ticks": ""
            },
            "colorscale": [
             [
              0,
              "#0d0887"
             ],
             [
              0.1111111111111111,
              "#46039f"
             ],
             [
              0.2222222222222222,
              "#7201a8"
             ],
             [
              0.3333333333333333,
              "#9c179e"
             ],
             [
              0.4444444444444444,
              "#bd3786"
             ],
             [
              0.5555555555555556,
              "#d8576b"
             ],
             [
              0.6666666666666666,
              "#ed7953"
             ],
             [
              0.7777777777777778,
              "#fb9f3a"
             ],
             [
              0.8888888888888888,
              "#fdca26"
             ],
             [
              1,
              "#f0f921"
             ]
            ],
            "type": "heatmapgl"
           }
          ],
          "histogram": [
           {
            "marker": {
             "pattern": {
              "fillmode": "overlay",
              "size": 10,
              "solidity": 0.2
             }
            },
            "type": "histogram"
           }
          ],
          "histogram2d": [
           {
            "colorbar": {
             "outlinewidth": 0,
             "ticks": ""
            },
            "colorscale": [
             [
              0,
              "#0d0887"
             ],
             [
              0.1111111111111111,
              "#46039f"
             ],
             [
              0.2222222222222222,
              "#7201a8"
             ],
             [
              0.3333333333333333,
              "#9c179e"
             ],
             [
              0.4444444444444444,
              "#bd3786"
             ],
             [
              0.5555555555555556,
              "#d8576b"
             ],
             [
              0.6666666666666666,
              "#ed7953"
             ],
             [
              0.7777777777777778,
              "#fb9f3a"
             ],
             [
              0.8888888888888888,
              "#fdca26"
             ],
             [
              1,
              "#f0f921"
             ]
            ],
            "type": "histogram2d"
           }
          ],
          "histogram2dcontour": [
           {
            "colorbar": {
             "outlinewidth": 0,
             "ticks": ""
            },
            "colorscale": [
             [
              0,
              "#0d0887"
             ],
             [
              0.1111111111111111,
              "#46039f"
             ],
             [
              0.2222222222222222,
              "#7201a8"
             ],
             [
              0.3333333333333333,
              "#9c179e"
             ],
             [
              0.4444444444444444,
              "#bd3786"
             ],
             [
              0.5555555555555556,
              "#d8576b"
             ],
             [
              0.6666666666666666,
              "#ed7953"
             ],
             [
              0.7777777777777778,
              "#fb9f3a"
             ],
             [
              0.8888888888888888,
              "#fdca26"
             ],
             [
              1,
              "#f0f921"
             ]
            ],
            "type": "histogram2dcontour"
           }
          ],
          "mesh3d": [
           {
            "colorbar": {
             "outlinewidth": 0,
             "ticks": ""
            },
            "type": "mesh3d"
           }
          ],
          "parcoords": [
           {
            "line": {
             "colorbar": {
              "outlinewidth": 0,
              "ticks": ""
             }
            },
            "type": "parcoords"
           }
          ],
          "pie": [
           {
            "automargin": true,
            "type": "pie"
           }
          ],
          "scatter": [
           {
            "fillpattern": {
             "fillmode": "overlay",
             "size": 10,
             "solidity": 0.2
            },
            "type": "scatter"
           }
          ],
          "scatter3d": [
           {
            "line": {
             "colorbar": {
              "outlinewidth": 0,
              "ticks": ""
             }
            },
            "marker": {
             "colorbar": {
              "outlinewidth": 0,
              "ticks": ""
             }
            },
            "type": "scatter3d"
           }
          ],
          "scattercarpet": [
           {
            "marker": {
             "colorbar": {
              "outlinewidth": 0,
              "ticks": ""
             }
            },
            "type": "scattercarpet"
           }
          ],
          "scattergeo": [
           {
            "marker": {
             "colorbar": {
              "outlinewidth": 0,
              "ticks": ""
             }
            },
            "type": "scattergeo"
           }
          ],
          "scattergl": [
           {
            "marker": {
             "colorbar": {
              "outlinewidth": 0,
              "ticks": ""
             }
            },
            "type": "scattergl"
           }
          ],
          "scattermapbox": [
           {
            "marker": {
             "colorbar": {
              "outlinewidth": 0,
              "ticks": ""
             }
            },
            "type": "scattermapbox"
           }
          ],
          "scatterpolar": [
           {
            "marker": {
             "colorbar": {
              "outlinewidth": 0,
              "ticks": ""
             }
            },
            "type": "scatterpolar"
           }
          ],
          "scatterpolargl": [
           {
            "marker": {
             "colorbar": {
              "outlinewidth": 0,
              "ticks": ""
             }
            },
            "type": "scatterpolargl"
           }
          ],
          "scatterternary": [
           {
            "marker": {
             "colorbar": {
              "outlinewidth": 0,
              "ticks": ""
             }
            },
            "type": "scatterternary"
           }
          ],
          "surface": [
           {
            "colorbar": {
             "outlinewidth": 0,
             "ticks": ""
            },
            "colorscale": [
             [
              0,
              "#0d0887"
             ],
             [
              0.1111111111111111,
              "#46039f"
             ],
             [
              0.2222222222222222,
              "#7201a8"
             ],
             [
              0.3333333333333333,
              "#9c179e"
             ],
             [
              0.4444444444444444,
              "#bd3786"
             ],
             [
              0.5555555555555556,
              "#d8576b"
             ],
             [
              0.6666666666666666,
              "#ed7953"
             ],
             [
              0.7777777777777778,
              "#fb9f3a"
             ],
             [
              0.8888888888888888,
              "#fdca26"
             ],
             [
              1,
              "#f0f921"
             ]
            ],
            "type": "surface"
           }
          ],
          "table": [
           {
            "cells": {
             "fill": {
              "color": "#EBF0F8"
             },
             "line": {
              "color": "white"
             }
            },
            "header": {
             "fill": {
              "color": "#C8D4E3"
             },
             "line": {
              "color": "white"
             }
            },
            "type": "table"
           }
          ]
         },
         "layout": {
          "annotationdefaults": {
           "arrowcolor": "#2a3f5f",
           "arrowhead": 0,
           "arrowwidth": 1
          },
          "autotypenumbers": "strict",
          "coloraxis": {
           "colorbar": {
            "outlinewidth": 0,
            "ticks": ""
           }
          },
          "colorscale": {
           "diverging": [
            [
             0,
             "#8e0152"
            ],
            [
             0.1,
             "#c51b7d"
            ],
            [
             0.2,
             "#de77ae"
            ],
            [
             0.3,
             "#f1b6da"
            ],
            [
             0.4,
             "#fde0ef"
            ],
            [
             0.5,
             "#f7f7f7"
            ],
            [
             0.6,
             "#e6f5d0"
            ],
            [
             0.7,
             "#b8e186"
            ],
            [
             0.8,
             "#7fbc41"
            ],
            [
             0.9,
             "#4d9221"
            ],
            [
             1,
             "#276419"
            ]
           ],
           "sequential": [
            [
             0,
             "#0d0887"
            ],
            [
             0.1111111111111111,
             "#46039f"
            ],
            [
             0.2222222222222222,
             "#7201a8"
            ],
            [
             0.3333333333333333,
             "#9c179e"
            ],
            [
             0.4444444444444444,
             "#bd3786"
            ],
            [
             0.5555555555555556,
             "#d8576b"
            ],
            [
             0.6666666666666666,
             "#ed7953"
            ],
            [
             0.7777777777777778,
             "#fb9f3a"
            ],
            [
             0.8888888888888888,
             "#fdca26"
            ],
            [
             1,
             "#f0f921"
            ]
           ],
           "sequentialminus": [
            [
             0,
             "#0d0887"
            ],
            [
             0.1111111111111111,
             "#46039f"
            ],
            [
             0.2222222222222222,
             "#7201a8"
            ],
            [
             0.3333333333333333,
             "#9c179e"
            ],
            [
             0.4444444444444444,
             "#bd3786"
            ],
            [
             0.5555555555555556,
             "#d8576b"
            ],
            [
             0.6666666666666666,
             "#ed7953"
            ],
            [
             0.7777777777777778,
             "#fb9f3a"
            ],
            [
             0.8888888888888888,
             "#fdca26"
            ],
            [
             1,
             "#f0f921"
            ]
           ]
          },
          "colorway": [
           "#636efa",
           "#EF553B",
           "#00cc96",
           "#ab63fa",
           "#FFA15A",
           "#19d3f3",
           "#FF6692",
           "#B6E880",
           "#FF97FF",
           "#FECB52"
          ],
          "font": {
           "color": "#2a3f5f"
          },
          "geo": {
           "bgcolor": "white",
           "lakecolor": "white",
           "landcolor": "#E5ECF6",
           "showlakes": true,
           "showland": true,
           "subunitcolor": "white"
          },
          "hoverlabel": {
           "align": "left"
          },
          "hovermode": "closest",
          "mapbox": {
           "style": "light"
          },
          "paper_bgcolor": "white",
          "plot_bgcolor": "#E5ECF6",
          "polar": {
           "angularaxis": {
            "gridcolor": "white",
            "linecolor": "white",
            "ticks": ""
           },
           "bgcolor": "#E5ECF6",
           "radialaxis": {
            "gridcolor": "white",
            "linecolor": "white",
            "ticks": ""
           }
          },
          "scene": {
           "xaxis": {
            "backgroundcolor": "#E5ECF6",
            "gridcolor": "white",
            "gridwidth": 2,
            "linecolor": "white",
            "showbackground": true,
            "ticks": "",
            "zerolinecolor": "white"
           },
           "yaxis": {
            "backgroundcolor": "#E5ECF6",
            "gridcolor": "white",
            "gridwidth": 2,
            "linecolor": "white",
            "showbackground": true,
            "ticks": "",
            "zerolinecolor": "white"
           },
           "zaxis": {
            "backgroundcolor": "#E5ECF6",
            "gridcolor": "white",
            "gridwidth": 2,
            "linecolor": "white",
            "showbackground": true,
            "ticks": "",
            "zerolinecolor": "white"
           }
          },
          "shapedefaults": {
           "line": {
            "color": "#2a3f5f"
           }
          },
          "ternary": {
           "aaxis": {
            "gridcolor": "white",
            "linecolor": "white",
            "ticks": ""
           },
           "baxis": {
            "gridcolor": "white",
            "linecolor": "white",
            "ticks": ""
           },
           "bgcolor": "#E5ECF6",
           "caxis": {
            "gridcolor": "white",
            "linecolor": "white",
            "ticks": ""
           }
          },
          "title": {
           "x": 0.05
          },
          "xaxis": {
           "automargin": true,
           "gridcolor": "white",
           "linecolor": "white",
           "ticks": "",
           "title": {
            "standoff": 15
           },
           "zerolinecolor": "white",
           "zerolinewidth": 2
          },
          "yaxis": {
           "automargin": true,
           "gridcolor": "white",
           "linecolor": "white",
           "ticks": "",
           "title": {
            "standoff": 15
           },
           "zerolinecolor": "white",
           "zerolinewidth": 2
          }
         }
        },
        "title": {
         "text": "Charging Stations Along the Route from Starting Location to Destination"
        }
       }
      }
     },
     "metadata": {},
     "output_type": "display_data"
    }
   ],
   "source": [
    "import pandas as pd\n",
    "from geopy.geocoders import Nominatim\n",
    "from geopy.distance import geodesic\n",
    "import numpy as np\n",
    "import plotly.express as px\n",
    "\n",
    "# Initialize geolocator\n",
    "geolocator = Nominatim(user_agent=\"ev_stations_locator\")\n",
    "\n",
    "# Function to get coordinates from city name\n",
    "def get_coordinates(city_name):\n",
    "    location = geolocator.geocode(city_name)\n",
    "    if location:\n",
    "        return (location.latitude, location.longitude)\n",
    "    else:\n",
    "        raise ValueError(f\"Could not geocode city: {city_name}\")\n",
    "\n",
    "# Get coordinates for start and end cities\n",
    "city_A = \"New fairfield\"\n",
    "city_B = \"Danbury\"\n",
    "Starting_location = get_coordinates(city_A)\n",
    "Destination = get_coordinates(city_B)\n",
    "\n",
    "# Function to find nearest charging station\n",
    "def find_nearest_charging_station(point, stations):\n",
    "    distances = stations.apply(lambda row: geodesic(point, (row['latitude'], row['longitude'])).miles, axis=1)\n",
    "    nearest_index = distances.idxmin()\n",
    "    return stations.loc[nearest_index], distances.min()\n",
    "\n",
    "# Find the nearest charging stations to point A and point B\n",
    "nearest_station_A, distance_to_A = find_nearest_charging_station(Starting_location, newdf)\n",
    "nearest_station_B, distance_to_B = find_nearest_charging_station(Destination, newdf)\n",
    "\n",
    "# Define a function to find stations along the route\n",
    "def find_stations_along_route(Starting_location, Destination, stations, radius=10):\n",
    "    route_stations = []\n",
    "    for _, row in stations.iterrows():\n",
    "        if geodesic(Starting_location, (row['latitude'], row['longitude'])).miles <= radius or \\\n",
    "           geodesic(Destination, (row['latitude'], row['longitude'])).miles <= radius:\n",
    "            route_stations.append(row)\n",
    "    return pd.DataFrame(route_stations)\n",
    "\n",
    "# Find stations along the route\n",
    "stations_along_route = find_stations_along_route(Starting_location, Destination, newdf)\n",
    "\n",
    "nearest_station_A_info = nearest_station_A[['Station_Name', 'City', 'latitude', 'longitude']]\n",
    "nearest_station_B_info = nearest_station_B[['Station_Name', 'City', 'latitude', 'longitude']]\n",
    "\n",
    "# Prepare data for visualization\n",
    "data = {\n",
    "    'name': ['Starting Location', 'Nearest Station A', 'Destination', 'Nearest Station B'] + stations_along_route['Station_Name'].tolist(),\n",
    "    'latitude': [Starting_location[0], nearest_station_A['latitude'], Destination[0], nearest_station_B['latitude']] + stations_along_route['latitude'].tolist(),\n",
    "    'longitude': [Starting_location[1], nearest_station_A['longitude'], Destination[1], nearest_station_B['longitude']] + stations_along_route['longitude'].tolist(),\n",
    "    'type': ['Starting Location', 'Nearest Station A', 'Destination', 'Nearest Station B'] + ['Charging Station'] * len(stations_along_route),\n",
    "    'city': [city_A, nearest_station_A['City'], city_B, nearest_station_B['City']] + stations_along_route['City'].tolist(),\n",
    "    'street_address': [city_A, nearest_station_A['Street_Address'], city_B, nearest_station_B['Street_Address']] + stations_along_route['Street_Address'].tolist()\n",
    "}\n",
    "\n",
    "df_vis = pd.DataFrame(data)\n",
    "\n",
    "# Create the map plot\n",
    "fig = px.scatter_mapbox(df_vis, lat='latitude', lon='longitude', text='name', color='type',\n",
    "                        hover_data=['city', 'street_address'], mapbox_style='carto-positron', zoom=8, height=600)\n",
    "\n",
    "# Add lines to connect the points\n",
    "fig.add_trace(px.line_mapbox(df_vis, lat='latitude', lon='longitude').data[0])\n",
    "\n",
    "# Adjust layout for clarity\n",
    "fig.update_layout(\n",
    "    title=\"Charging Stations Along the Route from Starting Location to Destination\",\n",
    "    margin={\"r\":0,\"t\":0,\"l\":0,\"b\":0},\n",
    "    showlegend=True\n",
    ")\n",
    "\n",
    "fig.show()"
   ]
  },
  {
   "cell_type": "code",
   "execution_count": null,
   "metadata": {},
   "outputs": [],
   "source": [
    "import pandas as pd\n",
    "from geopy.geocoders import Nominatim\n",
    "from geopy.distance import geodesic\n",
    "import plotly.express as px\n",
    "\n",
    "# Initialize geolocator\n",
    "geolocator = Nominatim(user_agent=\"ev_stations_locator\")\n",
    "\n",
    "# Function to get coordinates from city name\n",
    "def get_coordinates(city_name):\n",
    "    location = geolocator.geocode(city_name)\n",
    "    if location:\n",
    "        return (location.latitude, location.longitude)\n",
    "    else:\n",
    "        raise ValueError(f\"Could not geocode city: {city_name}\")\n",
    "\n",
    "# Get coordinates for start and end cities\n",
    "city_A = \"New Fairfield\"\n",
    "city_B = \"Danbury\"\n",
    "Starting_location = get_coordinates(city_A)\n",
    "Destination = get_coordinates(city_B)\n",
    "\n",
    "# Assuming newdf is already defined and contains necessary columns ('latitude', 'longitude')\n",
    "# Pre-calculate distances from each station to starting and ending points\n",
    "newdf['distance_to_A'] = newdf.apply(lambda row: geodesic((row['latitude'], row['longitude']), Starting_location).miles, axis=1)\n",
    "newdf['distance_to_B'] = newdf.apply(lambda row: geodesic((row['latitude'], row['longitude']), Destination).miles, axis=1)\n",
    "\n",
    "# Find the nearest charging stations to point A and point B\n",
    "nearest_station_A, distance_to_A = find_nearest_charging_station(Starting_location, newdf)\n",
    "nearest_station_B, distance_to_B = find_nearest_charging_station(Destination, newdf)\n",
    "\n",
    "# Find stations along the route\n",
    "stations_along_route = find_stations_along_route(Starting_location, Destination, newdf)\n",
    "\n",
    "# Prepare data for visualization\n",
    "data = {\n",
    "    'name': ['Starting Location', 'Nearest Station A', 'Destination', 'Nearest Station B'] + stations_along_route['Station_Name'].tolist(),\n",
    "    'latitude': [Starting_location[0], nearest_station_A['latitude'], Destination[0], nearest_station_B['latitude']] + stations_along_route['latitude'].tolist(),\n",
    "    'longitude': [Starting_location[1], nearest_station_A['longitude'], Destination[1], nearest_station_B['longitude']] + stations_along_route['longitude'].tolist(),\n",
    "    'type': ['Starting Location', 'Nearest Station A', 'Destination', 'Nearest Station B'] + ['Charging Station'] * len(stations_along_route),\n",
    "    'city': [city_A, nearest_station_A['City'], city_B, nearest_station_B['City']] + stations_along_route['City'].tolist(),\n",
    "    'street_address': [city_A, nearest_station_A['Street_Address'], city_B, nearest_station_B['Street_Address']] + stations_along_route['Street_Address'].tolist(),\n",
    "    'distance_to_A': [None] + [distance_to_A] + [None] + [None] + stations_along_route['distance_to_A'].tolist(),  # Include distances in the data\n",
    "    'distance_to_B': [None] + [None] + [None] + [distance_to_B] + stations_along_route['distance_to_B'].tolist()  # Include distances in the data\n",
    "}\n",
    "\n",
    "df_vis = pd.DataFrame(data)\n",
    "\n",
    "# Create the map plot\n",
    "fig = px.scatter_mapbox(df_vis, lat='latitude', lon='longitude', text='name', color='type',\n",
    "                        hover_data=['city', 'street_address', 'distance_to_A', 'distance_to_B'], mapbox_style='carto-positron', zoom=8, height=600)\n",
    "\n",
    "# Add lines to connect the points\n",
    "fig.add_trace(px.line_mapbox(df_vis, lat='latitude', lon='longitude').data[0])\n",
    "\n",
    "# Adjust layout for clarity\n",
    "fig.update_layout(\n",
    "    title=\"Charging Stations Along the Route from Starting Location to Destination\",\n",
    "    margin={\"r\":0,\"t\":0,\"l\":0,\"b\":0},\n",
    "    showlegend=True\n",
    ")\n",
    "\n",
    "fig.show()\n"
   ]
  },
  {
   "cell_type": "code",
   "execution_count": null,
   "metadata": {},
   "outputs": [
    {
     "ename": "GeocoderUnavailable",
     "evalue": "HTTPSConnectionPool(host='nominatim.openstreetmap.org', port=443): Max retries exceeded with url: /search?q=New+Fairfield&format=json&limit=1 (Caused by NameResolutionError(\"<urllib3.connection.HTTPSConnection object at 0x000001D67CD03680>: Failed to resolve 'nominatim.openstreetmap.org' ([Errno 11001] getaddrinfo failed)\"))",
     "output_type": "error",
     "traceback": [
      "\u001b[1;31m---------------------------------------------------------------------------\u001b[0m",
      "\u001b[1;31mgaierror\u001b[0m                                  Traceback (most recent call last)",
      "File \u001b[1;32mc:\\Users\\HP PROBOOK\\AppData\\Local\\Programs\\Python\\Python312\\Lib\\site-packages\\urllib3\\connection.py:198\u001b[0m, in \u001b[0;36mHTTPConnection._new_conn\u001b[1;34m(self)\u001b[0m\n\u001b[0;32m    197\u001b[0m \u001b[38;5;28;01mtry\u001b[39;00m:\n\u001b[1;32m--> 198\u001b[0m     sock \u001b[38;5;241m=\u001b[39m \u001b[43mconnection\u001b[49m\u001b[38;5;241;43m.\u001b[39;49m\u001b[43mcreate_connection\u001b[49m\u001b[43m(\u001b[49m\n\u001b[0;32m    199\u001b[0m \u001b[43m        \u001b[49m\u001b[43m(\u001b[49m\u001b[38;5;28;43mself\u001b[39;49m\u001b[38;5;241;43m.\u001b[39;49m\u001b[43m_dns_host\u001b[49m\u001b[43m,\u001b[49m\u001b[43m \u001b[49m\u001b[38;5;28;43mself\u001b[39;49m\u001b[38;5;241;43m.\u001b[39;49m\u001b[43mport\u001b[49m\u001b[43m)\u001b[49m\u001b[43m,\u001b[49m\n\u001b[0;32m    200\u001b[0m \u001b[43m        \u001b[49m\u001b[38;5;28;43mself\u001b[39;49m\u001b[38;5;241;43m.\u001b[39;49m\u001b[43mtimeout\u001b[49m\u001b[43m,\u001b[49m\n\u001b[0;32m    201\u001b[0m \u001b[43m        \u001b[49m\u001b[43msource_address\u001b[49m\u001b[38;5;241;43m=\u001b[39;49m\u001b[38;5;28;43mself\u001b[39;49m\u001b[38;5;241;43m.\u001b[39;49m\u001b[43msource_address\u001b[49m\u001b[43m,\u001b[49m\n\u001b[0;32m    202\u001b[0m \u001b[43m        \u001b[49m\u001b[43msocket_options\u001b[49m\u001b[38;5;241;43m=\u001b[39;49m\u001b[38;5;28;43mself\u001b[39;49m\u001b[38;5;241;43m.\u001b[39;49m\u001b[43msocket_options\u001b[49m\u001b[43m,\u001b[49m\n\u001b[0;32m    203\u001b[0m \u001b[43m    \u001b[49m\u001b[43m)\u001b[49m\n\u001b[0;32m    204\u001b[0m \u001b[38;5;28;01mexcept\u001b[39;00m socket\u001b[38;5;241m.\u001b[39mgaierror \u001b[38;5;28;01mas\u001b[39;00m e:\n",
      "File \u001b[1;32mc:\\Users\\HP PROBOOK\\AppData\\Local\\Programs\\Python\\Python312\\Lib\\site-packages\\urllib3\\util\\connection.py:60\u001b[0m, in \u001b[0;36mcreate_connection\u001b[1;34m(address, timeout, source_address, socket_options)\u001b[0m\n\u001b[0;32m     58\u001b[0m     \u001b[38;5;28;01mraise\u001b[39;00m LocationParseError(\u001b[38;5;124mf\u001b[39m\u001b[38;5;124m\"\u001b[39m\u001b[38;5;124m'\u001b[39m\u001b[38;5;132;01m{\u001b[39;00mhost\u001b[38;5;132;01m}\u001b[39;00m\u001b[38;5;124m'\u001b[39m\u001b[38;5;124m, label empty or too long\u001b[39m\u001b[38;5;124m\"\u001b[39m) \u001b[38;5;28;01mfrom\u001b[39;00m \u001b[38;5;28;01mNone\u001b[39;00m\n\u001b[1;32m---> 60\u001b[0m \u001b[38;5;28;01mfor\u001b[39;00m res \u001b[38;5;129;01min\u001b[39;00m \u001b[43msocket\u001b[49m\u001b[38;5;241;43m.\u001b[39;49m\u001b[43mgetaddrinfo\u001b[49m\u001b[43m(\u001b[49m\u001b[43mhost\u001b[49m\u001b[43m,\u001b[49m\u001b[43m \u001b[49m\u001b[43mport\u001b[49m\u001b[43m,\u001b[49m\u001b[43m \u001b[49m\u001b[43mfamily\u001b[49m\u001b[43m,\u001b[49m\u001b[43m \u001b[49m\u001b[43msocket\u001b[49m\u001b[38;5;241;43m.\u001b[39;49m\u001b[43mSOCK_STREAM\u001b[49m\u001b[43m)\u001b[49m:\n\u001b[0;32m     61\u001b[0m     af, socktype, proto, canonname, sa \u001b[38;5;241m=\u001b[39m res\n",
      "File \u001b[1;32mc:\\Users\\HP PROBOOK\\AppData\\Local\\Programs\\Python\\Python312\\Lib\\socket.py:964\u001b[0m, in \u001b[0;36mgetaddrinfo\u001b[1;34m(host, port, family, type, proto, flags)\u001b[0m\n\u001b[0;32m    963\u001b[0m addrlist \u001b[38;5;241m=\u001b[39m []\n\u001b[1;32m--> 964\u001b[0m \u001b[38;5;28;01mfor\u001b[39;00m res \u001b[38;5;129;01min\u001b[39;00m \u001b[43m_socket\u001b[49m\u001b[38;5;241;43m.\u001b[39;49m\u001b[43mgetaddrinfo\u001b[49m\u001b[43m(\u001b[49m\u001b[43mhost\u001b[49m\u001b[43m,\u001b[49m\u001b[43m \u001b[49m\u001b[43mport\u001b[49m\u001b[43m,\u001b[49m\u001b[43m \u001b[49m\u001b[43mfamily\u001b[49m\u001b[43m,\u001b[49m\u001b[43m \u001b[49m\u001b[38;5;28;43mtype\u001b[39;49m\u001b[43m,\u001b[49m\u001b[43m \u001b[49m\u001b[43mproto\u001b[49m\u001b[43m,\u001b[49m\u001b[43m \u001b[49m\u001b[43mflags\u001b[49m\u001b[43m)\u001b[49m:\n\u001b[0;32m    965\u001b[0m     af, socktype, proto, canonname, sa \u001b[38;5;241m=\u001b[39m res\n",
      "\u001b[1;31mgaierror\u001b[0m: [Errno 11001] getaddrinfo failed",
      "\nThe above exception was the direct cause of the following exception:\n",
      "\u001b[1;31mNameResolutionError\u001b[0m                       Traceback (most recent call last)",
      "File \u001b[1;32mc:\\Users\\HP PROBOOK\\AppData\\Local\\Programs\\Python\\Python312\\Lib\\site-packages\\urllib3\\connectionpool.py:793\u001b[0m, in \u001b[0;36mHTTPConnectionPool.urlopen\u001b[1;34m(self, method, url, body, headers, retries, redirect, assert_same_host, timeout, pool_timeout, release_conn, chunked, body_pos, preload_content, decode_content, **response_kw)\u001b[0m\n\u001b[0;32m    792\u001b[0m \u001b[38;5;66;03m# Make the request on the HTTPConnection object\u001b[39;00m\n\u001b[1;32m--> 793\u001b[0m response \u001b[38;5;241m=\u001b[39m \u001b[38;5;28;43mself\u001b[39;49m\u001b[38;5;241;43m.\u001b[39;49m\u001b[43m_make_request\u001b[49m\u001b[43m(\u001b[49m\n\u001b[0;32m    794\u001b[0m \u001b[43m    \u001b[49m\u001b[43mconn\u001b[49m\u001b[43m,\u001b[49m\n\u001b[0;32m    795\u001b[0m \u001b[43m    \u001b[49m\u001b[43mmethod\u001b[49m\u001b[43m,\u001b[49m\n\u001b[0;32m    796\u001b[0m \u001b[43m    \u001b[49m\u001b[43murl\u001b[49m\u001b[43m,\u001b[49m\n\u001b[0;32m    797\u001b[0m \u001b[43m    \u001b[49m\u001b[43mtimeout\u001b[49m\u001b[38;5;241;43m=\u001b[39;49m\u001b[43mtimeout_obj\u001b[49m\u001b[43m,\u001b[49m\n\u001b[0;32m    798\u001b[0m \u001b[43m    \u001b[49m\u001b[43mbody\u001b[49m\u001b[38;5;241;43m=\u001b[39;49m\u001b[43mbody\u001b[49m\u001b[43m,\u001b[49m\n\u001b[0;32m    799\u001b[0m \u001b[43m    \u001b[49m\u001b[43mheaders\u001b[49m\u001b[38;5;241;43m=\u001b[39;49m\u001b[43mheaders\u001b[49m\u001b[43m,\u001b[49m\n\u001b[0;32m    800\u001b[0m \u001b[43m    \u001b[49m\u001b[43mchunked\u001b[49m\u001b[38;5;241;43m=\u001b[39;49m\u001b[43mchunked\u001b[49m\u001b[43m,\u001b[49m\n\u001b[0;32m    801\u001b[0m \u001b[43m    \u001b[49m\u001b[43mretries\u001b[49m\u001b[38;5;241;43m=\u001b[39;49m\u001b[43mretries\u001b[49m\u001b[43m,\u001b[49m\n\u001b[0;32m    802\u001b[0m \u001b[43m    \u001b[49m\u001b[43mresponse_conn\u001b[49m\u001b[38;5;241;43m=\u001b[39;49m\u001b[43mresponse_conn\u001b[49m\u001b[43m,\u001b[49m\n\u001b[0;32m    803\u001b[0m \u001b[43m    \u001b[49m\u001b[43mpreload_content\u001b[49m\u001b[38;5;241;43m=\u001b[39;49m\u001b[43mpreload_content\u001b[49m\u001b[43m,\u001b[49m\n\u001b[0;32m    804\u001b[0m \u001b[43m    \u001b[49m\u001b[43mdecode_content\u001b[49m\u001b[38;5;241;43m=\u001b[39;49m\u001b[43mdecode_content\u001b[49m\u001b[43m,\u001b[49m\n\u001b[0;32m    805\u001b[0m \u001b[43m    \u001b[49m\u001b[38;5;241;43m*\u001b[39;49m\u001b[38;5;241;43m*\u001b[39;49m\u001b[43mresponse_kw\u001b[49m\u001b[43m,\u001b[49m\n\u001b[0;32m    806\u001b[0m \u001b[43m\u001b[49m\u001b[43m)\u001b[49m\n\u001b[0;32m    808\u001b[0m \u001b[38;5;66;03m# Everything went great!\u001b[39;00m\n",
      "File \u001b[1;32mc:\\Users\\HP PROBOOK\\AppData\\Local\\Programs\\Python\\Python312\\Lib\\site-packages\\urllib3\\connectionpool.py:491\u001b[0m, in \u001b[0;36mHTTPConnectionPool._make_request\u001b[1;34m(self, conn, method, url, body, headers, retries, timeout, chunked, response_conn, preload_content, decode_content, enforce_content_length)\u001b[0m\n\u001b[0;32m    490\u001b[0m         new_e \u001b[38;5;241m=\u001b[39m _wrap_proxy_error(new_e, conn\u001b[38;5;241m.\u001b[39mproxy\u001b[38;5;241m.\u001b[39mscheme)\n\u001b[1;32m--> 491\u001b[0m     \u001b[38;5;28;01mraise\u001b[39;00m new_e\n\u001b[0;32m    493\u001b[0m \u001b[38;5;66;03m# conn.request() calls http.client.*.request, not the method in\u001b[39;00m\n\u001b[0;32m    494\u001b[0m \u001b[38;5;66;03m# urllib3.request. It also calls makefile (recv) on the socket.\u001b[39;00m\n",
      "File \u001b[1;32mc:\\Users\\HP PROBOOK\\AppData\\Local\\Programs\\Python\\Python312\\Lib\\site-packages\\urllib3\\connectionpool.py:467\u001b[0m, in \u001b[0;36mHTTPConnectionPool._make_request\u001b[1;34m(self, conn, method, url, body, headers, retries, timeout, chunked, response_conn, preload_content, decode_content, enforce_content_length)\u001b[0m\n\u001b[0;32m    466\u001b[0m \u001b[38;5;28;01mtry\u001b[39;00m:\n\u001b[1;32m--> 467\u001b[0m     \u001b[38;5;28;43mself\u001b[39;49m\u001b[38;5;241;43m.\u001b[39;49m\u001b[43m_validate_conn\u001b[49m\u001b[43m(\u001b[49m\u001b[43mconn\u001b[49m\u001b[43m)\u001b[49m\n\u001b[0;32m    468\u001b[0m \u001b[38;5;28;01mexcept\u001b[39;00m (SocketTimeout, BaseSSLError) \u001b[38;5;28;01mas\u001b[39;00m e:\n",
      "File \u001b[1;32mc:\\Users\\HP PROBOOK\\AppData\\Local\\Programs\\Python\\Python312\\Lib\\site-packages\\urllib3\\connectionpool.py:1099\u001b[0m, in \u001b[0;36mHTTPSConnectionPool._validate_conn\u001b[1;34m(self, conn)\u001b[0m\n\u001b[0;32m   1098\u001b[0m \u001b[38;5;28;01mif\u001b[39;00m conn\u001b[38;5;241m.\u001b[39mis_closed:\n\u001b[1;32m-> 1099\u001b[0m     \u001b[43mconn\u001b[49m\u001b[38;5;241;43m.\u001b[39;49m\u001b[43mconnect\u001b[49m\u001b[43m(\u001b[49m\u001b[43m)\u001b[49m\n\u001b[0;32m   1101\u001b[0m \u001b[38;5;66;03m# TODO revise this, see https://github.com/urllib3/urllib3/issues/2791\u001b[39;00m\n",
      "File \u001b[1;32mc:\\Users\\HP PROBOOK\\AppData\\Local\\Programs\\Python\\Python312\\Lib\\site-packages\\urllib3\\connection.py:616\u001b[0m, in \u001b[0;36mHTTPSConnection.connect\u001b[1;34m(self)\u001b[0m\n\u001b[0;32m    615\u001b[0m sock: socket\u001b[38;5;241m.\u001b[39msocket \u001b[38;5;241m|\u001b[39m ssl\u001b[38;5;241m.\u001b[39mSSLSocket\n\u001b[1;32m--> 616\u001b[0m \u001b[38;5;28mself\u001b[39m\u001b[38;5;241m.\u001b[39msock \u001b[38;5;241m=\u001b[39m sock \u001b[38;5;241m=\u001b[39m \u001b[38;5;28;43mself\u001b[39;49m\u001b[38;5;241;43m.\u001b[39;49m\u001b[43m_new_conn\u001b[49m\u001b[43m(\u001b[49m\u001b[43m)\u001b[49m\n\u001b[0;32m    617\u001b[0m server_hostname: \u001b[38;5;28mstr\u001b[39m \u001b[38;5;241m=\u001b[39m \u001b[38;5;28mself\u001b[39m\u001b[38;5;241m.\u001b[39mhost\n",
      "File \u001b[1;32mc:\\Users\\HP PROBOOK\\AppData\\Local\\Programs\\Python\\Python312\\Lib\\site-packages\\urllib3\\connection.py:205\u001b[0m, in \u001b[0;36mHTTPConnection._new_conn\u001b[1;34m(self)\u001b[0m\n\u001b[0;32m    204\u001b[0m \u001b[38;5;28;01mexcept\u001b[39;00m socket\u001b[38;5;241m.\u001b[39mgaierror \u001b[38;5;28;01mas\u001b[39;00m e:\n\u001b[1;32m--> 205\u001b[0m     \u001b[38;5;28;01mraise\u001b[39;00m NameResolutionError(\u001b[38;5;28mself\u001b[39m\u001b[38;5;241m.\u001b[39mhost, \u001b[38;5;28mself\u001b[39m, e) \u001b[38;5;28;01mfrom\u001b[39;00m \u001b[38;5;21;01me\u001b[39;00m\n\u001b[0;32m    206\u001b[0m \u001b[38;5;28;01mexcept\u001b[39;00m SocketTimeout \u001b[38;5;28;01mas\u001b[39;00m e:\n",
      "\u001b[1;31mNameResolutionError\u001b[0m: <urllib3.connection.HTTPSConnection object at 0x000001D67CD03680>: Failed to resolve 'nominatim.openstreetmap.org' ([Errno 11001] getaddrinfo failed)",
      "\nThe above exception was the direct cause of the following exception:\n",
      "\u001b[1;31mMaxRetryError\u001b[0m                             Traceback (most recent call last)",
      "File \u001b[1;32mc:\\Users\\HP PROBOOK\\AppData\\Local\\Programs\\Python\\Python312\\Lib\\site-packages\\requests\\adapters.py:667\u001b[0m, in \u001b[0;36mHTTPAdapter.send\u001b[1;34m(self, request, stream, timeout, verify, cert, proxies)\u001b[0m\n\u001b[0;32m    666\u001b[0m \u001b[38;5;28;01mtry\u001b[39;00m:\n\u001b[1;32m--> 667\u001b[0m     resp \u001b[38;5;241m=\u001b[39m \u001b[43mconn\u001b[49m\u001b[38;5;241;43m.\u001b[39;49m\u001b[43murlopen\u001b[49m\u001b[43m(\u001b[49m\n\u001b[0;32m    668\u001b[0m \u001b[43m        \u001b[49m\u001b[43mmethod\u001b[49m\u001b[38;5;241;43m=\u001b[39;49m\u001b[43mrequest\u001b[49m\u001b[38;5;241;43m.\u001b[39;49m\u001b[43mmethod\u001b[49m\u001b[43m,\u001b[49m\n\u001b[0;32m    669\u001b[0m \u001b[43m        \u001b[49m\u001b[43murl\u001b[49m\u001b[38;5;241;43m=\u001b[39;49m\u001b[43murl\u001b[49m\u001b[43m,\u001b[49m\n\u001b[0;32m    670\u001b[0m \u001b[43m        \u001b[49m\u001b[43mbody\u001b[49m\u001b[38;5;241;43m=\u001b[39;49m\u001b[43mrequest\u001b[49m\u001b[38;5;241;43m.\u001b[39;49m\u001b[43mbody\u001b[49m\u001b[43m,\u001b[49m\n\u001b[0;32m    671\u001b[0m \u001b[43m        \u001b[49m\u001b[43mheaders\u001b[49m\u001b[38;5;241;43m=\u001b[39;49m\u001b[43mrequest\u001b[49m\u001b[38;5;241;43m.\u001b[39;49m\u001b[43mheaders\u001b[49m\u001b[43m,\u001b[49m\n\u001b[0;32m    672\u001b[0m \u001b[43m        \u001b[49m\u001b[43mredirect\u001b[49m\u001b[38;5;241;43m=\u001b[39;49m\u001b[38;5;28;43;01mFalse\u001b[39;49;00m\u001b[43m,\u001b[49m\n\u001b[0;32m    673\u001b[0m \u001b[43m        \u001b[49m\u001b[43massert_same_host\u001b[49m\u001b[38;5;241;43m=\u001b[39;49m\u001b[38;5;28;43;01mFalse\u001b[39;49;00m\u001b[43m,\u001b[49m\n\u001b[0;32m    674\u001b[0m \u001b[43m        \u001b[49m\u001b[43mpreload_content\u001b[49m\u001b[38;5;241;43m=\u001b[39;49m\u001b[38;5;28;43;01mFalse\u001b[39;49;00m\u001b[43m,\u001b[49m\n\u001b[0;32m    675\u001b[0m \u001b[43m        \u001b[49m\u001b[43mdecode_content\u001b[49m\u001b[38;5;241;43m=\u001b[39;49m\u001b[38;5;28;43;01mFalse\u001b[39;49;00m\u001b[43m,\u001b[49m\n\u001b[0;32m    676\u001b[0m \u001b[43m        \u001b[49m\u001b[43mretries\u001b[49m\u001b[38;5;241;43m=\u001b[39;49m\u001b[38;5;28;43mself\u001b[39;49m\u001b[38;5;241;43m.\u001b[39;49m\u001b[43mmax_retries\u001b[49m\u001b[43m,\u001b[49m\n\u001b[0;32m    677\u001b[0m \u001b[43m        \u001b[49m\u001b[43mtimeout\u001b[49m\u001b[38;5;241;43m=\u001b[39;49m\u001b[43mtimeout\u001b[49m\u001b[43m,\u001b[49m\n\u001b[0;32m    678\u001b[0m \u001b[43m        \u001b[49m\u001b[43mchunked\u001b[49m\u001b[38;5;241;43m=\u001b[39;49m\u001b[43mchunked\u001b[49m\u001b[43m,\u001b[49m\n\u001b[0;32m    679\u001b[0m \u001b[43m    \u001b[49m\u001b[43m)\u001b[49m\n\u001b[0;32m    681\u001b[0m \u001b[38;5;28;01mexcept\u001b[39;00m (ProtocolError, \u001b[38;5;167;01mOSError\u001b[39;00m) \u001b[38;5;28;01mas\u001b[39;00m err:\n",
      "File \u001b[1;32mc:\\Users\\HP PROBOOK\\AppData\\Local\\Programs\\Python\\Python312\\Lib\\site-packages\\urllib3\\connectionpool.py:877\u001b[0m, in \u001b[0;36mHTTPConnectionPool.urlopen\u001b[1;34m(self, method, url, body, headers, retries, redirect, assert_same_host, timeout, pool_timeout, release_conn, chunked, body_pos, preload_content, decode_content, **response_kw)\u001b[0m\n\u001b[0;32m    874\u001b[0m     log\u001b[38;5;241m.\u001b[39mwarning(\n\u001b[0;32m    875\u001b[0m         \u001b[38;5;124m\"\u001b[39m\u001b[38;5;124mRetrying (\u001b[39m\u001b[38;5;132;01m%r\u001b[39;00m\u001b[38;5;124m) after connection broken by \u001b[39m\u001b[38;5;124m'\u001b[39m\u001b[38;5;132;01m%r\u001b[39;00m\u001b[38;5;124m'\u001b[39m\u001b[38;5;124m: \u001b[39m\u001b[38;5;132;01m%s\u001b[39;00m\u001b[38;5;124m\"\u001b[39m, retries, err, url\n\u001b[0;32m    876\u001b[0m     )\n\u001b[1;32m--> 877\u001b[0m     \u001b[38;5;28;01mreturn\u001b[39;00m \u001b[38;5;28;43mself\u001b[39;49m\u001b[38;5;241;43m.\u001b[39;49m\u001b[43murlopen\u001b[49m\u001b[43m(\u001b[49m\n\u001b[0;32m    878\u001b[0m \u001b[43m        \u001b[49m\u001b[43mmethod\u001b[49m\u001b[43m,\u001b[49m\n\u001b[0;32m    879\u001b[0m \u001b[43m        \u001b[49m\u001b[43murl\u001b[49m\u001b[43m,\u001b[49m\n\u001b[0;32m    880\u001b[0m \u001b[43m        \u001b[49m\u001b[43mbody\u001b[49m\u001b[43m,\u001b[49m\n\u001b[0;32m    881\u001b[0m \u001b[43m        \u001b[49m\u001b[43mheaders\u001b[49m\u001b[43m,\u001b[49m\n\u001b[0;32m    882\u001b[0m \u001b[43m        \u001b[49m\u001b[43mretries\u001b[49m\u001b[43m,\u001b[49m\n\u001b[0;32m    883\u001b[0m \u001b[43m        \u001b[49m\u001b[43mredirect\u001b[49m\u001b[43m,\u001b[49m\n\u001b[0;32m    884\u001b[0m \u001b[43m        \u001b[49m\u001b[43massert_same_host\u001b[49m\u001b[43m,\u001b[49m\n\u001b[0;32m    885\u001b[0m \u001b[43m        \u001b[49m\u001b[43mtimeout\u001b[49m\u001b[38;5;241;43m=\u001b[39;49m\u001b[43mtimeout\u001b[49m\u001b[43m,\u001b[49m\n\u001b[0;32m    886\u001b[0m \u001b[43m        \u001b[49m\u001b[43mpool_timeout\u001b[49m\u001b[38;5;241;43m=\u001b[39;49m\u001b[43mpool_timeout\u001b[49m\u001b[43m,\u001b[49m\n\u001b[0;32m    887\u001b[0m \u001b[43m        \u001b[49m\u001b[43mrelease_conn\u001b[49m\u001b[38;5;241;43m=\u001b[39;49m\u001b[43mrelease_conn\u001b[49m\u001b[43m,\u001b[49m\n\u001b[0;32m    888\u001b[0m \u001b[43m        \u001b[49m\u001b[43mchunked\u001b[49m\u001b[38;5;241;43m=\u001b[39;49m\u001b[43mchunked\u001b[49m\u001b[43m,\u001b[49m\n\u001b[0;32m    889\u001b[0m \u001b[43m        \u001b[49m\u001b[43mbody_pos\u001b[49m\u001b[38;5;241;43m=\u001b[39;49m\u001b[43mbody_pos\u001b[49m\u001b[43m,\u001b[49m\n\u001b[0;32m    890\u001b[0m \u001b[43m        \u001b[49m\u001b[43mpreload_content\u001b[49m\u001b[38;5;241;43m=\u001b[39;49m\u001b[43mpreload_content\u001b[49m\u001b[43m,\u001b[49m\n\u001b[0;32m    891\u001b[0m \u001b[43m        \u001b[49m\u001b[43mdecode_content\u001b[49m\u001b[38;5;241;43m=\u001b[39;49m\u001b[43mdecode_content\u001b[49m\u001b[43m,\u001b[49m\n\u001b[0;32m    892\u001b[0m \u001b[43m        \u001b[49m\u001b[38;5;241;43m*\u001b[39;49m\u001b[38;5;241;43m*\u001b[39;49m\u001b[43mresponse_kw\u001b[49m\u001b[43m,\u001b[49m\n\u001b[0;32m    893\u001b[0m \u001b[43m    \u001b[49m\u001b[43m)\u001b[49m\n\u001b[0;32m    895\u001b[0m \u001b[38;5;66;03m# Handle redirect?\u001b[39;00m\n",
      "File \u001b[1;32mc:\\Users\\HP PROBOOK\\AppData\\Local\\Programs\\Python\\Python312\\Lib\\site-packages\\urllib3\\connectionpool.py:877\u001b[0m, in \u001b[0;36mHTTPConnectionPool.urlopen\u001b[1;34m(self, method, url, body, headers, retries, redirect, assert_same_host, timeout, pool_timeout, release_conn, chunked, body_pos, preload_content, decode_content, **response_kw)\u001b[0m\n\u001b[0;32m    874\u001b[0m     log\u001b[38;5;241m.\u001b[39mwarning(\n\u001b[0;32m    875\u001b[0m         \u001b[38;5;124m\"\u001b[39m\u001b[38;5;124mRetrying (\u001b[39m\u001b[38;5;132;01m%r\u001b[39;00m\u001b[38;5;124m) after connection broken by \u001b[39m\u001b[38;5;124m'\u001b[39m\u001b[38;5;132;01m%r\u001b[39;00m\u001b[38;5;124m'\u001b[39m\u001b[38;5;124m: \u001b[39m\u001b[38;5;132;01m%s\u001b[39;00m\u001b[38;5;124m\"\u001b[39m, retries, err, url\n\u001b[0;32m    876\u001b[0m     )\n\u001b[1;32m--> 877\u001b[0m     \u001b[38;5;28;01mreturn\u001b[39;00m \u001b[38;5;28;43mself\u001b[39;49m\u001b[38;5;241;43m.\u001b[39;49m\u001b[43murlopen\u001b[49m\u001b[43m(\u001b[49m\n\u001b[0;32m    878\u001b[0m \u001b[43m        \u001b[49m\u001b[43mmethod\u001b[49m\u001b[43m,\u001b[49m\n\u001b[0;32m    879\u001b[0m \u001b[43m        \u001b[49m\u001b[43murl\u001b[49m\u001b[43m,\u001b[49m\n\u001b[0;32m    880\u001b[0m \u001b[43m        \u001b[49m\u001b[43mbody\u001b[49m\u001b[43m,\u001b[49m\n\u001b[0;32m    881\u001b[0m \u001b[43m        \u001b[49m\u001b[43mheaders\u001b[49m\u001b[43m,\u001b[49m\n\u001b[0;32m    882\u001b[0m \u001b[43m        \u001b[49m\u001b[43mretries\u001b[49m\u001b[43m,\u001b[49m\n\u001b[0;32m    883\u001b[0m \u001b[43m        \u001b[49m\u001b[43mredirect\u001b[49m\u001b[43m,\u001b[49m\n\u001b[0;32m    884\u001b[0m \u001b[43m        \u001b[49m\u001b[43massert_same_host\u001b[49m\u001b[43m,\u001b[49m\n\u001b[0;32m    885\u001b[0m \u001b[43m        \u001b[49m\u001b[43mtimeout\u001b[49m\u001b[38;5;241;43m=\u001b[39;49m\u001b[43mtimeout\u001b[49m\u001b[43m,\u001b[49m\n\u001b[0;32m    886\u001b[0m \u001b[43m        \u001b[49m\u001b[43mpool_timeout\u001b[49m\u001b[38;5;241;43m=\u001b[39;49m\u001b[43mpool_timeout\u001b[49m\u001b[43m,\u001b[49m\n\u001b[0;32m    887\u001b[0m \u001b[43m        \u001b[49m\u001b[43mrelease_conn\u001b[49m\u001b[38;5;241;43m=\u001b[39;49m\u001b[43mrelease_conn\u001b[49m\u001b[43m,\u001b[49m\n\u001b[0;32m    888\u001b[0m \u001b[43m        \u001b[49m\u001b[43mchunked\u001b[49m\u001b[38;5;241;43m=\u001b[39;49m\u001b[43mchunked\u001b[49m\u001b[43m,\u001b[49m\n\u001b[0;32m    889\u001b[0m \u001b[43m        \u001b[49m\u001b[43mbody_pos\u001b[49m\u001b[38;5;241;43m=\u001b[39;49m\u001b[43mbody_pos\u001b[49m\u001b[43m,\u001b[49m\n\u001b[0;32m    890\u001b[0m \u001b[43m        \u001b[49m\u001b[43mpreload_content\u001b[49m\u001b[38;5;241;43m=\u001b[39;49m\u001b[43mpreload_content\u001b[49m\u001b[43m,\u001b[49m\n\u001b[0;32m    891\u001b[0m \u001b[43m        \u001b[49m\u001b[43mdecode_content\u001b[49m\u001b[38;5;241;43m=\u001b[39;49m\u001b[43mdecode_content\u001b[49m\u001b[43m,\u001b[49m\n\u001b[0;32m    892\u001b[0m \u001b[43m        \u001b[49m\u001b[38;5;241;43m*\u001b[39;49m\u001b[38;5;241;43m*\u001b[39;49m\u001b[43mresponse_kw\u001b[49m\u001b[43m,\u001b[49m\n\u001b[0;32m    893\u001b[0m \u001b[43m    \u001b[49m\u001b[43m)\u001b[49m\n\u001b[0;32m    895\u001b[0m \u001b[38;5;66;03m# Handle redirect?\u001b[39;00m\n",
      "File \u001b[1;32mc:\\Users\\HP PROBOOK\\AppData\\Local\\Programs\\Python\\Python312\\Lib\\site-packages\\urllib3\\connectionpool.py:847\u001b[0m, in \u001b[0;36mHTTPConnectionPool.urlopen\u001b[1;34m(self, method, url, body, headers, retries, redirect, assert_same_host, timeout, pool_timeout, release_conn, chunked, body_pos, preload_content, decode_content, **response_kw)\u001b[0m\n\u001b[0;32m    845\u001b[0m     new_e \u001b[38;5;241m=\u001b[39m ProtocolError(\u001b[38;5;124m\"\u001b[39m\u001b[38;5;124mConnection aborted.\u001b[39m\u001b[38;5;124m\"\u001b[39m, new_e)\n\u001b[1;32m--> 847\u001b[0m retries \u001b[38;5;241m=\u001b[39m \u001b[43mretries\u001b[49m\u001b[38;5;241;43m.\u001b[39;49m\u001b[43mincrement\u001b[49m\u001b[43m(\u001b[49m\n\u001b[0;32m    848\u001b[0m \u001b[43m    \u001b[49m\u001b[43mmethod\u001b[49m\u001b[43m,\u001b[49m\u001b[43m \u001b[49m\u001b[43murl\u001b[49m\u001b[43m,\u001b[49m\u001b[43m \u001b[49m\u001b[43merror\u001b[49m\u001b[38;5;241;43m=\u001b[39;49m\u001b[43mnew_e\u001b[49m\u001b[43m,\u001b[49m\u001b[43m \u001b[49m\u001b[43m_pool\u001b[49m\u001b[38;5;241;43m=\u001b[39;49m\u001b[38;5;28;43mself\u001b[39;49m\u001b[43m,\u001b[49m\u001b[43m \u001b[49m\u001b[43m_stacktrace\u001b[49m\u001b[38;5;241;43m=\u001b[39;49m\u001b[43msys\u001b[49m\u001b[38;5;241;43m.\u001b[39;49m\u001b[43mexc_info\u001b[49m\u001b[43m(\u001b[49m\u001b[43m)\u001b[49m\u001b[43m[\u001b[49m\u001b[38;5;241;43m2\u001b[39;49m\u001b[43m]\u001b[49m\n\u001b[0;32m    849\u001b[0m \u001b[43m\u001b[49m\u001b[43m)\u001b[49m\n\u001b[0;32m    850\u001b[0m retries\u001b[38;5;241m.\u001b[39msleep()\n",
      "File \u001b[1;32mc:\\Users\\HP PROBOOK\\AppData\\Local\\Programs\\Python\\Python312\\Lib\\site-packages\\urllib3\\util\\retry.py:515\u001b[0m, in \u001b[0;36mRetry.increment\u001b[1;34m(self, method, url, response, error, _pool, _stacktrace)\u001b[0m\n\u001b[0;32m    514\u001b[0m     reason \u001b[38;5;241m=\u001b[39m error \u001b[38;5;129;01mor\u001b[39;00m ResponseError(cause)\n\u001b[1;32m--> 515\u001b[0m     \u001b[38;5;28;01mraise\u001b[39;00m MaxRetryError(_pool, url, reason) \u001b[38;5;28;01mfrom\u001b[39;00m \u001b[38;5;21;01mreason\u001b[39;00m  \u001b[38;5;66;03m# type: ignore[arg-type]\u001b[39;00m\n\u001b[0;32m    517\u001b[0m log\u001b[38;5;241m.\u001b[39mdebug(\u001b[38;5;124m\"\u001b[39m\u001b[38;5;124mIncremented Retry for (url=\u001b[39m\u001b[38;5;124m'\u001b[39m\u001b[38;5;132;01m%s\u001b[39;00m\u001b[38;5;124m'\u001b[39m\u001b[38;5;124m): \u001b[39m\u001b[38;5;132;01m%r\u001b[39;00m\u001b[38;5;124m\"\u001b[39m, url, new_retry)\n",
      "\u001b[1;31mMaxRetryError\u001b[0m: HTTPSConnectionPool(host='nominatim.openstreetmap.org', port=443): Max retries exceeded with url: /search?q=New+Fairfield&format=json&limit=1 (Caused by NameResolutionError(\"<urllib3.connection.HTTPSConnection object at 0x000001D67CD03680>: Failed to resolve 'nominatim.openstreetmap.org' ([Errno 11001] getaddrinfo failed)\"))",
      "\nDuring handling of the above exception, another exception occurred:\n",
      "\u001b[1;31mConnectionError\u001b[0m                           Traceback (most recent call last)",
      "File \u001b[1;32mc:\\Users\\HP PROBOOK\\AppData\\Local\\Programs\\Python\\Python312\\Lib\\site-packages\\geopy\\adapters.py:482\u001b[0m, in \u001b[0;36mRequestsAdapter._request\u001b[1;34m(self, url, timeout, headers)\u001b[0m\n\u001b[0;32m    481\u001b[0m \u001b[38;5;28;01mtry\u001b[39;00m:\n\u001b[1;32m--> 482\u001b[0m     resp \u001b[38;5;241m=\u001b[39m \u001b[38;5;28;43mself\u001b[39;49m\u001b[38;5;241;43m.\u001b[39;49m\u001b[43msession\u001b[49m\u001b[38;5;241;43m.\u001b[39;49m\u001b[43mget\u001b[49m\u001b[43m(\u001b[49m\u001b[43murl\u001b[49m\u001b[43m,\u001b[49m\u001b[43m \u001b[49m\u001b[43mtimeout\u001b[49m\u001b[38;5;241;43m=\u001b[39;49m\u001b[43mtimeout\u001b[49m\u001b[43m,\u001b[49m\u001b[43m \u001b[49m\u001b[43mheaders\u001b[49m\u001b[38;5;241;43m=\u001b[39;49m\u001b[43mheaders\u001b[49m\u001b[43m)\u001b[49m\n\u001b[0;32m    483\u001b[0m \u001b[38;5;28;01mexcept\u001b[39;00m \u001b[38;5;167;01mException\u001b[39;00m \u001b[38;5;28;01mas\u001b[39;00m error:\n",
      "File \u001b[1;32mc:\\Users\\HP PROBOOK\\AppData\\Local\\Programs\\Python\\Python312\\Lib\\site-packages\\requests\\sessions.py:602\u001b[0m, in \u001b[0;36mSession.get\u001b[1;34m(self, url, **kwargs)\u001b[0m\n\u001b[0;32m    601\u001b[0m kwargs\u001b[38;5;241m.\u001b[39msetdefault(\u001b[38;5;124m\"\u001b[39m\u001b[38;5;124mallow_redirects\u001b[39m\u001b[38;5;124m\"\u001b[39m, \u001b[38;5;28;01mTrue\u001b[39;00m)\n\u001b[1;32m--> 602\u001b[0m \u001b[38;5;28;01mreturn\u001b[39;00m \u001b[38;5;28;43mself\u001b[39;49m\u001b[38;5;241;43m.\u001b[39;49m\u001b[43mrequest\u001b[49m\u001b[43m(\u001b[49m\u001b[38;5;124;43m\"\u001b[39;49m\u001b[38;5;124;43mGET\u001b[39;49m\u001b[38;5;124;43m\"\u001b[39;49m\u001b[43m,\u001b[49m\u001b[43m \u001b[49m\u001b[43murl\u001b[49m\u001b[43m,\u001b[49m\u001b[43m \u001b[49m\u001b[38;5;241;43m*\u001b[39;49m\u001b[38;5;241;43m*\u001b[39;49m\u001b[43mkwargs\u001b[49m\u001b[43m)\u001b[49m\n",
      "File \u001b[1;32mc:\\Users\\HP PROBOOK\\AppData\\Local\\Programs\\Python\\Python312\\Lib\\site-packages\\requests\\sessions.py:589\u001b[0m, in \u001b[0;36mSession.request\u001b[1;34m(self, method, url, params, data, headers, cookies, files, auth, timeout, allow_redirects, proxies, hooks, stream, verify, cert, json)\u001b[0m\n\u001b[0;32m    588\u001b[0m send_kwargs\u001b[38;5;241m.\u001b[39mupdate(settings)\n\u001b[1;32m--> 589\u001b[0m resp \u001b[38;5;241m=\u001b[39m \u001b[38;5;28;43mself\u001b[39;49m\u001b[38;5;241;43m.\u001b[39;49m\u001b[43msend\u001b[49m\u001b[43m(\u001b[49m\u001b[43mprep\u001b[49m\u001b[43m,\u001b[49m\u001b[43m \u001b[49m\u001b[38;5;241;43m*\u001b[39;49m\u001b[38;5;241;43m*\u001b[39;49m\u001b[43msend_kwargs\u001b[49m\u001b[43m)\u001b[49m\n\u001b[0;32m    591\u001b[0m \u001b[38;5;28;01mreturn\u001b[39;00m resp\n",
      "File \u001b[1;32mc:\\Users\\HP PROBOOK\\AppData\\Local\\Programs\\Python\\Python312\\Lib\\site-packages\\requests\\sessions.py:703\u001b[0m, in \u001b[0;36mSession.send\u001b[1;34m(self, request, **kwargs)\u001b[0m\n\u001b[0;32m    702\u001b[0m \u001b[38;5;66;03m# Send the request\u001b[39;00m\n\u001b[1;32m--> 703\u001b[0m r \u001b[38;5;241m=\u001b[39m \u001b[43madapter\u001b[49m\u001b[38;5;241;43m.\u001b[39;49m\u001b[43msend\u001b[49m\u001b[43m(\u001b[49m\u001b[43mrequest\u001b[49m\u001b[43m,\u001b[49m\u001b[43m \u001b[49m\u001b[38;5;241;43m*\u001b[39;49m\u001b[38;5;241;43m*\u001b[39;49m\u001b[43mkwargs\u001b[49m\u001b[43m)\u001b[49m\n\u001b[0;32m    705\u001b[0m \u001b[38;5;66;03m# Total elapsed time of the request (approximately)\u001b[39;00m\n",
      "File \u001b[1;32mc:\\Users\\HP PROBOOK\\AppData\\Local\\Programs\\Python\\Python312\\Lib\\site-packages\\requests\\adapters.py:700\u001b[0m, in \u001b[0;36mHTTPAdapter.send\u001b[1;34m(self, request, stream, timeout, verify, cert, proxies)\u001b[0m\n\u001b[0;32m    698\u001b[0m         \u001b[38;5;28;01mraise\u001b[39;00m SSLError(e, request\u001b[38;5;241m=\u001b[39mrequest)\n\u001b[1;32m--> 700\u001b[0m     \u001b[38;5;28;01mraise\u001b[39;00m \u001b[38;5;167;01mConnectionError\u001b[39;00m(e, request\u001b[38;5;241m=\u001b[39mrequest)\n\u001b[0;32m    702\u001b[0m \u001b[38;5;28;01mexcept\u001b[39;00m ClosedPoolError \u001b[38;5;28;01mas\u001b[39;00m e:\n",
      "\u001b[1;31mConnectionError\u001b[0m: HTTPSConnectionPool(host='nominatim.openstreetmap.org', port=443): Max retries exceeded with url: /search?q=New+Fairfield&format=json&limit=1 (Caused by NameResolutionError(\"<urllib3.connection.HTTPSConnection object at 0x000001D67CD03680>: Failed to resolve 'nominatim.openstreetmap.org' ([Errno 11001] getaddrinfo failed)\"))",
      "\nDuring handling of the above exception, another exception occurred:\n",
      "\u001b[1;31mGeocoderUnavailable\u001b[0m                       Traceback (most recent call last)",
      "Cell \u001b[1;32mIn[107], line 35\u001b[0m\n\u001b[0;32m     33\u001b[0m city_Start \u001b[38;5;241m=\u001b[39m \u001b[38;5;124m\"\u001b[39m\u001b[38;5;124mNew Fairfield\u001b[39m\u001b[38;5;124m\"\u001b[39m \u001b[38;5;66;03m# city start A\u001b[39;00m\n\u001b[0;32m     34\u001b[0m city_End \u001b[38;5;241m=\u001b[39m \u001b[38;5;124m\"\u001b[39m\u001b[38;5;124mDanbury\u001b[39m\u001b[38;5;124m\"\u001b[39m \u001b[38;5;66;03m# city start B\u001b[39;00m\n\u001b[1;32m---> 35\u001b[0m Starting_location \u001b[38;5;241m=\u001b[39m \u001b[43mget_coordinates\u001b[49m\u001b[43m(\u001b[49m\u001b[43mcity_A\u001b[49m\u001b[43m)\u001b[49m\n\u001b[0;32m     36\u001b[0m Destination \u001b[38;5;241m=\u001b[39m get_coordinates(city_B)\n\u001b[0;32m     38\u001b[0m \u001b[38;5;66;03m# distance_to_A is Distance from each charging station to the starting location (City Start).\u001b[39;00m\n\u001b[0;32m     39\u001b[0m \u001b[38;5;66;03m# distance_to_B: Distance from each charging station to the destination (City B).\u001b[39;00m\n\u001b[0;32m     40\u001b[0m \n\u001b[0;32m     41\u001b[0m \u001b[38;5;66;03m# Pre-calculate distances from each station to starting and ending points\u001b[39;00m\n",
      "Cell \u001b[1;32mIn[107], line 11\u001b[0m, in \u001b[0;36mget_coordinates\u001b[1;34m(city_name)\u001b[0m\n\u001b[0;32m     10\u001b[0m \u001b[38;5;28;01mdef\u001b[39;00m \u001b[38;5;21mget_coordinates\u001b[39m(city_name):\n\u001b[1;32m---> 11\u001b[0m     location \u001b[38;5;241m=\u001b[39m \u001b[43mgeolocator\u001b[49m\u001b[38;5;241;43m.\u001b[39;49m\u001b[43mgeocode\u001b[49m\u001b[43m(\u001b[49m\u001b[43mcity_name\u001b[49m\u001b[43m)\u001b[49m\n\u001b[0;32m     12\u001b[0m     \u001b[38;5;28;01mif\u001b[39;00m location:\n\u001b[0;32m     13\u001b[0m         \u001b[38;5;28;01mreturn\u001b[39;00m (location\u001b[38;5;241m.\u001b[39mlatitude, location\u001b[38;5;241m.\u001b[39mlongitude)\n",
      "File \u001b[1;32mc:\\Users\\HP PROBOOK\\AppData\\Local\\Programs\\Python\\Python312\\Lib\\site-packages\\geopy\\geocoders\\nominatim.py:297\u001b[0m, in \u001b[0;36mNominatim.geocode\u001b[1;34m(self, query, exactly_one, timeout, limit, addressdetails, language, geometry, extratags, country_codes, viewbox, bounded, featuretype, namedetails)\u001b[0m\n\u001b[0;32m    295\u001b[0m logger\u001b[38;5;241m.\u001b[39mdebug(\u001b[38;5;124m\"\u001b[39m\u001b[38;5;132;01m%s\u001b[39;00m\u001b[38;5;124m.geocode: \u001b[39m\u001b[38;5;132;01m%s\u001b[39;00m\u001b[38;5;124m\"\u001b[39m, \u001b[38;5;28mself\u001b[39m\u001b[38;5;241m.\u001b[39m\u001b[38;5;18m__class__\u001b[39m\u001b[38;5;241m.\u001b[39m\u001b[38;5;18m__name__\u001b[39m, url)\n\u001b[0;32m    296\u001b[0m callback \u001b[38;5;241m=\u001b[39m partial(\u001b[38;5;28mself\u001b[39m\u001b[38;5;241m.\u001b[39m_parse_json, exactly_one\u001b[38;5;241m=\u001b[39mexactly_one)\n\u001b[1;32m--> 297\u001b[0m \u001b[38;5;28;01mreturn\u001b[39;00m \u001b[38;5;28;43mself\u001b[39;49m\u001b[38;5;241;43m.\u001b[39;49m\u001b[43m_call_geocoder\u001b[49m\u001b[43m(\u001b[49m\u001b[43murl\u001b[49m\u001b[43m,\u001b[49m\u001b[43m \u001b[49m\u001b[43mcallback\u001b[49m\u001b[43m,\u001b[49m\u001b[43m \u001b[49m\u001b[43mtimeout\u001b[49m\u001b[38;5;241;43m=\u001b[39;49m\u001b[43mtimeout\u001b[49m\u001b[43m)\u001b[49m\n",
      "File \u001b[1;32mc:\\Users\\HP PROBOOK\\AppData\\Local\\Programs\\Python\\Python312\\Lib\\site-packages\\geopy\\geocoders\\base.py:368\u001b[0m, in \u001b[0;36mGeocoder._call_geocoder\u001b[1;34m(self, url, callback, timeout, is_json, headers)\u001b[0m\n\u001b[0;32m    366\u001b[0m \u001b[38;5;28;01mtry\u001b[39;00m:\n\u001b[0;32m    367\u001b[0m     \u001b[38;5;28;01mif\u001b[39;00m is_json:\n\u001b[1;32m--> 368\u001b[0m         result \u001b[38;5;241m=\u001b[39m \u001b[38;5;28;43mself\u001b[39;49m\u001b[38;5;241;43m.\u001b[39;49m\u001b[43madapter\u001b[49m\u001b[38;5;241;43m.\u001b[39;49m\u001b[43mget_json\u001b[49m\u001b[43m(\u001b[49m\u001b[43murl\u001b[49m\u001b[43m,\u001b[49m\u001b[43m \u001b[49m\u001b[43mtimeout\u001b[49m\u001b[38;5;241;43m=\u001b[39;49m\u001b[43mtimeout\u001b[49m\u001b[43m,\u001b[49m\u001b[43m \u001b[49m\u001b[43mheaders\u001b[49m\u001b[38;5;241;43m=\u001b[39;49m\u001b[43mreq_headers\u001b[49m\u001b[43m)\u001b[49m\n\u001b[0;32m    369\u001b[0m     \u001b[38;5;28;01melse\u001b[39;00m:\n\u001b[0;32m    370\u001b[0m         result \u001b[38;5;241m=\u001b[39m \u001b[38;5;28mself\u001b[39m\u001b[38;5;241m.\u001b[39madapter\u001b[38;5;241m.\u001b[39mget_text(url, timeout\u001b[38;5;241m=\u001b[39mtimeout, headers\u001b[38;5;241m=\u001b[39mreq_headers)\n",
      "File \u001b[1;32mc:\\Users\\HP PROBOOK\\AppData\\Local\\Programs\\Python\\Python312\\Lib\\site-packages\\geopy\\adapters.py:472\u001b[0m, in \u001b[0;36mRequestsAdapter.get_json\u001b[1;34m(self, url, timeout, headers)\u001b[0m\n\u001b[0;32m    471\u001b[0m \u001b[38;5;28;01mdef\u001b[39;00m \u001b[38;5;21mget_json\u001b[39m(\u001b[38;5;28mself\u001b[39m, url, \u001b[38;5;241m*\u001b[39m, timeout, headers):\n\u001b[1;32m--> 472\u001b[0m     resp \u001b[38;5;241m=\u001b[39m \u001b[38;5;28;43mself\u001b[39;49m\u001b[38;5;241;43m.\u001b[39;49m\u001b[43m_request\u001b[49m\u001b[43m(\u001b[49m\u001b[43murl\u001b[49m\u001b[43m,\u001b[49m\u001b[43m \u001b[49m\u001b[43mtimeout\u001b[49m\u001b[38;5;241;43m=\u001b[39;49m\u001b[43mtimeout\u001b[49m\u001b[43m,\u001b[49m\u001b[43m \u001b[49m\u001b[43mheaders\u001b[49m\u001b[38;5;241;43m=\u001b[39;49m\u001b[43mheaders\u001b[49m\u001b[43m)\u001b[49m\n\u001b[0;32m    473\u001b[0m     \u001b[38;5;28;01mtry\u001b[39;00m:\n\u001b[0;32m    474\u001b[0m         \u001b[38;5;28;01mreturn\u001b[39;00m resp\u001b[38;5;241m.\u001b[39mjson()\n",
      "File \u001b[1;32mc:\\Users\\HP PROBOOK\\AppData\\Local\\Programs\\Python\\Python312\\Lib\\site-packages\\geopy\\adapters.py:494\u001b[0m, in \u001b[0;36mRequestsAdapter._request\u001b[1;34m(self, url, timeout, headers)\u001b[0m\n\u001b[0;32m    492\u001b[0m         \u001b[38;5;28;01mraise\u001b[39;00m GeocoderServiceError(message)\n\u001b[0;32m    493\u001b[0m     \u001b[38;5;28;01melse\u001b[39;00m:\n\u001b[1;32m--> 494\u001b[0m         \u001b[38;5;28;01mraise\u001b[39;00m GeocoderUnavailable(message)\n\u001b[0;32m    495\u001b[0m \u001b[38;5;28;01melif\u001b[39;00m \u001b[38;5;28misinstance\u001b[39m(error, requests\u001b[38;5;241m.\u001b[39mTimeout):\n\u001b[0;32m    496\u001b[0m     \u001b[38;5;28;01mraise\u001b[39;00m GeocoderTimedOut(\u001b[38;5;124m\"\u001b[39m\u001b[38;5;124mService timed out\u001b[39m\u001b[38;5;124m\"\u001b[39m)\n",
      "\u001b[1;31mGeocoderUnavailable\u001b[0m: HTTPSConnectionPool(host='nominatim.openstreetmap.org', port=443): Max retries exceeded with url: /search?q=New+Fairfield&format=json&limit=1 (Caused by NameResolutionError(\"<urllib3.connection.HTTPSConnection object at 0x000001D67CD03680>: Failed to resolve 'nominatim.openstreetmap.org' ([Errno 11001] getaddrinfo failed)\"))"
     ]
    }
   ],
   "source": [
    "import pandas as pd\n",
    "from geopy.geocoders import Nominatim\n",
    "from geopy.distance import geodesic\n",
    "import plotly.express as px\n",
    "\n",
    "# Initialize geolocator\n",
    "geolocator = Nominatim(user_agent=\"ev_stations_locator\")\n",
    "\n",
    "# Function to get coordinates from city name\n",
    "def get_coordinates(city_name):\n",
    "    location = geolocator.geocode(city_name)\n",
    "    if location:\n",
    "        return (location.latitude, location.longitude)\n",
    "    else:\n",
    "        raise ValueError(f\"Could not geocode city: {city_name}\")\n",
    "\n",
    "# Function to find the nearest charging station\n",
    "def find_nearest_charging_station(point, stations):\n",
    "    distances = stations.apply(lambda row: geodesic((row['latitude'], row['longitude']), point).kilometers, axis=1)\n",
    "    nearest_index = distances.idxmin()\n",
    "    return stations.loc[nearest_index], distances.min()\n",
    "\n",
    "# Function to find stations along the route\n",
    "def find_stations_along_route(start, end, stations, radius=10):\n",
    "    route_stations = []\n",
    "    for _, row in stations.iterrows():\n",
    "        if geodesic(start, (row['latitude'], row['longitude'])).kilometers <= radius or \\\n",
    "           geodesic(end, (row['latitude'], row['longitude'])).kilometers <= radius:\n",
    "            route_stations.append(row)\n",
    "    return pd.DataFrame(route_stations)\n",
    "\n",
    "# Get coordinates for start and end cities\n",
    "city_Start = \"New Fairfield\" # city start A\n",
    "city_End = \"Danbury\" # city start B\n",
    "Starting_location = get_coordinates(city_A)\n",
    "Destination = get_coordinates(city_B)\n",
    "\n",
    "# distance_to_A is Distance from each charging station to the starting location (City Start).\n",
    "# distance_to_B: Distance from each charging station to the destination (City B).\n",
    "\n",
    "# Pre-calculate distances from each station to starting and ending points\n",
    "newdf['distance_to_A'] = newdf.apply(lambda row: geodesic((row['latitude'], row['longitude']), Starting_location).kilometers, axis=1)\n",
    "newdf['distance_to_B'] = newdf.apply(lambda row: geodesic((row['latitude'], row['longitude']), Destination).kilometers, axis=1)\n",
    "\n",
    "# Find the nearest charging stations to point A and point B\n",
    "nearest_station_A, distance_to_A = find_nearest_charging_station(Starting_location, newdf)\n",
    "nearest_station_B, distance_to_B = find_nearest_charging_station(Destination, newdf)\n",
    "\n",
    "# Find stations along the route\n",
    "stations_along_route = find_stations_along_route(Starting_location, Destination, newdf)\n",
    "\n",
    "# Prepare data for visualization\n",
    "data = {\n",
    "    'name': ['Starting Location', 'Nearest Station A', 'Destination', 'Nearest Station B'] + stations_along_route['Station_Name'].tolist(),\n",
    "    'latitude': [Starting_location[0], nearest_station_A['latitude'], Destination[0], nearest_station_B['latitude']] + stations_along_route['latitude'].tolist(),\n",
    "    'longitude': [Starting_location[1], nearest_station_A['longitude'], Destination[1], nearest_station_B['longitude']] + stations_along_route['longitude'].tolist(),\n",
    "    'type': ['Starting Location', 'Nearest Station A', 'Destination', 'Nearest Station B'] + ['Charging Station'] * len(stations_along_route),\n",
    "    'city': [city_Start, nearest_station_A['City'], city_End, nearest_station_B['City']] + stations_along_route['City'].tolist(),\n",
    "    'street_address': [city_Start, nearest_station_A['Street_Address'], city_End, nearest_station_B['Street_Address']] + stations_along_route['Street_Address'].tolist(),\n",
    "    'distance_to_A': [None] + [distance_to_A] + [None] + [None] + stations_along_route['distance_to_A'].tolist(),\n",
    "    'distance_to_B': [None] + [None] + [None] + [distance_to_B] + stations_along_route['distance_to_B'].tolist()\n",
    "}\n",
    "\n",
    "df_vis = pd.DataFrame(data)\n",
    "\n",
    "# Check if the DataFrame has been prepared correctly\n",
    "print(df_vis.to_string())\n",
    "\n",
    "# Create the map plot\n",
    "fig = px.scatter_mapbox(df_vis, lat='latitude', lon='longitude', text='name', color='type',\n",
    "                        hover_data={'name': True, 'city': True, 'street_address': True,\n",
    "                                    'distance_to_A': True, 'distance_to_B': True},\n",
    "                        mapbox_style='carto-positron', zoom=8, height=600)\n",
    "\n",
    "\n",
    "fig.add_trace(px.line_mapbox(df_vis, lat='latitude', lon='longitude',  text='street_address').data[0])\n",
    "\n",
    "\n",
    "fig.update_layout(\n",
    "    title=\"Charging Stations Along the Route from Starting Location to Destination\",\n",
    "    margin={\"r\":0,\"t\":0,\"l\":0,\"b\":0},\n",
    "    showlegend=True\n",
    ")\n",
    "\n",
    "fig.show()\n"
   ]
  }
 ],
 "metadata": {
  "kernelspec": {
   "display_name": "Python 3",
   "language": "python",
   "name": "python3"
  },
  "language_info": {
   "codemirror_mode": {
    "name": "ipython",
    "version": 3
   },
   "file_extension": ".py",
   "mimetype": "text/x-python",
   "name": "python",
   "nbconvert_exporter": "python",
   "pygments_lexer": "ipython3",
   "version": "3.12.4"
  }
 },
 "nbformat": 4,
 "nbformat_minor": 2
}
